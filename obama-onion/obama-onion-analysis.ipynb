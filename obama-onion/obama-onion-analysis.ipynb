{
 "cells": [
  {
   "cell_type": "markdown",
   "metadata": {},
   "source": [
    "# Obama & The Onion: An Analysis\n",
    "\n",
    "This notebook contains analysis of every story The Onion wrote during Obama's presidency, as determined by their  [_Black Man Does 8 Years_](www.theonion.com/interactive/obama) feature.\n",
    "\n"
   ]
  },
  {
   "cell_type": "code",
   "execution_count": 1,
   "metadata": {
    "collapsed": true
   },
   "outputs": [],
   "source": [
    "import pandas as pd\n",
    "import numpy as np\n",
    "import datetime\n",
    "import matplotlib.pyplot as plt\n",
    "from sklearn.feature_extraction.text import CountVectorizer, TfidfVectorizer\n",
    "from textblob import TextBlob, Word\n",
    "from sklearn.cross_validation import train_test_split\n",
    "from sklearn.naive_bayes import MultinomialNB\n",
    "from sklearn import svm, metrics\n",
    "from sklearn.grid_search import GridSearchCV\n",
    "from sklearn.cross_validation import cross_val_score\n",
    "# plot inline\n",
    "%matplotlib inline"
   ]
  },
  {
   "cell_type": "code",
   "execution_count": 2,
   "metadata": {
    "collapsed": true
   },
   "outputs": [],
   "source": [
    "# increase default figure and font sizes for easier viewing\n",
    "plt.rcParams['figure.figsize'] = (8, 6)\n",
    "plt.rcParams['font.size'] = 14"
   ]
  },
  {
   "cell_type": "code",
   "execution_count": 3,
   "metadata": {
    "collapsed": false
   },
   "outputs": [],
   "source": [
    "# always be stylish\n",
    "plt.style.use('ggplot')"
   ]
  },
  {
   "cell_type": "markdown",
   "metadata": {},
   "source": [
    "## Rudimentary EDA"
   ]
  },
  {
   "cell_type": "code",
   "execution_count": 4,
   "metadata": {
    "collapsed": false
   },
   "outputs": [],
   "source": [
    "# load data\n",
    "obama = pd.read_csv('obama_scraped.csv')"
   ]
  },
  {
   "cell_type": "code",
   "execution_count": 5,
   "metadata": {
    "collapsed": false
   },
   "outputs": [
    {
     "data": {
      "text/html": [
       "<div>\n",
       "<table border=\"1\" class=\"dataframe\">\n",
       "  <thead>\n",
       "    <tr style=\"text-align: right;\">\n",
       "      <th></th>\n",
       "      <th>Unnamed: 0</th>\n",
       "      <th>link</th>\n",
       "      <th>title</th>\n",
       "      <th>date</th>\n",
       "      <th>tag0</th>\n",
       "      <th>tag1</th>\n",
       "      <th>tag2</th>\n",
       "      <th>tag3</th>\n",
       "      <th>tag4</th>\n",
       "      <th>body</th>\n",
       "    </tr>\n",
       "  </thead>\n",
       "  <tbody>\n",
       "    <tr>\n",
       "      <th>0</th>\n",
       "      <td>0</td>\n",
       "      <td>http://theonion.com/article/black-guy-asks-nat...</td>\n",
       "      <td>Black Guy Asks Nation For Change\\n</td>\n",
       "      <td>March 19, 2008</td>\n",
       "      <td>Politics</td>\n",
       "      <td>Politicians</td>\n",
       "      <td>Presidents</td>\n",
       "      <td>Campaigns</td>\n",
       "      <td>NaN</td>\n",
       "      <td>[CHICAGO—According to witnesses, a loud black ...</td>\n",
       "    </tr>\n",
       "    <tr>\n",
       "      <th>1</th>\n",
       "      <td>1</td>\n",
       "      <td>http://theonion.com/article/obama-clinton-mcca...</td>\n",
       "      <td>Obama, Clinton, McCain Join Forces To Form Nig...</td>\n",
       "      <td>May 21, 2008</td>\n",
       "      <td>Politics</td>\n",
       "      <td>War For The White House</td>\n",
       "      <td>Hillary Clinton</td>\n",
       "      <td>John Mccain</td>\n",
       "      <td>Barack Obama</td>\n",
       "      <td>[WASHINGTON—Presidential hopefuls John McCain ...</td>\n",
       "    </tr>\n",
       "    <tr>\n",
       "      <th>2</th>\n",
       "      <td>2</td>\n",
       "      <td>http://theonion.com/article/obama-practices-lo...</td>\n",
       "      <td>Obama Practices Looking-Off-Into-Future Pose\\n</td>\n",
       "      <td>May 28, 2008</td>\n",
       "      <td>Politics</td>\n",
       "      <td>War For The White House</td>\n",
       "      <td>Barack Obama</td>\n",
       "      <td>NaN</td>\n",
       "      <td>NaN</td>\n",
       "      <td>[CHICAGO—As the 2008 presidential election dra...</td>\n",
       "    </tr>\n",
       "    <tr>\n",
       "      <th>3</th>\n",
       "      <td>3</td>\n",
       "      <td>http://theonion.com/article/time-publishes-def...</td>\n",
       "      <td>'Time' Publishes Definitive Obama Puff Piece\\n</td>\n",
       "      <td>July 18, 2008</td>\n",
       "      <td>Politics</td>\n",
       "      <td>War For The White House</td>\n",
       "      <td>Barack Obama</td>\n",
       "      <td>NaN</td>\n",
       "      <td>NaN</td>\n",
       "      <td>[NEW YORK—Hailed by media critics as the fluff...</td>\n",
       "    </tr>\n",
       "    <tr>\n",
       "      <th>4</th>\n",
       "      <td>4</td>\n",
       "      <td>http://theonion.com/article/obamas-hillbilly-h...</td>\n",
       "      <td>Obama's Hillbilly Half-Brother Threatening To ...</td>\n",
       "      <td>August 13, 2008</td>\n",
       "      <td>Politics</td>\n",
       "      <td>Family</td>\n",
       "      <td>Presidents</td>\n",
       "      <td>Rural</td>\n",
       "      <td>War For The White House</td>\n",
       "      <td>[BOONEVILLE, KY—Barack Obama's once-commanding...</td>\n",
       "    </tr>\n",
       "  </tbody>\n",
       "</table>\n",
       "</div>"
      ],
      "text/plain": [
       "   Unnamed: 0                                               link  \\\n",
       "0           0  http://theonion.com/article/black-guy-asks-nat...   \n",
       "1           1  http://theonion.com/article/obama-clinton-mcca...   \n",
       "2           2  http://theonion.com/article/obama-practices-lo...   \n",
       "3           3  http://theonion.com/article/time-publishes-def...   \n",
       "4           4  http://theonion.com/article/obamas-hillbilly-h...   \n",
       "\n",
       "                                               title             date  \\\n",
       "0                 Black Guy Asks Nation For Change\\n   March 19, 2008   \n",
       "1  Obama, Clinton, McCain Join Forces To Form Nig...     May 21, 2008   \n",
       "2     Obama Practices Looking-Off-Into-Future Pose\\n     May 28, 2008   \n",
       "3     'Time' Publishes Definitive Obama Puff Piece\\n    July 18, 2008   \n",
       "4  Obama's Hillbilly Half-Brother Threatening To ...  August 13, 2008   \n",
       "\n",
       "       tag0                     tag1             tag2         tag3  \\\n",
       "0  Politics              Politicians       Presidents    Campaigns   \n",
       "1  Politics  War For The White House  Hillary Clinton  John Mccain   \n",
       "2  Politics  War For The White House     Barack Obama          NaN   \n",
       "3  Politics  War For The White House     Barack Obama          NaN   \n",
       "4  Politics                   Family       Presidents        Rural   \n",
       "\n",
       "                      tag4                                               body  \n",
       "0                      NaN  [CHICAGO—According to witnesses, a loud black ...  \n",
       "1             Barack Obama  [WASHINGTON—Presidential hopefuls John McCain ...  \n",
       "2                      NaN  [CHICAGO—As the 2008 presidential election dra...  \n",
       "3                      NaN  [NEW YORK—Hailed by media critics as the fluff...  \n",
       "4  War For The White House  [BOONEVILLE, KY—Barack Obama's once-commanding...  "
      ]
     },
     "execution_count": 5,
     "metadata": {},
     "output_type": "execute_result"
    }
   ],
   "source": [
    "obama.head()"
   ]
  },
  {
   "cell_type": "code",
   "execution_count": 6,
   "metadata": {
    "collapsed": true
   },
   "outputs": [],
   "source": [
    "# drop pesky unnamed column\n",
    "obama.drop('Unnamed: 0', axis=1, inplace=True)"
   ]
  },
  {
   "cell_type": "code",
   "execution_count": 7,
   "metadata": {
    "collapsed": true
   },
   "outputs": [],
   "source": [
    "# set date columns to datetime object\n",
    "obama['date'] = pd.to_datetime(obama['date'])"
   ]
  },
  {
   "cell_type": "code",
   "execution_count": 8,
   "metadata": {
    "collapsed": false
   },
   "outputs": [
    {
     "data": {
      "text/plain": [
       "array(['Politics', 'War For The White House', 'Sports', 'Crime & Justice',\n",
       "       'Survival', 'Health', 'Jobs', 'Family', 'Economy', 'Barack Obama',\n",
       "       'Revenge', 'News', 'Politicians', 'Opinion', 'Our Annual Year 2012',\n",
       "       nan, 'Animals', 'Science & Technology', 'Business', 'Violence',\n",
       "       'World', 'Entertainment', 'Death', 'Environment',\n",
       "       'Self-Improvement', 'Time Travel', 'Ecstasy Of Defeat', 'Comics',\n",
       "       'Elections', 'John Mccain', 'Disasters', 'Senior Citizens', 'War',\n",
       "       'Healthcare', 'Basketball', 'Natural Disasters',\n",
       "       'Our Annual Year 2011', 'Gay & Lesbian', 'Presidents',\n",
       "       'Unsponsored', 'College Basketball', 'Iran', 'Human Interest',\n",
       "       'Our Annual Year 2013', 'Football', 'Sex', 'Government', 'Fitness',\n",
       "       'Terrorism', 'Police', 'Education', 'Guns', 'College',\n",
       "       'World Leaders', 'Supreme Court', 'Movies', 'Pets',\n",
       "       'Hillary Clinton', 'Voting', 'Electronics', 'Tom Vilsack',\n",
       "       'Yu Wan Mei', 'Military', 'Music', 'Ifc', 'Mitt Romney',\n",
       "       'Foreign Policy', 'Video Games', 'Transportation', 'Lifestyle',\n",
       "       'Our Annual Year 2014', 'Middle East', 'Energy', 'Money',\n",
       "       'Baseball', 'Congress', 'Election 2016', 'Campaigns', 'Rural',\n",
       "       'Sports Year In Review 2010', 'Syria', 'Breaking', 'Social Media',\n",
       "       'National Security', 'Kids', 'Finance', 'Dogs', 'Recession',\n",
       "       'Editorial', 'Isis'], dtype=object)"
      ]
     },
     "execution_count": 8,
     "metadata": {},
     "output_type": "execute_result"
    }
   ],
   "source": [
    "# check unique story content tags\n",
    "pd.concat([obama['tag0'], obama['tag1'], obama['tag2'], obama['tag3'], obama['tag4']]).unique()"
   ]
  },
  {
   "cell_type": "code",
   "execution_count": 9,
   "metadata": {
    "collapsed": false
   },
   "outputs": [
    {
     "data": {
      "text/plain": [
       "Politics                   190\n",
       "Barack Obama               189\n",
       "Politicians                108\n",
       "News                        45\n",
       "War For The White House     29\n",
       "Government                  11\n",
       "Our Annual Year 2012        10\n",
       "Opinion                      9\n",
       "War                          8\n",
       "Our Annual Year 2013         8\n",
       "Healthcare                   7\n",
       "Presidents                   7\n",
       "Our Annual Year 2011         7\n",
       "World Leaders                7\n",
       "World                        6\n",
       "Economy                      5\n",
       "Sports                       5\n",
       "Violence                     4\n",
       "Guns                         4\n",
       "Family                       4\n",
       "Syria                        4\n",
       "Health                       3\n",
       "Isis                         3\n",
       "Hillary Clinton              3\n",
       "Foreign Policy               3\n",
       "Lifestyle                    3\n",
       "Military                     3\n",
       "Terrorism                    3\n",
       "Unsponsored                  2\n",
       "Mitt Romney                  2\n",
       "                          ... \n",
       "Supreme Court                1\n",
       "Human Interest               1\n",
       "Football                     1\n",
       "College                      1\n",
       "Yu Wan Mei                   1\n",
       "Editorial                    1\n",
       "Finance                      1\n",
       "Energy                       1\n",
       "Money                        1\n",
       "Electronics                  1\n",
       "Movies                       1\n",
       "Time Travel                  1\n",
       "Fitness                      1\n",
       "Campaigns                    1\n",
       "Iran                         1\n",
       "Revenge                      1\n",
       "Video Games                  1\n",
       "Survival                     1\n",
       "Police                       1\n",
       "Social Media                 1\n",
       "Dogs                         1\n",
       "Ecstasy Of Defeat            1\n",
       "Self-Improvement             1\n",
       "Rural                        1\n",
       "Entertainment                1\n",
       "Disasters                    1\n",
       "Education                    1\n",
       "Transportation               1\n",
       "Voting                       1\n",
       "Death                        1\n",
       "dtype: int64"
      ]
     },
     "execution_count": 9,
     "metadata": {},
     "output_type": "execute_result"
    }
   ],
   "source": [
    "# how many of each content tag?\n",
    "pd.concat([obama['tag0'], obama['tag1'], obama['tag2'], obama['tag3'], obama['tag4']]).value_counts()"
   ]
  },
  {
   "cell_type": "code",
   "execution_count": 10,
   "metadata": {
    "collapsed": false
   },
   "outputs": [
    {
     "data": {
      "text/plain": [
       "<matplotlib.text.Text at 0x116739190>"
      ]
     },
     "execution_count": 10,
     "metadata": {},
     "output_type": "execute_result"
    },
    {
     "data": {
      "image/png": "[encoded data removed]",
      "text/plain": [
       "<matplotlib.figure.Figure at 0x1049ec850>"
      ]
     },
     "metadata": {},
     "output_type": "display_data"
    }
   ],
   "source": [
    "# top 10 most common story content tags\n",
    "pd.concat([obama['tag0'], obama['tag1'], obama['tag2'], obama['tag3'], obama['tag4']]).value_counts().nlargest(10).plot(kind='bar', title='Top 10 Content Tags')\n",
    "# plt.xlabel('Content Tag')\n",
    "plt.ylabel('Frequency')"
   ]
  },
  {
   "cell_type": "markdown",
   "metadata": {},
   "source": [
    "## Time Series"
   ]
  },
  {
   "cell_type": "code",
   "execution_count": 11,
   "metadata": {
    "collapsed": false
   },
   "outputs": [],
   "source": [
    "# plot stories over time\n",
    "ts = obama.set_index('date')"
   ]
  },
  {
   "cell_type": "code",
   "execution_count": 12,
   "metadata": {
    "collapsed": false
   },
   "outputs": [
    {
     "data": {
      "text/plain": [
       "Index([u'link', u'title', u'date', u'tag0', u'tag1', u'tag2', u'tag3', u'tag4',\n",
       "       u'body'],\n",
       "      dtype='object')"
      ]
     },
     "execution_count": 12,
     "metadata": {},
     "output_type": "execute_result"
    }
   ],
   "source": [
    "# columns?\n",
    "obama.columns"
   ]
  },
  {
   "cell_type": "code",
   "execution_count": 13,
   "metadata": {
    "collapsed": true
   },
   "outputs": [],
   "source": [
    "ts['Total'] = obama.index+1"
   ]
  },
  {
   "cell_type": "code",
   "execution_count": 14,
   "metadata": {
    "collapsed": false
   },
   "outputs": [],
   "source": [
    "# rename unnamed: 0 to 'Total' for the plot\n",
    "# ts.columns = ['Total', u'link', u'title', u'tag0', u'tag1', u'tag2', u'tag3',u'tag4', u'body']"
   ]
  },
  {
   "cell_type": "code",
   "execution_count": 15,
   "metadata": {
    "collapsed": false
   },
   "outputs": [
    {
     "data": {
      "text/plain": [
       "<matplotlib.text.Text at 0x1169bb650>"
      ]
     },
     "execution_count": 15,
     "metadata": {},
     "output_type": "execute_result"
    },
    {
     "data": {
      "image/png": "[encoded data removed]",
      "text/plain": [
       "<matplotlib.figure.Figure at 0x1166dae50>"
      ]
     },
     "metadata": {},
     "output_type": "display_data"
    }
   ],
   "source": [
    "# plot it\n",
    "ts.plot()\n",
    "plt.xlabel('Time')\n",
    "plt.ylabel('Stories')"
   ]
  },
  {
   "cell_type": "code",
   "execution_count": 16,
   "metadata": {
    "collapsed": false
   },
   "outputs": [],
   "source": [
    "# plot story length over time\n",
    "def get_length(text):\n",
    "    return len(text)"
   ]
  },
  {
   "cell_type": "code",
   "execution_count": 17,
   "metadata": {
    "collapsed": true
   },
   "outputs": [],
   "source": [
    "ts['length'] = ts.body.apply(get_length)"
   ]
  },
  {
   "cell_type": "code",
   "execution_count": 18,
   "metadata": {
    "collapsed": false
   },
   "outputs": [
    {
     "data": {
      "text/plain": [
       "<matplotlib.text.Text at 0x116d3d910>"
      ]
     },
     "execution_count": 18,
     "metadata": {},
     "output_type": "execute_result"
    },
    {
     "data": {
      "image/png": "[encoded data removed]",
      "text/plain": [
       "<matplotlib.figure.Figure at 0x116d19ad0>"
      ]
     },
     "metadata": {},
     "output_type": "display_data"
    }
   ],
   "source": [
    "ts.plot(x=ts.index, y='length')\n",
    "plt.xlabel('Time')\n",
    "plt.ylabel('Stories')"
   ]
  },
  {
   "cell_type": "code",
   "execution_count": 19,
   "metadata": {
    "collapsed": false
   },
   "outputs": [
    {
     "data": {
      "image/png": "[encoded data removed]",
      "text/plain": [
       "<matplotlib.figure.Figure at 0x116ded9d0>"
      ]
     },
     "metadata": {},
     "output_type": "display_data"
    }
   ],
   "source": [
    "# let's plot a rolling mean instead; the above is too noisey\n",
    "fig = plt.figure(figsize=(8, 6))\n",
    "plt.plot(ts.length.rolling(window=10,center=False).mean(), label='Rolling Mean, 10 Stories')\n",
    "plt.legend(loc='best')\n",
    "plt.title('Story Length Over Time')\n",
    "plt.ylabel('Story Length')\n",
    "plt.xlabel('Time')\n",
    "plt.show()"
   ]
  },
  {
   "cell_type": "code",
   "execution_count": 20,
   "metadata": {
    "collapsed": false,
    "scrolled": true
   },
   "outputs": [
    {
     "data": {
      "text/html": [
       "<div>\n",
       "<table border=\"1\" class=\"dataframe\">\n",
       "  <thead>\n",
       "    <tr style=\"text-align: right;\">\n",
       "      <th></th>\n",
       "      <th>link</th>\n",
       "      <th>title</th>\n",
       "      <th>tag0</th>\n",
       "      <th>tag1</th>\n",
       "      <th>tag2</th>\n",
       "      <th>tag3</th>\n",
       "      <th>tag4</th>\n",
       "      <th>body</th>\n",
       "      <th>Total</th>\n",
       "      <th>length</th>\n",
       "    </tr>\n",
       "    <tr>\n",
       "      <th>date</th>\n",
       "      <th></th>\n",
       "      <th></th>\n",
       "      <th></th>\n",
       "      <th></th>\n",
       "      <th></th>\n",
       "      <th></th>\n",
       "      <th></th>\n",
       "      <th></th>\n",
       "      <th></th>\n",
       "      <th></th>\n",
       "    </tr>\n",
       "  </thead>\n",
       "  <tbody>\n",
       "    <tr>\n",
       "      <th>2013-06-05</th>\n",
       "      <td>http://theonion.com/article/obama-takes-excite...</td>\n",
       "      <td>Obama Takes Excited Daughters Out For Day Of D...</td>\n",
       "      <td>News</td>\n",
       "      <td>Politicians</td>\n",
       "      <td>Barack Obama</td>\n",
       "      <td>Our Annual Year 2013</td>\n",
       "      <td>NaN</td>\n",
       "      <td>[WANA, PAKISTAN—Calling it a chance to get som...</td>\n",
       "      <td>166</td>\n",
       "      <td>922</td>\n",
       "    </tr>\n",
       "    <tr>\n",
       "      <th>2013-06-06</th>\n",
       "      <td>http://theonion.com/article/obama-administrati...</td>\n",
       "      <td>Obama Administration Releases Nation’s Phone R...</td>\n",
       "      <td>Politics</td>\n",
       "      <td>Politicians</td>\n",
       "      <td>Barack Obama</td>\n",
       "      <td>NaN</td>\n",
       "      <td>NaN</td>\n",
       "      <td>[WASHINGTON—On the heels of reports that the N...</td>\n",
       "      <td>167</td>\n",
       "      <td>1188</td>\n",
       "    </tr>\n",
       "    <tr>\n",
       "      <th>2013-06-17</th>\n",
       "      <td>http://theonion.com/article/michelle-obama-see...</td>\n",
       "      <td>Michelle Obama Seen Outside Walking Family Rhi...</td>\n",
       "      <td>News</td>\n",
       "      <td>Animals</td>\n",
       "      <td>Politicians</td>\n",
       "      <td>Our Annual Year 2013</td>\n",
       "      <td>NaN</td>\n",
       "      <td>[WASHINGTON—Spectators outside the White House...</td>\n",
       "      <td>168</td>\n",
       "      <td>977</td>\n",
       "    </tr>\n",
       "    <tr>\n",
       "      <th>2013-06-18</th>\n",
       "      <td>http://theonion.com/blogpost/sometimes-when-th...</td>\n",
       "      <td>Sometimes When Things Get Really Stressful, I ...</td>\n",
       "      <td>Barack Obama</td>\n",
       "      <td>Opinion</td>\n",
       "      <td>NaN</td>\n",
       "      <td>NaN</td>\n",
       "      <td>NaN</td>\n",
       "      <td>[Leading the greatest country in the world is ...</td>\n",
       "      <td>169</td>\n",
       "      <td>4927</td>\n",
       "    </tr>\n",
       "    <tr>\n",
       "      <th>2013-07-15</th>\n",
       "      <td>http://theonion.com/article/michelle-obama-fin...</td>\n",
       "      <td>Michelle Obama Finally Gets Around To Reading ...</td>\n",
       "      <td>Politics</td>\n",
       "      <td>Politicians</td>\n",
       "      <td>Barack Obama</td>\n",
       "      <td>NaN</td>\n",
       "      <td>NaN</td>\n",
       "      <td>[WASHINGTON—Saying that she had put it off for...</td>\n",
       "      <td>170</td>\n",
       "      <td>916</td>\n",
       "    </tr>\n",
       "    <tr>\n",
       "      <th>2013-07-19</th>\n",
       "      <td>http://theonion.com/article/tiny-advisor-who-l...</td>\n",
       "      <td>Tiny Advisor Who Lived In Obama’s Ear Dead At ...</td>\n",
       "      <td>Politics</td>\n",
       "      <td>Politicians</td>\n",
       "      <td>Barack Obama</td>\n",
       "      <td>Our Annual Year 2013</td>\n",
       "      <td>Breaking</td>\n",
       "      <td>[WASHINGTON—Robert Linder, a miniature man who...</td>\n",
       "      <td>171</td>\n",
       "      <td>4721</td>\n",
       "    </tr>\n",
       "    <tr>\n",
       "      <th>2013-08-07</th>\n",
       "      <td>http://theonion.com/article/obama-not-sure-how...</td>\n",
       "      <td>Obama Not Sure How To Tell Nation This, But He...</td>\n",
       "      <td>News</td>\n",
       "      <td>Politics</td>\n",
       "      <td>Transportation</td>\n",
       "      <td>Barack Obama</td>\n",
       "      <td>Our Annual Year 2013</td>\n",
       "      <td>[WASHINGTON—Sighing and shaking his head, a sh...</td>\n",
       "      <td>172</td>\n",
       "      <td>4190</td>\n",
       "    </tr>\n",
       "    <tr>\n",
       "      <th>2013-08-20</th>\n",
       "      <td>http://theonion.com/article/psychiatrist-patie...</td>\n",
       "      <td>Psychiatrist Patiently Listens To Obama Compla...</td>\n",
       "      <td>Politics</td>\n",
       "      <td>Politicians</td>\n",
       "      <td>Barack Obama</td>\n",
       "      <td>NaN</td>\n",
       "      <td>NaN</td>\n",
       "      <td>[WASHINGTON—Carefully jotting down notes as th...</td>\n",
       "      <td>173</td>\n",
       "      <td>4812</td>\n",
       "    </tr>\n",
       "    <tr>\n",
       "      <th>2013-08-20</th>\n",
       "      <td>http://theonion.com/article/obama-family-adopt...</td>\n",
       "      <td>Obama Family Adopts 44-Year-Old Portuguese Wat...</td>\n",
       "      <td>News</td>\n",
       "      <td>Barack Obama</td>\n",
       "      <td>NaN</td>\n",
       "      <td>NaN</td>\n",
       "      <td>NaN</td>\n",
       "      <td>[WASHINGTON—Providing a friendly playmate for ...</td>\n",
       "      <td>174</td>\n",
       "      <td>951</td>\n",
       "    </tr>\n",
       "    <tr>\n",
       "      <th>2013-08-22</th>\n",
       "      <td>http://theonion.com/article/obama-deeply-conce...</td>\n",
       "      <td>Obama Deeply Concerned After Syrians Gassed To...</td>\n",
       "      <td>News</td>\n",
       "      <td>Politicians</td>\n",
       "      <td>Barack Obama</td>\n",
       "      <td>NaN</td>\n",
       "      <td>NaN</td>\n",
       "      <td>[WASHINGTON—Assuring the nation that he was “c...</td>\n",
       "      <td>175</td>\n",
       "      <td>1266</td>\n",
       "    </tr>\n",
       "    <tr>\n",
       "      <th>2013-08-27</th>\n",
       "      <td>http://theonion.com/article/obama-weighing-his...</td>\n",
       "      <td>Obama Weighing His Syria Option\\n</td>\n",
       "      <td>Politics</td>\n",
       "      <td>Politicians</td>\n",
       "      <td>Barack Obama</td>\n",
       "      <td>Syria</td>\n",
       "      <td>NaN</td>\n",
       "      <td>[WASHINGTON—Facing mounting domestic and inter...</td>\n",
       "      <td>176</td>\n",
       "      <td>1333</td>\n",
       "    </tr>\n",
       "    <tr>\n",
       "      <th>2013-08-30</th>\n",
       "      <td>http://theonion.com/article/obama-throws-up-ri...</td>\n",
       "      <td>Obama Throws Up Right There During Syria Meeti...</td>\n",
       "      <td>Politics</td>\n",
       "      <td>Politicians</td>\n",
       "      <td>Barack Obama</td>\n",
       "      <td>Syria</td>\n",
       "      <td>NaN</td>\n",
       "      <td>[WASHINGTON—During a meeting with Cabinet-leve...</td>\n",
       "      <td>177</td>\n",
       "      <td>1237</td>\n",
       "    </tr>\n",
       "    <tr>\n",
       "      <th>2013-09-03</th>\n",
       "      <td>http://theonion.com/article/obama-assures-amer...</td>\n",
       "      <td>Obama Assures Americans This Will Not Be Anoth...</td>\n",
       "      <td>Politics</td>\n",
       "      <td>Politicians</td>\n",
       "      <td>Barack Obama</td>\n",
       "      <td>Syria</td>\n",
       "      <td>NaN</td>\n",
       "      <td>[WASHINGTON—As fierce debate continued this we...</td>\n",
       "      <td>178</td>\n",
       "      <td>4243</td>\n",
       "    </tr>\n",
       "    <tr>\n",
       "      <th>2013-09-18</th>\n",
       "      <td>http://theonion.com/article/obama-meets-with-n...</td>\n",
       "      <td>Obama Meets With Nation’s Schizophrenic Voices...</td>\n",
       "      <td>Politics</td>\n",
       "      <td>Politicians</td>\n",
       "      <td>Barack Obama</td>\n",
       "      <td>NaN</td>\n",
       "      <td>NaN</td>\n",
       "      <td>[WASHINGTON—With the nation still reeling from...</td>\n",
       "      <td>179</td>\n",
       "      <td>4166</td>\n",
       "    </tr>\n",
       "    <tr>\n",
       "      <th>2013-09-26</th>\n",
       "      <td>http://theonion.com/article/man-who-understand...</td>\n",
       "      <td>Man Who Understands 8% Of Obamacare Vigorously...</td>\n",
       "      <td>Politics</td>\n",
       "      <td>Politicians</td>\n",
       "      <td>Healthcare</td>\n",
       "      <td>NaN</td>\n",
       "      <td>NaN</td>\n",
       "      <td>[SEATTLE—As debate continues in Washington ove...</td>\n",
       "      <td>180</td>\n",
       "      <td>4792</td>\n",
       "    </tr>\n",
       "    <tr>\n",
       "      <th>2013-10-04</th>\n",
       "      <td>http://theonion.com/article/tea-party-leaders-...</td>\n",
       "      <td>Tea Party Leaders Announce Support For Deal In...</td>\n",
       "      <td>Politics</td>\n",
       "      <td>Politicians</td>\n",
       "      <td>NaN</td>\n",
       "      <td>NaN</td>\n",
       "      <td>NaN</td>\n",
       "      <td>[WASHINGTON—As the federal government shutdown...</td>\n",
       "      <td>181</td>\n",
       "      <td>3020</td>\n",
       "    </tr>\n",
       "    <tr>\n",
       "      <th>2013-10-07</th>\n",
       "      <td>http://theonion.com/article/high-powered-washi...</td>\n",
       "      <td>High-Powered Washington Fixer Tells Blood-Soak...</td>\n",
       "      <td>Politics</td>\n",
       "      <td>Politicians</td>\n",
       "      <td>NaN</td>\n",
       "      <td>NaN</td>\n",
       "      <td>NaN</td>\n",
       "      <td>[WASHINGTON—Stating that he had been informed ...</td>\n",
       "      <td>182</td>\n",
       "      <td>4323</td>\n",
       "    </tr>\n",
       "    <tr>\n",
       "      <th>2013-10-09</th>\n",
       "      <td>http://theonion.com/article/michelle-obama-ope...</td>\n",
       "      <td>Michelle Obama Opens Up In ‘Marie Claire’: ‘Ou...</td>\n",
       "      <td>Politicians</td>\n",
       "      <td>Sex</td>\n",
       "      <td>Lifestyle</td>\n",
       "      <td>NaN</td>\n",
       "      <td>NaN</td>\n",
       "      <td>[WASHINGTON—Sitting down for a candid intervie...</td>\n",
       "      <td>183</td>\n",
       "      <td>5232</td>\n",
       "    </tr>\n",
       "    <tr>\n",
       "      <th>2013-10-10</th>\n",
       "      <td>http://theonion.com/article/obamacare-helps-un...</td>\n",
       "      <td>Obamacare Helps Uninsured Americans Become Bli...</td>\n",
       "      <td>News</td>\n",
       "      <td>Government</td>\n",
       "      <td>Healthcare</td>\n",
       "      <td>NaN</td>\n",
       "      <td>NaN</td>\n",
       "      <td>[WASHINGTON—Following this month’s rollout of ...</td>\n",
       "      <td>184</td>\n",
       "      <td>1246</td>\n",
       "    </tr>\n",
       "    <tr>\n",
       "      <th>2013-10-16</th>\n",
       "      <td>http://theonion.com/article/obama-announces-st...</td>\n",
       "      <td>Obama Announces Start Of Annual D.C. Spooktacu...</td>\n",
       "      <td>Politicians</td>\n",
       "      <td>Barack Obama</td>\n",
       "      <td>Lifestyle</td>\n",
       "      <td>NaN</td>\n",
       "      <td>NaN</td>\n",
       "      <td>[WASHINGTON—Addressing the nation from a candl...</td>\n",
       "      <td>185</td>\n",
       "      <td>4922</td>\n",
       "    </tr>\n",
       "    <tr>\n",
       "      <th>2013-11-11</th>\n",
       "      <td>http://theonion.com/blogpost/folks-we-dont-usu...</td>\n",
       "      <td>Folks, We Don't Usually Do This On The White H...</td>\n",
       "      <td>Politics</td>\n",
       "      <td>Barack Obama</td>\n",
       "      <td>Opinion</td>\n",
       "      <td>NaN</td>\n",
       "      <td>NaN</td>\n",
       "      <td>[And so that’s the Vermeil Room, ladies and ge...</td>\n",
       "      <td>186</td>\n",
       "      <td>4075</td>\n",
       "    </tr>\n",
       "    <tr>\n",
       "      <th>2013-11-12</th>\n",
       "      <td>http://theonion.com/article/obama-has-that-sex...</td>\n",
       "      <td>Obama Has That Sex Dream About Nation Again\\n</td>\n",
       "      <td>Politics</td>\n",
       "      <td>Politicians</td>\n",
       "      <td>Sex</td>\n",
       "      <td>Barack Obama</td>\n",
       "      <td>NaN</td>\n",
       "      <td>[WASHINGTON—After awaking from a restless slee...</td>\n",
       "      <td>187</td>\n",
       "      <td>4651</td>\n",
       "    </tr>\n",
       "    <tr>\n",
       "      <th>2013-11-19</th>\n",
       "      <td>http://theonion.com/article/terrified-obama-tr...</td>\n",
       "      <td>Terrified Obama Trapped Inside Healthcare.gov ...</td>\n",
       "      <td>News</td>\n",
       "      <td>Politicians</td>\n",
       "      <td>Barack Obama</td>\n",
       "      <td>NaN</td>\n",
       "      <td>NaN</td>\n",
       "      <td>[WASHINGTON—According to an urgent report issu...</td>\n",
       "      <td>188</td>\n",
       "      <td>3638</td>\n",
       "    </tr>\n",
       "    <tr>\n",
       "      <th>2013-11-20</th>\n",
       "      <td>http://theonion.com/article/white-house-announ...</td>\n",
       "      <td>White House Announces Sasha Obama To Now Be Pl...</td>\n",
       "      <td>Politics</td>\n",
       "      <td>Family</td>\n",
       "      <td>Politicians</td>\n",
       "      <td>Barack Obama</td>\n",
       "      <td>NaN</td>\n",
       "      <td>[WASHINGTON—In a move that has caused a nation...</td>\n",
       "      <td>189</td>\n",
       "      <td>955</td>\n",
       "    </tr>\n",
       "  </tbody>\n",
       "</table>\n",
       "</div>"
      ],
      "text/plain": [
       "                                                         link  \\\n",
       "date                                                            \n",
       "2013-06-05  http://theonion.com/article/obama-takes-excite...   \n",
       "2013-06-06  http://theonion.com/article/obama-administrati...   \n",
       "2013-06-17  http://theonion.com/article/michelle-obama-see...   \n",
       "2013-06-18  http://theonion.com/blogpost/sometimes-when-th...   \n",
       "2013-07-15  http://theonion.com/article/michelle-obama-fin...   \n",
       "2013-07-19  http://theonion.com/article/tiny-advisor-who-l...   \n",
       "2013-08-07  http://theonion.com/article/obama-not-sure-how...   \n",
       "2013-08-20  http://theonion.com/article/psychiatrist-patie...   \n",
       "2013-08-20  http://theonion.com/article/obama-family-adopt...   \n",
       "2013-08-22  http://theonion.com/article/obama-deeply-conce...   \n",
       "2013-08-27  http://theonion.com/article/obama-weighing-his...   \n",
       "2013-08-30  http://theonion.com/article/obama-throws-up-ri...   \n",
       "2013-09-03  http://theonion.com/article/obama-assures-amer...   \n",
       "2013-09-18  http://theonion.com/article/obama-meets-with-n...   \n",
       "2013-09-26  http://theonion.com/article/man-who-understand...   \n",
       "2013-10-04  http://theonion.com/article/tea-party-leaders-...   \n",
       "2013-10-07  http://theonion.com/article/high-powered-washi...   \n",
       "2013-10-09  http://theonion.com/article/michelle-obama-ope...   \n",
       "2013-10-10  http://theonion.com/article/obamacare-helps-un...   \n",
       "2013-10-16  http://theonion.com/article/obama-announces-st...   \n",
       "2013-11-11  http://theonion.com/blogpost/folks-we-dont-usu...   \n",
       "2013-11-12  http://theonion.com/article/obama-has-that-sex...   \n",
       "2013-11-19  http://theonion.com/article/terrified-obama-tr...   \n",
       "2013-11-20  http://theonion.com/article/white-house-announ...   \n",
       "\n",
       "                                                        title          tag0  \\\n",
       "date                                                                          \n",
       "2013-06-05  Obama Takes Excited Daughters Out For Day Of D...          News   \n",
       "2013-06-06  Obama Administration Releases Nation’s Phone R...      Politics   \n",
       "2013-06-17  Michelle Obama Seen Outside Walking Family Rhi...          News   \n",
       "2013-06-18  Sometimes When Things Get Really Stressful, I ...  Barack Obama   \n",
       "2013-07-15  Michelle Obama Finally Gets Around To Reading ...      Politics   \n",
       "2013-07-19  Tiny Advisor Who Lived In Obama’s Ear Dead At ...      Politics   \n",
       "2013-08-07  Obama Not Sure How To Tell Nation This, But He...          News   \n",
       "2013-08-20  Psychiatrist Patiently Listens To Obama Compla...      Politics   \n",
       "2013-08-20  Obama Family Adopts 44-Year-Old Portuguese Wat...          News   \n",
       "2013-08-22  Obama Deeply Concerned After Syrians Gassed To...          News   \n",
       "2013-08-27                  Obama Weighing His Syria Option\\n      Politics   \n",
       "2013-08-30  Obama Throws Up Right There During Syria Meeti...      Politics   \n",
       "2013-09-03  Obama Assures Americans This Will Not Be Anoth...      Politics   \n",
       "2013-09-18  Obama Meets With Nation’s Schizophrenic Voices...      Politics   \n",
       "2013-09-26  Man Who Understands 8% Of Obamacare Vigorously...      Politics   \n",
       "2013-10-04  Tea Party Leaders Announce Support For Deal In...      Politics   \n",
       "2013-10-07  High-Powered Washington Fixer Tells Blood-Soak...      Politics   \n",
       "2013-10-09  Michelle Obama Opens Up In ‘Marie Claire’: ‘Ou...   Politicians   \n",
       "2013-10-10  Obamacare Helps Uninsured Americans Become Bli...          News   \n",
       "2013-10-16  Obama Announces Start Of Annual D.C. Spooktacu...   Politicians   \n",
       "2013-11-11  Folks, We Don't Usually Do This On The White H...      Politics   \n",
       "2013-11-12      Obama Has That Sex Dream About Nation Again\\n      Politics   \n",
       "2013-11-19  Terrified Obama Trapped Inside Healthcare.gov ...          News   \n",
       "2013-11-20  White House Announces Sasha Obama To Now Be Pl...      Politics   \n",
       "\n",
       "                    tag1            tag2                  tag3  \\\n",
       "date                                                             \n",
       "2013-06-05   Politicians    Barack Obama  Our Annual Year 2013   \n",
       "2013-06-06   Politicians    Barack Obama                   NaN   \n",
       "2013-06-17       Animals     Politicians  Our Annual Year 2013   \n",
       "2013-06-18       Opinion             NaN                   NaN   \n",
       "2013-07-15   Politicians    Barack Obama                   NaN   \n",
       "2013-07-19   Politicians    Barack Obama  Our Annual Year 2013   \n",
       "2013-08-07      Politics  Transportation          Barack Obama   \n",
       "2013-08-20   Politicians    Barack Obama                   NaN   \n",
       "2013-08-20  Barack Obama             NaN                   NaN   \n",
       "2013-08-22   Politicians    Barack Obama                   NaN   \n",
       "2013-08-27   Politicians    Barack Obama                 Syria   \n",
       "2013-08-30   Politicians    Barack Obama                 Syria   \n",
       "2013-09-03   Politicians    Barack Obama                 Syria   \n",
       "2013-09-18   Politicians    Barack Obama                   NaN   \n",
       "2013-09-26   Politicians      Healthcare                   NaN   \n",
       "2013-10-04   Politicians             NaN                   NaN   \n",
       "2013-10-07   Politicians             NaN                   NaN   \n",
       "2013-10-09           Sex       Lifestyle                   NaN   \n",
       "2013-10-10    Government      Healthcare                   NaN   \n",
       "2013-10-16  Barack Obama       Lifestyle                   NaN   \n",
       "2013-11-11  Barack Obama         Opinion                   NaN   \n",
       "2013-11-12   Politicians             Sex          Barack Obama   \n",
       "2013-11-19   Politicians    Barack Obama                   NaN   \n",
       "2013-11-20        Family     Politicians          Barack Obama   \n",
       "\n",
       "                            tag4  \\\n",
       "date                               \n",
       "2013-06-05                   NaN   \n",
       "2013-06-06                   NaN   \n",
       "2013-06-17                   NaN   \n",
       "2013-06-18                   NaN   \n",
       "2013-07-15                   NaN   \n",
       "2013-07-19              Breaking   \n",
       "2013-08-07  Our Annual Year 2013   \n",
       "2013-08-20                   NaN   \n",
       "2013-08-20                   NaN   \n",
       "2013-08-22                   NaN   \n",
       "2013-08-27                   NaN   \n",
       "2013-08-30                   NaN   \n",
       "2013-09-03                   NaN   \n",
       "2013-09-18                   NaN   \n",
       "2013-09-26                   NaN   \n",
       "2013-10-04                   NaN   \n",
       "2013-10-07                   NaN   \n",
       "2013-10-09                   NaN   \n",
       "2013-10-10                   NaN   \n",
       "2013-10-16                   NaN   \n",
       "2013-11-11                   NaN   \n",
       "2013-11-12                   NaN   \n",
       "2013-11-19                   NaN   \n",
       "2013-11-20                   NaN   \n",
       "\n",
       "                                                         body  Total  length  \n",
       "date                                                                          \n",
       "2013-06-05  [WANA, PAKISTAN—Calling it a chance to get som...    166     922  \n",
       "2013-06-06  [WASHINGTON—On the heels of reports that the N...    167    1188  \n",
       "2013-06-17  [WASHINGTON—Spectators outside the White House...    168     977  \n",
       "2013-06-18  [Leading the greatest country in the world is ...    169    4927  \n",
       "2013-07-15  [WASHINGTON—Saying that she had put it off for...    170     916  \n",
       "2013-07-19  [WASHINGTON—Robert Linder, a miniature man who...    171    4721  \n",
       "2013-08-07  [WASHINGTON—Sighing and shaking his head, a sh...    172    4190  \n",
       "2013-08-20  [WASHINGTON—Carefully jotting down notes as th...    173    4812  \n",
       "2013-08-20  [WASHINGTON—Providing a friendly playmate for ...    174     951  \n",
       "2013-08-22  [WASHINGTON—Assuring the nation that he was “c...    175    1266  \n",
       "2013-08-27  [WASHINGTON—Facing mounting domestic and inter...    176    1333  \n",
       "2013-08-30  [WASHINGTON—During a meeting with Cabinet-leve...    177    1237  \n",
       "2013-09-03  [WASHINGTON—As fierce debate continued this we...    178    4243  \n",
       "2013-09-18  [WASHINGTON—With the nation still reeling from...    179    4166  \n",
       "2013-09-26  [SEATTLE—As debate continues in Washington ove...    180    4792  \n",
       "2013-10-04  [WASHINGTON—As the federal government shutdown...    181    3020  \n",
       "2013-10-07  [WASHINGTON—Stating that he had been informed ...    182    4323  \n",
       "2013-10-09  [WASHINGTON—Sitting down for a candid intervie...    183    5232  \n",
       "2013-10-10  [WASHINGTON—Following this month’s rollout of ...    184    1246  \n",
       "2013-10-16  [WASHINGTON—Addressing the nation from a candl...    185    4922  \n",
       "2013-11-11  [And so that’s the Vermeil Room, ladies and ge...    186    4075  \n",
       "2013-11-12  [WASHINGTON—After awaking from a restless slee...    187    4651  \n",
       "2013-11-19  [WASHINGTON—According to an urgent report issu...    188    3638  \n",
       "2013-11-20  [WASHINGTON—In a move that has caused a nation...    189     955  "
      ]
     },
     "execution_count": 20,
     "metadata": {},
     "output_type": "execute_result"
    }
   ],
   "source": [
    "# Q: what caused the big spike in length in late 2013? A: Syria, lifestyle stories\n",
    "ts['2013-06-01':'2014-01-01']"
   ]
  },
  {
   "cell_type": "code",
   "execution_count": null,
   "metadata": {
    "collapsed": true
   },
   "outputs": [],
   "source": []
  },
  {
   "cell_type": "code",
   "execution_count": null,
   "metadata": {
    "collapsed": true
   },
   "outputs": [],
   "source": []
  },
  {
   "cell_type": "markdown",
   "metadata": {},
   "source": [
    "## Text Processing"
   ]
  },
  {
   "cell_type": "code",
   "execution_count": 21,
   "metadata": {
    "collapsed": true
   },
   "outputs": [],
   "source": [
    "# grab only text\n",
    "text = obama.body"
   ]
  },
  {
   "cell_type": "code",
   "execution_count": 22,
   "metadata": {
    "collapsed": false
   },
   "outputs": [
    {
     "name": "stdout",
     "output_type": "stream",
     "text": [
      "0    [CHICAGO—According to witnesses, a loud black ...\n",
      "1    [WASHINGTON—Presidential hopefuls John McCain ...\n",
      "2    [CHICAGO—As the 2008 presidential election dra...\n",
      "3    [NEW YORK—Hailed by media critics as the fluff...\n",
      "4    [BOONEVILLE, KY—Barack Obama's once-commanding...\n",
      "Name: body, dtype: object\n"
     ]
    }
   ],
   "source": [
    "# check it out\n",
    "print(text[0:5])"
   ]
  },
  {
   "cell_type": "code",
   "execution_count": 23,
   "metadata": {
    "collapsed": true
   },
   "outputs": [],
   "source": [
    "# create function to grab location\n",
    "def get_location(text):\n",
    "    location, sep, body = text.partition('—')\n",
    "    if len(location) > 100:\n",
    "        return np.nan\n",
    "    else:\n",
    "        return location[1:]"
   ]
  },
  {
   "cell_type": "code",
   "execution_count": 24,
   "metadata": {
    "collapsed": false
   },
   "outputs": [],
   "source": [
    "# create location column\n",
    "obama['location'] = obama.body.apply(get_location)"
   ]
  },
  {
   "cell_type": "code",
   "execution_count": 25,
   "metadata": {
    "collapsed": false
   },
   "outputs": [],
   "source": [
    "# create function to get body text without location\n",
    "def get_body(text):\n",
    "    if '—' in text[0:50]:\n",
    "        location, sep, body = text.partition('—')\n",
    "        if len(location) > 100:\n",
    "            pass\n",
    "        else:\n",
    "            return body\n",
    "    else:\n",
    "        return text"
   ]
  },
  {
   "cell_type": "code",
   "execution_count": 26,
   "metadata": {
    "collapsed": true
   },
   "outputs": [],
   "source": [
    "# replace old body with new location-less body\n",
    "obama['body'] = obama.body.apply(get_body)"
   ]
  },
  {
   "cell_type": "code",
   "execution_count": 27,
   "metadata": {
    "collapsed": false
   },
   "outputs": [
    {
     "data": {
      "text/html": [
       "<div>\n",
       "<table border=\"1\" class=\"dataframe\">\n",
       "  <thead>\n",
       "    <tr style=\"text-align: right;\">\n",
       "      <th></th>\n",
       "      <th>link</th>\n",
       "      <th>title</th>\n",
       "      <th>date</th>\n",
       "      <th>tag0</th>\n",
       "      <th>tag1</th>\n",
       "      <th>tag2</th>\n",
       "      <th>tag3</th>\n",
       "      <th>tag4</th>\n",
       "      <th>body</th>\n",
       "      <th>location</th>\n",
       "    </tr>\n",
       "  </thead>\n",
       "  <tbody>\n",
       "    <tr>\n",
       "      <th>0</th>\n",
       "      <td>http://theonion.com/article/black-guy-asks-nat...</td>\n",
       "      <td>Black Guy Asks Nation For Change\\n</td>\n",
       "      <td>2008-03-19</td>\n",
       "      <td>Politics</td>\n",
       "      <td>Politicians</td>\n",
       "      <td>Presidents</td>\n",
       "      <td>Campaigns</td>\n",
       "      <td>NaN</td>\n",
       "      <td>According to witnesses, a loud black man appro...</td>\n",
       "      <td>CHICAGO</td>\n",
       "    </tr>\n",
       "    <tr>\n",
       "      <th>1</th>\n",
       "      <td>http://theonion.com/article/obama-clinton-mcca...</td>\n",
       "      <td>Obama, Clinton, McCain Join Forces To Form Nig...</td>\n",
       "      <td>2008-05-21</td>\n",
       "      <td>Politics</td>\n",
       "      <td>War For The White House</td>\n",
       "      <td>Hillary Clinton</td>\n",
       "      <td>John Mccain</td>\n",
       "      <td>Barack Obama</td>\n",
       "      <td>Presidential hopefuls John McCain (R-AZ), Bara...</td>\n",
       "      <td>WASHINGTON</td>\n",
       "    </tr>\n",
       "    <tr>\n",
       "      <th>2</th>\n",
       "      <td>http://theonion.com/article/obama-practices-lo...</td>\n",
       "      <td>Obama Practices Looking-Off-Into-Future Pose\\n</td>\n",
       "      <td>2008-05-28</td>\n",
       "      <td>Politics</td>\n",
       "      <td>War For The White House</td>\n",
       "      <td>Barack Obama</td>\n",
       "      <td>NaN</td>\n",
       "      <td>NaN</td>\n",
       "      <td>As the 2008 presidential election draws closer...</td>\n",
       "      <td>CHICAGO</td>\n",
       "    </tr>\n",
       "    <tr>\n",
       "      <th>3</th>\n",
       "      <td>http://theonion.com/article/time-publishes-def...</td>\n",
       "      <td>'Time' Publishes Definitive Obama Puff Piece\\n</td>\n",
       "      <td>2008-07-18</td>\n",
       "      <td>Politics</td>\n",
       "      <td>War For The White House</td>\n",
       "      <td>Barack Obama</td>\n",
       "      <td>NaN</td>\n",
       "      <td>NaN</td>\n",
       "      <td>Hailed by media critics as the fluffiest, most...</td>\n",
       "      <td>NEW YORK</td>\n",
       "    </tr>\n",
       "    <tr>\n",
       "      <th>4</th>\n",
       "      <td>http://theonion.com/article/obamas-hillbilly-h...</td>\n",
       "      <td>Obama's Hillbilly Half-Brother Threatening To ...</td>\n",
       "      <td>2008-08-13</td>\n",
       "      <td>Politics</td>\n",
       "      <td>Family</td>\n",
       "      <td>Presidents</td>\n",
       "      <td>Rural</td>\n",
       "      <td>War For The White House</td>\n",
       "      <td>Barack Obama's once-commanding lead in the pol...</td>\n",
       "      <td>BOONEVILLE, KY</td>\n",
       "    </tr>\n",
       "    <tr>\n",
       "      <th>5</th>\n",
       "      <td>http://theonion.com/article/obama-modifies-yes...</td>\n",
       "      <td>Obama Modifies 'Yes We Can' Message To Exclude...</td>\n",
       "      <td>2008-08-27</td>\n",
       "      <td>Politics</td>\n",
       "      <td>Self-Improvement</td>\n",
       "      <td>Elections</td>\n",
       "      <td>War For The White House</td>\n",
       "      <td>Barack Obama</td>\n",
       "      <td>In a nationally televised speech Friday, Democ...</td>\n",
       "      <td>COLUMBIA, SC</td>\n",
       "    </tr>\n",
       "    <tr>\n",
       "      <th>6</th>\n",
       "      <td>http://theonion.com/article/obama-suddenly-pan...</td>\n",
       "      <td>Obama Suddenly Panicked After Gazing Too Far I...</td>\n",
       "      <td>2008-09-11</td>\n",
       "      <td>Politics</td>\n",
       "      <td>Time Travel</td>\n",
       "      <td>War For The White House</td>\n",
       "      <td>Barack Obama</td>\n",
       "      <td>NaN</td>\n",
       "      <td>Sen. Barack Obama (D-IL) fell deathly silent i...</td>\n",
       "      <td>MADISON, WI</td>\n",
       "    </tr>\n",
       "    <tr>\n",
       "      <th>7</th>\n",
       "      <td>http://theonion.com/article/obama-deletes-anot...</td>\n",
       "      <td>Obama Deletes Another Unread MoveOn.org E-Mail\\n</td>\n",
       "      <td>2008-09-17</td>\n",
       "      <td>Politics</td>\n",
       "      <td>War For The White House</td>\n",
       "      <td>Barack Obama</td>\n",
       "      <td>NaN</td>\n",
       "      <td>NaN</td>\n",
       "      <td>After receiving yet another unwanted e-mail fr...</td>\n",
       "      <td>CHICAGO</td>\n",
       "    </tr>\n",
       "    <tr>\n",
       "      <th>8</th>\n",
       "      <td>http://theonion.com/article/parents-of-obama-v...</td>\n",
       "      <td>Parents Of Obama Volunteer Couldn't Be More Pr...</td>\n",
       "      <td>2008-10-02</td>\n",
       "      <td>Politics</td>\n",
       "      <td>War For The White House</td>\n",
       "      <td>Barack Obama</td>\n",
       "      <td>NaN</td>\n",
       "      <td>NaN</td>\n",
       "      <td>Parents of Obama '08 campaign volunteer Mark L...</td>\n",
       "      <td>OAK PARK, IL</td>\n",
       "    </tr>\n",
       "    <tr>\n",
       "      <th>9</th>\n",
       "      <td>http://theonion.com/article/obama-clinches-joe...</td>\n",
       "      <td>Obama Clinches 'Joe Cabernet Sauvignon' Vote\\n</td>\n",
       "      <td>2008-10-08</td>\n",
       "      <td>War For The White House</td>\n",
       "      <td>Barack Obama</td>\n",
       "      <td>NaN</td>\n",
       "      <td>NaN</td>\n",
       "      <td>NaN</td>\n",
       "      <td>Following a strong performance by the Democrat...</td>\n",
       "      <td>WASHINGTON</td>\n",
       "    </tr>\n",
       "    <tr>\n",
       "      <th>10</th>\n",
       "      <td>http://theonion.com/article/obama-under-fire-f...</td>\n",
       "      <td>Obama Under Fire For Playing T-Ball During Vie...</td>\n",
       "      <td>2008-10-10</td>\n",
       "      <td>Politics</td>\n",
       "      <td>War For The White House</td>\n",
       "      <td>Barack Obama</td>\n",
       "      <td>NaN</td>\n",
       "      <td>NaN</td>\n",
       "      <td>At a press conference on Monday, members of th...</td>\n",
       "      <td>WASHINGTON</td>\n",
       "    </tr>\n",
       "    <tr>\n",
       "      <th>11</th>\n",
       "      <td>http://theonion.com/article/southern-sheriff-p...</td>\n",
       "      <td>Southern Sheriff Pulls Over Obama Campaign Bus...</td>\n",
       "      <td>2008-10-17</td>\n",
       "      <td>Politics</td>\n",
       "      <td>War For The White House</td>\n",
       "      <td>Barack Obama</td>\n",
       "      <td>NaN</td>\n",
       "      <td>NaN</td>\n",
       "      <td>Despite obeying the posted speed limit and hav...</td>\n",
       "      <td>FOXWORTH, MS</td>\n",
       "    </tr>\n",
       "    <tr>\n",
       "      <th>12</th>\n",
       "      <td>http://theonion.com/article/i-would-make-a-bad...</td>\n",
       "      <td>'I Would Make A Bad President,' Obama Says In ...</td>\n",
       "      <td>2008-10-28</td>\n",
       "      <td>Politics</td>\n",
       "      <td>War For The White House</td>\n",
       "      <td>Barack Obama</td>\n",
       "      <td>NaN</td>\n",
       "      <td>NaN</td>\n",
       "      <td>In a campaign gaffe that could potentially jeo...</td>\n",
       "      <td>TALLAHASSEE, FL</td>\n",
       "    </tr>\n",
       "    <tr>\n",
       "      <th>13</th>\n",
       "      <td>http://theonion.com/article/as-election-draws-...</td>\n",
       "      <td>As Election Draws Near, Area Man Moves To All-...</td>\n",
       "      <td>2008-10-29</td>\n",
       "      <td>Politics</td>\n",
       "      <td>War For The White House</td>\n",
       "      <td>Voting</td>\n",
       "      <td>NaN</td>\n",
       "      <td>NaN</td>\n",
       "      <td>After hearing the Democratic nominee call on h...</td>\n",
       "      <td>BURBANK, CA</td>\n",
       "    </tr>\n",
       "    <tr>\n",
       "      <th>14</th>\n",
       "      <td>http://theonion.com/article/obama-warns-he-may...</td>\n",
       "      <td>Obama Warns He May Cease To Exist Unless Ameri...</td>\n",
       "      <td>2008-10-30</td>\n",
       "      <td>Politics</td>\n",
       "      <td>War For The White House</td>\n",
       "      <td>Barack Obama</td>\n",
       "      <td>NaN</td>\n",
       "      <td>NaN</td>\n",
       "      <td>Unless citizens throughout America keep him in...</td>\n",
       "      <td>INDIANAPOLIS</td>\n",
       "    </tr>\n",
       "    <tr>\n",
       "      <th>15</th>\n",
       "      <td>http://theonion.com/article/obamas-record-brea...</td>\n",
       "      <td>Obama's Record-Breaking Fundraising Effort Ban...</td>\n",
       "      <td>2008-10-31</td>\n",
       "      <td>Politics</td>\n",
       "      <td>War For The White House</td>\n",
       "      <td>Barack Obama</td>\n",
       "      <td>NaN</td>\n",
       "      <td>NaN</td>\n",
       "      <td>After taking in more than $150 million in Sept...</td>\n",
       "      <td>WASHINGTON</td>\n",
       "    </tr>\n",
       "    <tr>\n",
       "      <th>16</th>\n",
       "      <td>http://theonion.com/article/black-man-given-na...</td>\n",
       "      <td>Black Man Given Nation's Worst Job\\n</td>\n",
       "      <td>2008-11-04</td>\n",
       "      <td>Politics</td>\n",
       "      <td>War For The White House</td>\n",
       "      <td>Barack Obama</td>\n",
       "      <td>NaN</td>\n",
       "      <td>NaN</td>\n",
       "      <td>African-American man Barack Obama, 47, was giv...</td>\n",
       "      <td>WASHINGTON</td>\n",
       "    </tr>\n",
       "    <tr>\n",
       "      <th>17</th>\n",
       "      <td>http://theonion.com/article/hillary-clinton-re...</td>\n",
       "      <td>Hillary Clinton Resumes Attacking Obama\\n</td>\n",
       "      <td>2008-11-05</td>\n",
       "      <td>Politics</td>\n",
       "      <td>War For The White House</td>\n",
       "      <td>Hillary Clinton</td>\n",
       "      <td>Barack Obama</td>\n",
       "      <td>NaN</td>\n",
       "      <td>Less than 20 minutes after Barack Obama was el...</td>\n",
       "      <td>NEW YORK</td>\n",
       "    </tr>\n",
       "    <tr>\n",
       "      <th>18</th>\n",
       "      <td>http://theonion.com/article/nation-finally-shi...</td>\n",
       "      <td>Nation Finally Shitty Enough To Make Social Pr...</td>\n",
       "      <td>2008-11-05</td>\n",
       "      <td>Politics</td>\n",
       "      <td>War For The White House</td>\n",
       "      <td>Barack Obama</td>\n",
       "      <td>NaN</td>\n",
       "      <td>NaN</td>\n",
       "      <td>After emerging victorious from one of the most...</td>\n",
       "      <td>WASHINGTON</td>\n",
       "    </tr>\n",
       "    <tr>\n",
       "      <th>19</th>\n",
       "      <td>http://theonion.com/article/kobe-bryant-scores...</td>\n",
       "      <td>Kobe Bryant Scores 25 In Holy Shit We Elected ...</td>\n",
       "      <td>2008-11-06</td>\n",
       "      <td>Sports</td>\n",
       "      <td>Ecstasy Of Defeat</td>\n",
       "      <td>Basketball</td>\n",
       "      <td>Barack Obama</td>\n",
       "      <td>NaN</td>\n",
       "      <td>Lakers shooting guard Kobe Bryant had a typica...</td>\n",
       "      <td>LOS ANGELES</td>\n",
       "    </tr>\n",
       "  </tbody>\n",
       "</table>\n",
       "</div>"
      ],
      "text/plain": [
       "                                                 link  \\\n",
       "0   http://theonion.com/article/black-guy-asks-nat...   \n",
       "1   http://theonion.com/article/obama-clinton-mcca...   \n",
       "2   http://theonion.com/article/obama-practices-lo...   \n",
       "3   http://theonion.com/article/time-publishes-def...   \n",
       "4   http://theonion.com/article/obamas-hillbilly-h...   \n",
       "5   http://theonion.com/article/obama-modifies-yes...   \n",
       "6   http://theonion.com/article/obama-suddenly-pan...   \n",
       "7   http://theonion.com/article/obama-deletes-anot...   \n",
       "8   http://theonion.com/article/parents-of-obama-v...   \n",
       "9   http://theonion.com/article/obama-clinches-joe...   \n",
       "10  http://theonion.com/article/obama-under-fire-f...   \n",
       "11  http://theonion.com/article/southern-sheriff-p...   \n",
       "12  http://theonion.com/article/i-would-make-a-bad...   \n",
       "13  http://theonion.com/article/as-election-draws-...   \n",
       "14  http://theonion.com/article/obama-warns-he-may...   \n",
       "15  http://theonion.com/article/obamas-record-brea...   \n",
       "16  http://theonion.com/article/black-man-given-na...   \n",
       "17  http://theonion.com/article/hillary-clinton-re...   \n",
       "18  http://theonion.com/article/nation-finally-shi...   \n",
       "19  http://theonion.com/article/kobe-bryant-scores...   \n",
       "\n",
       "                                                title       date  \\\n",
       "0                  Black Guy Asks Nation For Change\\n 2008-03-19   \n",
       "1   Obama, Clinton, McCain Join Forces To Form Nig... 2008-05-21   \n",
       "2      Obama Practices Looking-Off-Into-Future Pose\\n 2008-05-28   \n",
       "3      'Time' Publishes Definitive Obama Puff Piece\\n 2008-07-18   \n",
       "4   Obama's Hillbilly Half-Brother Threatening To ... 2008-08-13   \n",
       "5   Obama Modifies 'Yes We Can' Message To Exclude... 2008-08-27   \n",
       "6   Obama Suddenly Panicked After Gazing Too Far I... 2008-09-11   \n",
       "7    Obama Deletes Another Unread MoveOn.org E-Mail\\n 2008-09-17   \n",
       "8   Parents Of Obama Volunteer Couldn't Be More Pr... 2008-10-02   \n",
       "9      Obama Clinches 'Joe Cabernet Sauvignon' Vote\\n 2008-10-08   \n",
       "10  Obama Under Fire For Playing T-Ball During Vie... 2008-10-10   \n",
       "11  Southern Sheriff Pulls Over Obama Campaign Bus... 2008-10-17   \n",
       "12  'I Would Make A Bad President,' Obama Says In ... 2008-10-28   \n",
       "13  As Election Draws Near, Area Man Moves To All-... 2008-10-29   \n",
       "14  Obama Warns He May Cease To Exist Unless Ameri... 2008-10-30   \n",
       "15  Obama's Record-Breaking Fundraising Effort Ban... 2008-10-31   \n",
       "16               Black Man Given Nation's Worst Job\\n 2008-11-04   \n",
       "17          Hillary Clinton Resumes Attacking Obama\\n 2008-11-05   \n",
       "18  Nation Finally Shitty Enough To Make Social Pr... 2008-11-05   \n",
       "19  Kobe Bryant Scores 25 In Holy Shit We Elected ... 2008-11-06   \n",
       "\n",
       "                       tag0                     tag1                     tag2  \\\n",
       "0                  Politics              Politicians               Presidents   \n",
       "1                  Politics  War For The White House          Hillary Clinton   \n",
       "2                  Politics  War For The White House             Barack Obama   \n",
       "3                  Politics  War For The White House             Barack Obama   \n",
       "4                  Politics                   Family               Presidents   \n",
       "5                  Politics         Self-Improvement                Elections   \n",
       "6                  Politics              Time Travel  War For The White House   \n",
       "7                  Politics  War For The White House             Barack Obama   \n",
       "8                  Politics  War For The White House             Barack Obama   \n",
       "9   War For The White House             Barack Obama                      NaN   \n",
       "10                 Politics  War For The White House             Barack Obama   \n",
       "11                 Politics  War For The White House             Barack Obama   \n",
       "12                 Politics  War For The White House             Barack Obama   \n",
       "13                 Politics  War For The White House                   Voting   \n",
       "14                 Politics  War For The White House             Barack Obama   \n",
       "15                 Politics  War For The White House             Barack Obama   \n",
       "16                 Politics  War For The White House             Barack Obama   \n",
       "17                 Politics  War For The White House          Hillary Clinton   \n",
       "18                 Politics  War For The White House             Barack Obama   \n",
       "19                   Sports        Ecstasy Of Defeat               Basketball   \n",
       "\n",
       "                       tag3                     tag4  \\\n",
       "0                 Campaigns                      NaN   \n",
       "1               John Mccain             Barack Obama   \n",
       "2                       NaN                      NaN   \n",
       "3                       NaN                      NaN   \n",
       "4                     Rural  War For The White House   \n",
       "5   War For The White House             Barack Obama   \n",
       "6              Barack Obama                      NaN   \n",
       "7                       NaN                      NaN   \n",
       "8                       NaN                      NaN   \n",
       "9                       NaN                      NaN   \n",
       "10                      NaN                      NaN   \n",
       "11                      NaN                      NaN   \n",
       "12                      NaN                      NaN   \n",
       "13                      NaN                      NaN   \n",
       "14                      NaN                      NaN   \n",
       "15                      NaN                      NaN   \n",
       "16                      NaN                      NaN   \n",
       "17             Barack Obama                      NaN   \n",
       "18                      NaN                      NaN   \n",
       "19             Barack Obama                      NaN   \n",
       "\n",
       "                                                 body         location  \n",
       "0   According to witnesses, a loud black man appro...          CHICAGO  \n",
       "1   Presidential hopefuls John McCain (R-AZ), Bara...       WASHINGTON  \n",
       "2   As the 2008 presidential election draws closer...          CHICAGO  \n",
       "3   Hailed by media critics as the fluffiest, most...         NEW YORK  \n",
       "4   Barack Obama's once-commanding lead in the pol...   BOONEVILLE, KY  \n",
       "5   In a nationally televised speech Friday, Democ...     COLUMBIA, SC  \n",
       "6   Sen. Barack Obama (D-IL) fell deathly silent i...      MADISON, WI  \n",
       "7   After receiving yet another unwanted e-mail fr...          CHICAGO  \n",
       "8   Parents of Obama '08 campaign volunteer Mark L...     OAK PARK, IL  \n",
       "9   Following a strong performance by the Democrat...       WASHINGTON  \n",
       "10  At a press conference on Monday, members of th...       WASHINGTON  \n",
       "11  Despite obeying the posted speed limit and hav...     FOXWORTH, MS  \n",
       "12  In a campaign gaffe that could potentially jeo...  TALLAHASSEE, FL  \n",
       "13  After hearing the Democratic nominee call on h...      BURBANK, CA  \n",
       "14  Unless citizens throughout America keep him in...     INDIANAPOLIS  \n",
       "15  After taking in more than $150 million in Sept...       WASHINGTON  \n",
       "16  African-American man Barack Obama, 47, was giv...       WASHINGTON  \n",
       "17  Less than 20 minutes after Barack Obama was el...         NEW YORK  \n",
       "18  After emerging victorious from one of the most...       WASHINGTON  \n",
       "19  Lakers shooting guard Kobe Bryant had a typica...      LOS ANGELES  "
      ]
     },
     "execution_count": 27,
     "metadata": {},
     "output_type": "execute_result"
    }
   ],
   "source": [
    "# examine new df\n",
    "obama.head(20)"
   ]
  },
  {
   "cell_type": "code",
   "execution_count": 28,
   "metadata": {
    "collapsed": false
   },
   "outputs": [
    {
     "data": {
      "text/plain": [
       "link          0\n",
       "title         0\n",
       "date          0\n",
       "tag0          2\n",
       "tag1         28\n",
       "tag2         95\n",
       "tag3        186\n",
       "tag4        231\n",
       "body          0\n",
       "location     11\n",
       "dtype: int64"
      ]
     },
     "execution_count": 28,
     "metadata": {},
     "output_type": "execute_result"
    }
   ],
   "source": [
    "# not bad, Mr Location Function.\n",
    "obama.isnull().sum()"
   ]
  },
  {
   "cell_type": "code",
   "execution_count": 29,
   "metadata": {
    "collapsed": false
   },
   "outputs": [
    {
     "data": {
      "text/plain": [
       "array(['CHICAGO', 'WASHINGTON', 'NEW YORK', 'BOONEVILLE, KY',\n",
       "       'COLUMBIA, SC', 'MADISON, WI', 'OAK PARK, IL', 'FOXWORTH, MS',\n",
       "       'TALLAHASSEE, FL', 'BURBANK, CA', 'INDIANAPOLIS', 'LOS ANGELES',\n",
       "       'HUTCHINSON, KS', 'ATHENS, GA', 'VAVUNIYA, SRI LANKA', 'PHOENIX',\n",
       "       ']', nan, 'KABUL, AFGHANISTAN', 'MIAMI', 'ROCKLAND, ME',\n",
       "       'NEW ORLEANS', 'CAMP SPRINGS, MD', 'HARTFORD, CT', 'KALONA, IA',\n",
       "       'GRAND RAPIDS, MI', 'CINCINNATI', 'PITTSBURGH', 'HENNIKER, NH',\n",
       "       'WEST LEBANON, NH', 'NEW BRITAIN, CT', 'COVINGTON, KY',\n",
       "       'CHARLOTTE, NC', 'CHARLESTON, WV', 'COLUMBUS, OH',\n",
       "       'EVERYWHERE IN SPACE-TIME SIMULTANEOUSLY', 'DENVER',\n",
       "       'HEMPSTEAD, NY', 'PARMA, OH', 'BOCA RATON, FL', 'WOOFINGTON, D.C.',\n",
       "       'TEL AVIV, ISRAEL', 'JERUSALEM', 'DALLAS', 'CORTLAND, NY',\n",
       "       'WANA, PAKISTAN', 'SEATTLE', 'WALTHAM, MA', 'SEDALIA, MO', 'HAVANA',\n",
       "       'BAY LAKE, FL', 'PHILADELPHIA', 'THURMONT, MD', 'GARDINER, MT',\n",
       "       'CEDAR PLAINS, PA'], dtype=object)"
      ]
     },
     "execution_count": 29,
     "metadata": {},
     "output_type": "execute_result"
    }
   ],
   "source": [
    "# list all locations\n",
    "obama.location.unique()"
   ]
  },
  {
   "cell_type": "code",
   "execution_count": 30,
   "metadata": {
    "collapsed": false,
    "scrolled": false
   },
   "outputs": [
    {
     "data": {
      "text/plain": [
       "WASHINGTON                                 182\n",
       "CHICAGO                                      7\n",
       "JERUSALEM                                    3\n",
       "NEW YORK                                     3\n",
       "BOCA RATON, FL                               2\n",
       "PHILADELPHIA                                 2\n",
       "COLUMBIA, SC                                 2\n",
       "CHARLOTTE, NC                                2\n",
       "DENVER                                       2\n",
       "]                                            2\n",
       "ROCKLAND, ME                                 1\n",
       "BURBANK, CA                                  1\n",
       "CORTLAND, NY                                 1\n",
       "LOS ANGELES                                  1\n",
       "KALONA, IA                                   1\n",
       "WOOFINGTON, D.C.                             1\n",
       "CHARLESTON, WV                               1\n",
       "OAK PARK, IL                                 1\n",
       "EVERYWHERE IN SPACE-TIME SIMULTANEOUSLY      1\n",
       "WANA, PAKISTAN                               1\n",
       "BAY LAKE, FL                                 1\n",
       "ATHENS, GA                                   1\n",
       "CEDAR PLAINS, PA                             1\n",
       "WEST LEBANON, NH                             1\n",
       "HARTFORD, CT                                 1\n",
       "PITTSBURGH                                   1\n",
       "MADISON, WI                                  1\n",
       "CINCINNATI                                   1\n",
       "NEW BRITAIN, CT                              1\n",
       "THURMONT, MD                                 1\n",
       "COVINGTON, KY                                1\n",
       "CAMP SPRINGS, MD                             1\n",
       "GRAND RAPIDS, MI                             1\n",
       "SEATTLE                                      1\n",
       "HENNIKER, NH                                 1\n",
       "NEW ORLEANS                                  1\n",
       "PARMA, OH                                    1\n",
       "TALLAHASSEE, FL                              1\n",
       "PHOENIX                                      1\n",
       "FOXWORTH, MS                                 1\n",
       "DALLAS                                       1\n",
       "HAVANA                                       1\n",
       "KABUL, AFGHANISTAN                           1\n",
       "VAVUNIYA, SRI LANKA                          1\n",
       "GARDINER, MT                                 1\n",
       "HEMPSTEAD, NY                                1\n",
       "HUTCHINSON, KS                               1\n",
       "WALTHAM, MA                                  1\n",
       "BOONEVILLE, KY                               1\n",
       "MIAMI                                        1\n",
       "COLUMBUS, OH                                 1\n",
       "INDIANAPOLIS                                 1\n",
       "TEL AVIV, ISRAEL                             1\n",
       "SEDALIA, MO                                  1\n",
       "Name: location, dtype: int64"
      ]
     },
     "execution_count": 30,
     "metadata": {},
     "output_type": "execute_result"
    }
   ],
   "source": [
    "# identify top locations\n",
    "obama.location.value_counts()"
   ]
  },
  {
   "cell_type": "markdown",
   "metadata": {},
   "source": [
    "Locations follow relatively what we'd expect: overwhelmingly in DC, some missing values, and in Chicago's hometown.\n",
    "\n",
    "Let's check out some of the bizarre locations..."
   ]
  },
  {
   "cell_type": "code",
   "execution_count": 31,
   "metadata": {
    "collapsed": false
   },
   "outputs": [
    {
     "data": {
      "text/html": [
       "<div>\n",
       "<table border=\"1\" class=\"dataframe\">\n",
       "  <thead>\n",
       "    <tr style=\"text-align: right;\">\n",
       "      <th></th>\n",
       "      <th>link</th>\n",
       "      <th>title</th>\n",
       "      <th>date</th>\n",
       "      <th>tag0</th>\n",
       "      <th>tag1</th>\n",
       "      <th>tag2</th>\n",
       "      <th>tag3</th>\n",
       "      <th>tag4</th>\n",
       "      <th>body</th>\n",
       "      <th>location</th>\n",
       "    </tr>\n",
       "  </thead>\n",
       "  <tbody>\n",
       "    <tr>\n",
       "      <th>119</th>\n",
       "      <td>http://theonion.com/article/obama-makes-surpri...</td>\n",
       "      <td>Obama Makes Surprise Visit To Quantum-Branchin...</td>\n",
       "      <td>2012-10-02</td>\n",
       "      <td>Politics</td>\n",
       "      <td>Politicians</td>\n",
       "      <td>Barack Obama</td>\n",
       "      <td>NaN</td>\n",
       "      <td>NaN</td>\n",
       "      <td>Attempting to appeal to the widest possible de...</td>\n",
       "      <td>EVERYWHERE IN SPACE-TIME SIMULTANEOUSLY</td>\n",
       "    </tr>\n",
       "  </tbody>\n",
       "</table>\n",
       "</div>"
      ],
      "text/plain": [
       "                                                  link  \\\n",
       "119  http://theonion.com/article/obama-makes-surpri...   \n",
       "\n",
       "                                                 title       date      tag0  \\\n",
       "119  Obama Makes Surprise Visit To Quantum-Branchin... 2012-10-02  Politics   \n",
       "\n",
       "            tag1          tag2 tag3 tag4  \\\n",
       "119  Politicians  Barack Obama  NaN  NaN   \n",
       "\n",
       "                                                  body  \\\n",
       "119  Attempting to appeal to the widest possible de...   \n",
       "\n",
       "                                    location  \n",
       "119  EVERYWHERE IN SPACE-TIME SIMULTANEOUSLY  "
      ]
     },
     "execution_count": 31,
     "metadata": {},
     "output_type": "execute_result"
    }
   ],
   "source": [
    "# space?\n",
    "obama[obama.location=='EVERYWHERE IN SPACE-TIME SIMULTANEOUSLY']"
   ]
  },
  {
   "cell_type": "markdown",
   "metadata": {},
   "source": [
    "<img src=\"story-screenshots/obama-quantum.png\">\n",
    "\n",
    "[source](http://www.theonion.com/article/obama-makes-surprise-visit-to-quantum-branching-mu-29763)"
   ]
  },
  {
   "cell_type": "code",
   "execution_count": 32,
   "metadata": {
    "collapsed": false
   },
   "outputs": [
    {
     "data": {
      "text/html": [
       "<div>\n",
       "<table border=\"1\" class=\"dataframe\">\n",
       "  <thead>\n",
       "    <tr style=\"text-align: right;\">\n",
       "      <th></th>\n",
       "      <th>link</th>\n",
       "      <th>title</th>\n",
       "      <th>date</th>\n",
       "      <th>tag0</th>\n",
       "      <th>tag1</th>\n",
       "      <th>tag2</th>\n",
       "      <th>tag3</th>\n",
       "      <th>tag4</th>\n",
       "      <th>body</th>\n",
       "      <th>location</th>\n",
       "    </tr>\n",
       "  </thead>\n",
       "  <tbody>\n",
       "    <tr>\n",
       "      <th>165</th>\n",
       "      <td>http://theonion.com/article/obama-takes-excite...</td>\n",
       "      <td>Obama Takes Excited Daughters Out For Day Of D...</td>\n",
       "      <td>2013-06-05</td>\n",
       "      <td>News</td>\n",
       "      <td>Politicians</td>\n",
       "      <td>Barack Obama</td>\n",
       "      <td>Our Annual Year 2013</td>\n",
       "      <td>NaN</td>\n",
       "      <td>Calling it a chance to get some fresh air and ...</td>\n",
       "      <td>WANA, PAKISTAN</td>\n",
       "    </tr>\n",
       "  </tbody>\n",
       "</table>\n",
       "</div>"
      ],
      "text/plain": [
       "                                                  link  \\\n",
       "165  http://theonion.com/article/obama-takes-excite...   \n",
       "\n",
       "                                                 title       date  tag0  \\\n",
       "165  Obama Takes Excited Daughters Out For Day Of D... 2013-06-05  News   \n",
       "\n",
       "            tag1          tag2                  tag3 tag4  \\\n",
       "165  Politicians  Barack Obama  Our Annual Year 2013  NaN   \n",
       "\n",
       "                                                  body        location  \n",
       "165  Calling it a chance to get some fresh air and ...  WANA, PAKISTAN  "
      ]
     },
     "execution_count": 32,
     "metadata": {},
     "output_type": "execute_result"
    }
   ],
   "source": [
    "# Pakistan?\n",
    "obama[obama.location=='WANA, PAKISTAN']"
   ]
  },
  {
   "cell_type": "markdown",
   "metadata": {},
   "source": [
    "<img src=\"story-screenshots/obama-pakistan.png\">\n",
    "\n",
    "[source](http://www.theonion.com/article/obama-takes-excited-daughters-out-for-day-of-drone-32702)"
   ]
  },
  {
   "cell_type": "code",
   "execution_count": 33,
   "metadata": {
    "collapsed": false
   },
   "outputs": [
    {
     "data": {
      "text/html": [
       "<div>\n",
       "<table border=\"1\" class=\"dataframe\">\n",
       "  <thead>\n",
       "    <tr style=\"text-align: right;\">\n",
       "      <th></th>\n",
       "      <th>link</th>\n",
       "      <th>title</th>\n",
       "      <th>date</th>\n",
       "      <th>tag0</th>\n",
       "      <th>tag1</th>\n",
       "      <th>tag2</th>\n",
       "      <th>tag3</th>\n",
       "      <th>tag4</th>\n",
       "      <th>body</th>\n",
       "      <th>location</th>\n",
       "    </tr>\n",
       "  </thead>\n",
       "  <tbody>\n",
       "    <tr>\n",
       "      <th>82</th>\n",
       "      <td>http://theonion.com/article/obamas-aunt-sends-...</td>\n",
       "      <td>Obama's Aunt Sends Him Article Mentioning Unit...</td>\n",
       "      <td>2011-06-16</td>\n",
       "      <td>Family</td>\n",
       "      <td>NaN</td>\n",
       "      <td>NaN</td>\n",
       "      <td>NaN</td>\n",
       "      <td>NaN</td>\n",
       "      <td>According to family sources, Barack Obama's au...</td>\n",
       "      <td>KALONA, IA</td>\n",
       "    </tr>\n",
       "  </tbody>\n",
       "</table>\n",
       "</div>"
      ],
      "text/plain": [
       "                                                 link  \\\n",
       "82  http://theonion.com/article/obamas-aunt-sends-...   \n",
       "\n",
       "                                                title       date    tag0 tag1  \\\n",
       "82  Obama's Aunt Sends Him Article Mentioning Unit... 2011-06-16  Family  NaN   \n",
       "\n",
       "   tag2 tag3 tag4                                               body  \\\n",
       "82  NaN  NaN  NaN  According to family sources, Barack Obama's au...   \n",
       "\n",
       "      location  \n",
       "82  KALONA, IA  "
      ]
     },
     "execution_count": 33,
     "metadata": {},
     "output_type": "execute_result"
    }
   ],
   "source": [
    "# like I was going to check Iowa\n",
    "obama[obama.location=='KALONA, IA']"
   ]
  },
  {
   "cell_type": "markdown",
   "metadata": {},
   "source": [
    "<img src=\"story-screenshots/obama-iowa.png\">\n",
    "\n",
    "[source](http://www.theonion.com/article/obamas-aunt-sends-him-article-mentioning-united-st-20734)"
   ]
  },
  {
   "cell_type": "code",
   "execution_count": 34,
   "metadata": {
    "collapsed": false
   },
   "outputs": [
    {
     "data": {
      "text/html": [
       "<div>\n",
       "<table border=\"1\" class=\"dataframe\">\n",
       "  <thead>\n",
       "    <tr style=\"text-align: right;\">\n",
       "      <th></th>\n",
       "      <th>link</th>\n",
       "      <th>title</th>\n",
       "      <th>date</th>\n",
       "      <th>tag0</th>\n",
       "      <th>tag1</th>\n",
       "      <th>tag2</th>\n",
       "      <th>tag3</th>\n",
       "      <th>tag4</th>\n",
       "      <th>body</th>\n",
       "      <th>location</th>\n",
       "    </tr>\n",
       "  </thead>\n",
       "  <tbody>\n",
       "    <tr>\n",
       "      <th>147</th>\n",
       "      <td>http://theonion.com/article/obama-sarcasticall...</td>\n",
       "      <td>Obama Sarcastically Asks How Israel Afforded S...</td>\n",
       "      <td>2013-03-20</td>\n",
       "      <td>Politics</td>\n",
       "      <td>Politicians</td>\n",
       "      <td>Foreign Policy</td>\n",
       "      <td>Barack Obama</td>\n",
       "      <td>NaN</td>\n",
       "      <td>While touring Israel’s “Iron Dome” all-weather...</td>\n",
       "      <td>JERUSALEM</td>\n",
       "    </tr>\n",
       "    <tr>\n",
       "      <th>148</th>\n",
       "      <td>http://theonion.com/article/obama-rachel-golds...</td>\n",
       "      <td>Obama, Rachel Goldstein Really Hitting It Off ...</td>\n",
       "      <td>2013-03-21</td>\n",
       "      <td>Politics</td>\n",
       "      <td>Politicians</td>\n",
       "      <td>NaN</td>\n",
       "      <td>NaN</td>\n",
       "      <td>NaN</td>\n",
       "      <td>Participants on Taglit Shorashim’s Israel Expe...</td>\n",
       "      <td>JERUSALEM</td>\n",
       "    </tr>\n",
       "    <tr>\n",
       "      <th>149</th>\n",
       "      <td>http://theonion.com/article/palestinians-israe...</td>\n",
       "      <td>Palestinians, Israelis Come Together To Mock O...</td>\n",
       "      <td>2013-03-21</td>\n",
       "      <td>Politics</td>\n",
       "      <td>World</td>\n",
       "      <td>World Leaders</td>\n",
       "      <td>NaN</td>\n",
       "      <td>NaN</td>\n",
       "      <td>Coming together for the first time in generati...</td>\n",
       "      <td>JERUSALEM</td>\n",
       "    </tr>\n",
       "  </tbody>\n",
       "</table>\n",
       "</div>"
      ],
      "text/plain": [
       "                                                  link  \\\n",
       "147  http://theonion.com/article/obama-sarcasticall...   \n",
       "148  http://theonion.com/article/obama-rachel-golds...   \n",
       "149  http://theonion.com/article/palestinians-israe...   \n",
       "\n",
       "                                                 title       date      tag0  \\\n",
       "147  Obama Sarcastically Asks How Israel Afforded S... 2013-03-20  Politics   \n",
       "148  Obama, Rachel Goldstein Really Hitting It Off ... 2013-03-21  Politics   \n",
       "149  Palestinians, Israelis Come Together To Mock O... 2013-03-21  Politics   \n",
       "\n",
       "            tag1            tag2          tag3 tag4  \\\n",
       "147  Politicians  Foreign Policy  Barack Obama  NaN   \n",
       "148  Politicians             NaN           NaN  NaN   \n",
       "149        World   World Leaders           NaN  NaN   \n",
       "\n",
       "                                                  body   location  \n",
       "147  While touring Israel’s “Iron Dome” all-weather...  JERUSALEM  \n",
       "148  Participants on Taglit Shorashim’s Israel Expe...  JERUSALEM  \n",
       "149  Coming together for the first time in generati...  JERUSALEM  "
      ]
     },
     "execution_count": 34,
     "metadata": {},
     "output_type": "execute_result"
    }
   ],
   "source": [
    "# The Onion like to hit Obama on (a lack of) Israel visits...\n",
    "obama[obama.location=='JERUSALEM']"
   ]
  },
  {
   "cell_type": "markdown",
   "metadata": {},
   "source": [
    "I screenshotted the third story.\n",
    "<img src=\"story-screenshots/obama-jerusalem3.png\">\n",
    "\n",
    "[source](http://www.theonion.com/article/palestinians-israelis-come-together-to-mock-obamas-31767)\n",
    "\n",
    "First Jerusalem story [here](http://www.theonion.com/article/obama-sarcastically-asks-how-israel-afforded-such--31750) and second Jerusalem story [here](http://www.theonion.com/article/obama-rachel-goldstein-really-hitting-it-off-on-gr-31753)"
   ]
  },
  {
   "cell_type": "code",
   "execution_count": 35,
   "metadata": {
    "collapsed": false
   },
   "outputs": [
    {
     "data": {
      "text/html": [
       "<div>\n",
       "<table border=\"1\" class=\"dataframe\">\n",
       "  <thead>\n",
       "    <tr style=\"text-align: right;\">\n",
       "      <th></th>\n",
       "      <th>link</th>\n",
       "      <th>title</th>\n",
       "      <th>date</th>\n",
       "      <th>tag0</th>\n",
       "      <th>tag1</th>\n",
       "      <th>tag2</th>\n",
       "      <th>tag3</th>\n",
       "      <th>tag4</th>\n",
       "      <th>body</th>\n",
       "      <th>location</th>\n",
       "    </tr>\n",
       "  </thead>\n",
       "  <tbody>\n",
       "    <tr>\n",
       "      <th>50</th>\n",
       "      <td>http://theonion.com/article/us-continues-quagm...</td>\n",
       "      <td>U.S. Continues Quagmire-Building Effort In Afg...</td>\n",
       "      <td>2009-10-27</td>\n",
       "      <td>Politics</td>\n",
       "      <td>War</td>\n",
       "      <td>Military</td>\n",
       "      <td>NaN</td>\n",
       "      <td>NaN</td>\n",
       "      <td>According to sources at the Pentagon, America...</td>\n",
       "      <td>KABUL, AFGHANISTAN</td>\n",
       "    </tr>\n",
       "  </tbody>\n",
       "</table>\n",
       "</div>"
      ],
      "text/plain": [
       "                                                 link  \\\n",
       "50  http://theonion.com/article/us-continues-quagm...   \n",
       "\n",
       "                                                title       date      tag0  \\\n",
       "50  U.S. Continues Quagmire-Building Effort In Afg... 2009-10-27  Politics   \n",
       "\n",
       "   tag1      tag2 tag3 tag4  \\\n",
       "50  War  Military  NaN  NaN   \n",
       "\n",
       "                                                 body            location  \n",
       "50   According to sources at the Pentagon, America...  KABUL, AFGHANISTAN  "
      ]
     },
     "execution_count": 35,
     "metadata": {},
     "output_type": "execute_result"
    }
   ],
   "source": [
    "# Afghanistan\n",
    "obama[obama.location=='KABUL, AFGHANISTAN']  "
   ]
  },
  {
   "cell_type": "markdown",
   "metadata": {},
   "source": [
    "<img src=\"story-screenshots/obama-afghanistan.png\">\n",
    "\n",
    "[source](http://www.theonion.com/article/us-continues-quagmire-building-effort-in-afghanist-2837)"
   ]
  },
  {
   "cell_type": "code",
   "execution_count": 36,
   "metadata": {
    "collapsed": false
   },
   "outputs": [
    {
     "data": {
      "text/html": [
       "<div>\n",
       "<table border=\"1\" class=\"dataframe\">\n",
       "  <thead>\n",
       "    <tr style=\"text-align: right;\">\n",
       "      <th></th>\n",
       "      <th>link</th>\n",
       "      <th>title</th>\n",
       "      <th>date</th>\n",
       "      <th>tag0</th>\n",
       "      <th>tag1</th>\n",
       "      <th>tag2</th>\n",
       "      <th>tag3</th>\n",
       "      <th>tag4</th>\n",
       "      <th>body</th>\n",
       "      <th>location</th>\n",
       "    </tr>\n",
       "  </thead>\n",
       "  <tbody>\n",
       "    <tr>\n",
       "      <th>0</th>\n",
       "      <td>http://theonion.com/article/black-guy-asks-nat...</td>\n",
       "      <td>Black Guy Asks Nation For Change\\n</td>\n",
       "      <td>2008-03-19</td>\n",
       "      <td>Politics</td>\n",
       "      <td>Politicians</td>\n",
       "      <td>Presidents</td>\n",
       "      <td>Campaigns</td>\n",
       "      <td>NaN</td>\n",
       "      <td>According to witnesses, a loud black man appro...</td>\n",
       "      <td>CHICAGO</td>\n",
       "    </tr>\n",
       "    <tr>\n",
       "      <th>1</th>\n",
       "      <td>http://theonion.com/article/obama-clinton-mcca...</td>\n",
       "      <td>Obama, Clinton, McCain Join Forces To Form Nig...</td>\n",
       "      <td>2008-05-21</td>\n",
       "      <td>Politics</td>\n",
       "      <td>War For The White House</td>\n",
       "      <td>Hillary Clinton</td>\n",
       "      <td>John Mccain</td>\n",
       "      <td>Barack Obama</td>\n",
       "      <td>Presidential hopefuls John McCain (R-AZ), Bara...</td>\n",
       "      <td>WASHINGTON</td>\n",
       "    </tr>\n",
       "    <tr>\n",
       "      <th>2</th>\n",
       "      <td>http://theonion.com/article/obama-practices-lo...</td>\n",
       "      <td>Obama Practices Looking-Off-Into-Future Pose\\n</td>\n",
       "      <td>2008-05-28</td>\n",
       "      <td>Politics</td>\n",
       "      <td>War For The White House</td>\n",
       "      <td>Barack Obama</td>\n",
       "      <td>NaN</td>\n",
       "      <td>NaN</td>\n",
       "      <td>As the 2008 presidential election draws closer...</td>\n",
       "      <td>CHICAGO</td>\n",
       "    </tr>\n",
       "    <tr>\n",
       "      <th>3</th>\n",
       "      <td>http://theonion.com/article/time-publishes-def...</td>\n",
       "      <td>'Time' Publishes Definitive Obama Puff Piece\\n</td>\n",
       "      <td>2008-07-18</td>\n",
       "      <td>Politics</td>\n",
       "      <td>War For The White House</td>\n",
       "      <td>Barack Obama</td>\n",
       "      <td>NaN</td>\n",
       "      <td>NaN</td>\n",
       "      <td>Hailed by media critics as the fluffiest, most...</td>\n",
       "      <td>NEW YORK</td>\n",
       "    </tr>\n",
       "    <tr>\n",
       "      <th>4</th>\n",
       "      <td>http://theonion.com/article/obamas-hillbilly-h...</td>\n",
       "      <td>Obama's Hillbilly Half-Brother Threatening To ...</td>\n",
       "      <td>2008-08-13</td>\n",
       "      <td>Politics</td>\n",
       "      <td>Family</td>\n",
       "      <td>Presidents</td>\n",
       "      <td>Rural</td>\n",
       "      <td>War For The White House</td>\n",
       "      <td>Barack Obama's once-commanding lead in the pol...</td>\n",
       "      <td>BOONEVILLE, KY</td>\n",
       "    </tr>\n",
       "  </tbody>\n",
       "</table>\n",
       "</div>"
      ],
      "text/plain": [
       "                                                link  \\\n",
       "0  http://theonion.com/article/black-guy-asks-nat...   \n",
       "1  http://theonion.com/article/obama-clinton-mcca...   \n",
       "2  http://theonion.com/article/obama-practices-lo...   \n",
       "3  http://theonion.com/article/time-publishes-def...   \n",
       "4  http://theonion.com/article/obamas-hillbilly-h...   \n",
       "\n",
       "                                               title       date      tag0  \\\n",
       "0                 Black Guy Asks Nation For Change\\n 2008-03-19  Politics   \n",
       "1  Obama, Clinton, McCain Join Forces To Form Nig... 2008-05-21  Politics   \n",
       "2     Obama Practices Looking-Off-Into-Future Pose\\n 2008-05-28  Politics   \n",
       "3     'Time' Publishes Definitive Obama Puff Piece\\n 2008-07-18  Politics   \n",
       "4  Obama's Hillbilly Half-Brother Threatening To ... 2008-08-13  Politics   \n",
       "\n",
       "                      tag1             tag2         tag3  \\\n",
       "0              Politicians       Presidents    Campaigns   \n",
       "1  War For The White House  Hillary Clinton  John Mccain   \n",
       "2  War For The White House     Barack Obama          NaN   \n",
       "3  War For The White House     Barack Obama          NaN   \n",
       "4                   Family       Presidents        Rural   \n",
       "\n",
       "                      tag4                                               body  \\\n",
       "0                      NaN  According to witnesses, a loud black man appro...   \n",
       "1             Barack Obama  Presidential hopefuls John McCain (R-AZ), Bara...   \n",
       "2                      NaN  As the 2008 presidential election draws closer...   \n",
       "3                      NaN  Hailed by media critics as the fluffiest, most...   \n",
       "4  War For The White House  Barack Obama's once-commanding lead in the pol...   \n",
       "\n",
       "         location  \n",
       "0         CHICAGO  \n",
       "1      WASHINGTON  \n",
       "2         CHICAGO  \n",
       "3        NEW YORK  \n",
       "4  BOONEVILLE, KY  "
      ]
     },
     "execution_count": 36,
     "metadata": {},
     "output_type": "execute_result"
    }
   ],
   "source": [
    "obama.head()"
   ]
  },
  {
   "cell_type": "code",
   "execution_count": 37,
   "metadata": {
    "collapsed": true
   },
   "outputs": [],
   "source": [
    "# grab location-free text\n",
    "text = obama.body"
   ]
  },
  {
   "cell_type": "code",
   "execution_count": 38,
   "metadata": {
    "collapsed": false
   },
   "outputs": [
    {
     "data": {
      "text/plain": [
       "0    According to witnesses, a loud black man appro...\n",
       "1    Presidential hopefuls John McCain (R-AZ), Bara...\n",
       "2    As the 2008 presidential election draws closer...\n",
       "3    Hailed by media critics as the fluffiest, most...\n",
       "4    Barack Obama's once-commanding lead in the pol...\n",
       "Name: body, dtype: object"
      ]
     },
     "execution_count": 38,
     "metadata": {},
     "output_type": "execute_result"
    }
   ],
   "source": [
    "# check it out\n",
    "text[0:5]"
   ]
  },
  {
   "cell_type": "code",
   "execution_count": 39,
   "metadata": {
    "collapsed": false
   },
   "outputs": [
    {
     "data": {
      "text/plain": [
       "'According to witnesses, a loud black man approached a crowd of some 4,000 strangers in downtown Chicago Tuesday and made repeated demands for change., \"The time for change is now,\" said the black guy, yelling at everyone within earshot for 20 straight minutes, practically begging America for change. \"The need for change is stronger and more urgent than ever before. And only you\\xe2\\x80\\x94the people standing here today, and indeed all the people of this great nation\\xe2\\x80\\x94only you can deliver this change.\", It is estimated that, to date, the black man has asked every single person in the United States for change., \"I\\'ve already seen this guy four times today,\" Chicago-area ad salesman Blake Gordon said. \"Every time, it\\'s the same exact spiel. \\'I need change.\\' \\'I want change.\\' Why\\'s he so eager for all this change? What\\'s he going to do with it, anyway?\", After his initial requests for change, the black man rambled nonstop on a variety of unrelated topics, calling for affordable health care, demanding that the government immediately begin withdrawing troops from Iraq, and proposing a $75 billion economic stimulus plan to create new jobs., \"What a wacko,\" Schaumburg, IL resident Patrick Morledge said. \"And, of course, after telling us all about how he had the ability to magically fix everything, he went right back to asking for change. Typical.\", \"If he\\'s really looking for change, he\\'s got the wrong guy,\" Morledge added., Reports indicate that the black man has been riding from city to city across the country, asking for change wherever he goes. Citizens in Austin, TX said they spotted the same guy standing on the street Friday, shouting far-fetched ideas about global warming. Cleveland residents also reported seeing him in a local park, wildly gesticulating and quoting from the Bible. And last week, patrons at the Starlight Diner in Cheyenne, WY claimed that the black man accosted them while they were eating, repeatedly requesting change., \"I saw him walk in and I knew he was headed straight for our table,\" said mother of three Gladys Davies. \"He just stood there smiling at us for a while, and asked how our food tasted. Then he went and did the same thing at the next table over. The nerve of some people.\", Those who encountered the black man Tuesday said he engaged in erratic behavior, including pointing at random people in the crowd and desperately saying he needs their help, going up to complete strangers and hugging them, and angrily claiming that he is not looking for just a little bit of change, but rather a great deal of change, and that he wants it \"right now.\", \"I\\'ll be honest, when that black guy said he would \\'stop at nothing\\' to get change, it kind of scared me,\" local mechanic Phil Nighbert said. \"Just leave me alone.\", Though many were taken aback by the black man\\'s brazen demands, some, such as Jackson, MS\\'s Holly Moser, sympathized with him. She gave the black man credit for boldly standing up and asking every last person around him for change. , \"I told him I\\'d give him some if I saw him later, even though I probably won\\'t,\" Moser said. \"Very nice man, though.\", Most, however, ignored his requests. , \"I\\'m a hardworking American who pays his taxes, and the last thing I need is some guy on the street demanding change from me,\" said William Overkamp, a Springfield, IL gun-shop owner., He added, \"What he really needs is a job.\" ]'"
      ]
     },
     "execution_count": 39,
     "metadata": {},
     "output_type": "execute_result"
    }
   ],
   "source": [
    "# investigate single entry\n",
    "text[0]"
   ]
  },
  {
   "cell_type": "code",
   "execution_count": 40,
   "metadata": {
    "collapsed": false
   },
   "outputs": [],
   "source": [
    "# eliminate encoding like \n",
    "# StackOverflow decoding function iwth light edits http://stackoverflow.com/questions/27996448/python-encoding-decoding-problems\n",
    "def unicodetoascii(text):\n",
    "\n",
    "    uni2ascii = {\n",
    "            ord('\\xe2\\x80\\x99'.decode('utf-8')): ord(\"'\"),\n",
    "            ord('\\xe2\\x80\\x9c'.decode('utf-8')): ord('\"'),\n",
    "            ord('\\xe2\\x80\\x9d'.decode('utf-8')): ord('\"'),\n",
    "            ord('\\xe2\\x80\\x9e'.decode('utf-8')): ord('\"'),\n",
    "            ord('\\xe2\\x80\\x9f'.decode('utf-8')): ord('\"'),\n",
    "            ord('\\xc3\\xa9'.decode('utf-8')): ord('e'),\n",
    "            ord('\\xe2\\x80\\x9c'.decode('utf-8')): ord('\"'),\n",
    "            ord('\\xe2\\x80\\x93'.decode('utf-8')): ord('-'),\n",
    "            ord('\\xe2\\x80\\x92'.decode('utf-8')): ord('-'),\n",
    "            ord('\\xe2\\x80\\x94'.decode('utf-8')): ord('-'),\n",
    "            ord('\\xe2\\x80\\x94'.decode('utf-8')): ord('-'),\n",
    "            ord('\\xe2\\x80\\x98'.decode('utf-8')): ord(\"'\"),\n",
    "            ord('\\xe2\\x80\\x9b'.decode('utf-8')): ord(\"'\"),\n",
    "\n",
    "            ord('\\xe2\\x80\\x90'.decode('utf-8')): ord('-'),\n",
    "            ord('\\xe2\\x80\\x91'.decode('utf-8')): ord('-'),\n",
    "\n",
    "            ord('\\xe2\\x80\\xb2'.decode('utf-8')): ord(\"'\"),\n",
    "            ord('\\xe2\\x80\\xb3'.decode('utf-8')): ord(\"'\"),\n",
    "            ord('\\xe2\\x80\\xb4'.decode('utf-8')): ord(\"'\"),\n",
    "            ord('\\xe2\\x80\\xb5'.decode('utf-8')): ord(\"'\"),\n",
    "            ord('\\xe2\\x80\\xb6'.decode('utf-8')): ord(\"'\"),\n",
    "            ord('\\xe2\\x80\\xb7'.decode('utf-8')): ord(\"'\"),\n",
    "\n",
    "            ord('\\xe2\\x81\\xba'.decode('utf-8')): ord(\"+\"),\n",
    "            ord('\\xe2\\x81\\xbb'.decode('utf-8')): ord(\"-\"),\n",
    "            ord('\\xe2\\x81\\xbc'.decode('utf-8')): ord(\"=\"),\n",
    "            ord('\\xe2\\x81\\xbd'.decode('utf-8')): ord(\"(\"),\n",
    "            ord('\\xe2\\x81\\xbe'.decode('utf-8')): ord(\")\"),\n",
    "\n",
    "                            }\n",
    "    try:\n",
    "        return text.decode('utf-8').translate(uni2ascii).encode('ascii')\n",
    "    except:\n",
    "        return text"
   ]
  },
  {
   "cell_type": "code",
   "execution_count": 41,
   "metadata": {
    "collapsed": false
   },
   "outputs": [
    {
     "name": "stdout",
     "output_type": "stream",
     "text": [
      "According to witnesses, a loud black man approached a crowd of some 4,000 strangers in downtown Chicago Tuesday and made repeated demands for change., \"The time for change is now,\" said the black guy, yelling at everyone within earshot for 20 straight minutes, practically begging America for change. \"The need for change is stronger and more urgent than ever before. And only you-the people standing here today, and indeed all the people of this great nation-only you can deliver this change.\", It is estimated that, to date, the black man has asked every single person in the United States for change., \"I've already seen this guy four times today,\" Chicago-area ad salesman Blake Gordon said. \"Every time, it's the same exact spiel. 'I need change.' 'I want change.' Why's he so eager for all this change? What's he going to do with it, anyway?\", After his initial requests for change, the black man rambled nonstop on a variety of unrelated topics, calling for affordable health care, demanding that the government immediately begin withdrawing troops from Iraq, and proposing a $75 billion economic stimulus plan to create new jobs., \"What a wacko,\" Schaumburg, IL resident Patrick Morledge said. \"And, of course, after telling us all about how he had the ability to magically fix everything, he went right back to asking for change. Typical.\", \"If he's really looking for change, he's got the wrong guy,\" Morledge added., Reports indicate that the black man has been riding from city to city across the country, asking for change wherever he goes. Citizens in Austin, TX said they spotted the same guy standing on the street Friday, shouting far-fetched ideas about global warming. Cleveland residents also reported seeing him in a local park, wildly gesticulating and quoting from the Bible. And last week, patrons at the Starlight Diner in Cheyenne, WY claimed that the black man accosted them while they were eating, repeatedly requesting change., \"I saw him walk in and I knew he was headed straight for our table,\" said mother of three Gladys Davies. \"He just stood there smiling at us for a while, and asked how our food tasted. Then he went and did the same thing at the next table over. The nerve of some people.\", Those who encountered the black man Tuesday said he engaged in erratic behavior, including pointing at random people in the crowd and desperately saying he needs their help, going up to complete strangers and hugging them, and angrily claiming that he is not looking for just a little bit of change, but rather a great deal of change, and that he wants it \"right now.\", \"I'll be honest, when that black guy said he would 'stop at nothing' to get change, it kind of scared me,\" local mechanic Phil Nighbert said. \"Just leave me alone.\", Though many were taken aback by the black man's brazen demands, some, such as Jackson, MS's Holly Moser, sympathized with him. She gave the black man credit for boldly standing up and asking every last person around him for change. , \"I told him I'd give him some if I saw him later, even though I probably won't,\" Moser said. \"Very nice man, though.\", Most, however, ignored his requests. , \"I'm a hardworking American who pays his taxes, and the last thing I need is some guy on the street demanding change from me,\" said William Overkamp, a Springfield, IL gun-shop owner., He added, \"What he really needs is a job.\" ]\n"
     ]
    }
   ],
   "source": [
    "# check it\n",
    "print(unicodetoascii(text[0]))"
   ]
  },
  {
   "cell_type": "code",
   "execution_count": 42,
   "metadata": {
    "collapsed": false
   },
   "outputs": [],
   "source": [
    "# apply the above to the whole dataframe\n",
    "obama['body'] = obama.body.apply(unicodetoascii)"
   ]
  },
  {
   "cell_type": "code",
   "execution_count": 43,
   "metadata": {
    "collapsed": false
   },
   "outputs": [],
   "source": [
    "# export cleaner file to csv as clean file\n",
    "obama.to_csv('obama_cleaned.csv')"
   ]
  },
  {
   "cell_type": "markdown",
   "metadata": {},
   "source": [
    "## Text Analysis"
   ]
  },
  {
   "cell_type": "code",
   "execution_count": 44,
   "metadata": {
    "collapsed": false
   },
   "outputs": [],
   "source": [
    "# obama = pd.read_csv('obama_cleaned.csv')\n",
    "text = obama.body"
   ]
  },
  {
   "cell_type": "code",
   "execution_count": 45,
   "metadata": {
    "collapsed": false
   },
   "outputs": [
    {
     "data": {
      "text/plain": [
       "0    According to witnesses, a loud black man appro...\n",
       "1    Presidential hopefuls John McCain (R-AZ), Bara...\n",
       "2    As the 2008 presidential election draws closer...\n",
       "3    Hailed by media critics as the fluffiest, most...\n",
       "4    Barack Obama's once-commanding lead in the pol...\n",
       "Name: body, dtype: object"
      ]
     },
     "execution_count": 45,
     "metadata": {},
     "output_type": "execute_result"
    }
   ],
   "source": [
    "text[0:5]"
   ]
  },
  {
   "cell_type": "code",
   "execution_count": 46,
   "metadata": {
    "collapsed": false
   },
   "outputs": [],
   "source": [
    "'''\n",
    "create a document term matrix with:\n",
    "-ngram range 1,2\n",
    "-minimum document appearance for any term = 2\n",
    "-removal of all English stop words\n",
    "'''\n",
    "vect = CountVectorizer(ngram_range=(1, 2), stop_words='english', min_df=2)\n",
    "dtm = vect.fit_transform(text)"
   ]
  },
  {
   "cell_type": "code",
   "execution_count": 47,
   "metadata": {
    "collapsed": false
   },
   "outputs": [
    {
     "data": {
      "text/plain": [
       "(262, 7695)"
      ]
     },
     "execution_count": 47,
     "metadata": {},
     "output_type": "execute_result"
    }
   ],
   "source": [
    "# how many words/word pairs meet this criteria? 7695\n",
    "dtm.shape"
   ]
  },
  {
   "cell_type": "code",
   "execution_count": 48,
   "metadata": {
    "collapsed": true
   },
   "outputs": [],
   "source": [
    "# do the above, but make a dataframe with feature names = words\n",
    "tf = pd.DataFrame(vect.fit_transform(text).toarray(), columns=vect.get_feature_names())"
   ]
  },
  {
   "cell_type": "code",
   "execution_count": 49,
   "metadata": {
    "collapsed": false
   },
   "outputs": [
    {
     "data": {
      "text/plain": [
       "obama                     1248\n",
       "president                  824\n",
       "said                       652\n",
       "just                       301\n",
       "house                      277\n",
       "time                       274\n",
       "white                      259\n",
       "white house                232\n",
       "barack                     214\n",
       "nation                     184\n",
       "people                     184\n",
       "like                       184\n",
       "added                      178\n",
       "barack obama               174\n",
       "sources                    161\n",
       "reportedly                 159\n",
       "american                   151\n",
       "americans                  147\n",
       "know                       135\n",
       "press                      132\n",
       "years                      132\n",
       "president obama            129\n",
       "according                  127\n",
       "right                      124\n",
       "country                    123\n",
       "new                        123\n",
       "confirmed                  121\n",
       "office                     120\n",
       "year                       112\n",
       "really                     112\n",
       "                          ... \n",
       "president finally            2\n",
       "president franklin           2\n",
       "president genuinely          2\n",
       "president according          2\n",
       "president 2008               2\n",
       "preserving environment       2\n",
       "exploit                      2\n",
       "precious                     2\n",
       "precipitously                2\n",
       "extension                    2\n",
       "precision                    2\n",
       "expressed concern            2\n",
       "predict                      2\n",
       "explosion                    2\n",
       "exploring                    2\n",
       "exploration                  2\n",
       "exploiting                   2\n",
       "exploding                    2\n",
       "experimentation              2\n",
       "explicit                     2\n",
       "preparing                    2\n",
       "presented president          2\n",
       "explained obama              2\n",
       "explained nation             2\n",
       "presents                     2\n",
       "preservation                 2\n",
       "experts said                 2\n",
       "experts agree                2\n",
       "preserved                    2\n",
       "zone                         2\n",
       "dtype: int64"
      ]
     },
     "execution_count": 49,
     "metadata": {},
     "output_type": "execute_result"
    }
   ],
   "source": [
    "# see most common terms\n",
    "tf.sum().sort_values(ascending=False)"
   ]
  },
  {
   "cell_type": "markdown",
   "metadata": {},
   "source": [
    "Let's compare Obama's first and second term."
   ]
  },
  {
   "cell_type": "code",
   "execution_count": 50,
   "metadata": {
    "collapsed": true
   },
   "outputs": [],
   "source": [
    "obama_first = obama[obama.date < '2013-01-20']"
   ]
  },
  {
   "cell_type": "code",
   "execution_count": 51,
   "metadata": {
    "collapsed": false
   },
   "outputs": [
    {
     "data": {
      "text/plain": [
       "(134, 10)"
      ]
     },
     "execution_count": 51,
     "metadata": {},
     "output_type": "execute_result"
    }
   ],
   "source": [
    "# 134 stories\n",
    "obama_first.shape"
   ]
  },
  {
   "cell_type": "code",
   "execution_count": 52,
   "metadata": {
    "collapsed": true
   },
   "outputs": [],
   "source": [
    "obama_second = obama[obama.date >= '2013-01-20']"
   ]
  },
  {
   "cell_type": "code",
   "execution_count": 53,
   "metadata": {
    "collapsed": false
   },
   "outputs": [
    {
     "data": {
      "text/plain": [
       "(128, 10)"
      ]
     },
     "execution_count": 53,
     "metadata": {},
     "output_type": "execute_result"
    }
   ],
   "source": [
    "# 128 story - remarkably equitable classes\n",
    "obama_second.shape"
   ]
  },
  {
   "cell_type": "code",
   "execution_count": 54,
   "metadata": {
    "collapsed": false
   },
   "outputs": [],
   "source": [
    "tf1 = pd.DataFrame(vect.fit_transform(obama_first.body).toarray(), columns=vect.get_feature_names())"
   ]
  },
  {
   "cell_type": "code",
   "execution_count": 55,
   "metadata": {
    "collapsed": false
   },
   "outputs": [
    {
     "data": {
      "text/plain": [
       "obama                    784\n",
       "president                443\n",
       "said                     400\n",
       "just                     155\n",
       "time                     141\n",
       "barack                   137\n",
       "house                    129\n",
       "white                    125\n",
       "people                   118\n",
       "barack obama             116\n",
       "like                     113\n",
       "white house              105\n",
       "nation                   104\n",
       "american                  99\n",
       "americans                 98\n",
       "added                     96\n",
       "new                       92\n",
       "campaign                  89\n",
       "years                     85\n",
       "according                 79\n",
       "man                       77\n",
       "country                   77\n",
       "year                      72\n",
       "know                      72\n",
       "sources                   71\n",
       "reportedly                68\n",
       "obama said                68\n",
       "states                    68\n",
       "romney                    66\n",
       "right                     64\n",
       "                        ... \n",
       "real leadership            2\n",
       "earn                       2\n",
       "really time                2\n",
       "red white                  2\n",
       "recovery president         2\n",
       "recovery plan              2\n",
       "mississippi                2\n",
       "recent history             2\n",
       "eat                        2\n",
       "jaw                        2\n",
       "echo                       2\n",
       "reasonable                 2\n",
       "economic crisis            2\n",
       "economic recession         2\n",
       "really want                2\n",
       "economic turmoil           2\n",
       "effort counter             2\n",
       "really set                 2\n",
       "economy obama              2\n",
       "really really              2\n",
       "really needs               2\n",
       "editorials                 2\n",
       "really loud                2\n",
       "mistakes                   2\n",
       "really did                 2\n",
       "effective immediately      2\n",
       "effectively                2\n",
       "jan 20                     2\n",
       "realistic                  2\n",
       "rolled                     2\n",
       "dtype: int64"
      ]
     },
     "execution_count": 55,
     "metadata": {},
     "output_type": "execute_result"
    }
   ],
   "source": [
    "tf1.sum().sort_values(ascending=False)"
   ]
  },
  {
   "cell_type": "code",
   "execution_count": 56,
   "metadata": {
    "collapsed": true
   },
   "outputs": [],
   "source": [
    "tf2 = pd.DataFrame(vect.fit_transform(obama_second.body).toarray(), columns=vect.get_feature_names())"
   ]
  },
  {
   "cell_type": "code",
   "execution_count": 57,
   "metadata": {
    "collapsed": false
   },
   "outputs": [
    {
     "data": {
      "text/plain": [
       "obama                     464\n",
       "president                 381\n",
       "said                      252\n",
       "house                     148\n",
       "just                      146\n",
       "white                     134\n",
       "time                      133\n",
       "white house               127\n",
       "reportedly                 91\n",
       "sources                    90\n",
       "added                      82\n",
       "confirmed                  81\n",
       "nation                     80\n",
       "barack                     77\n",
       "press                      73\n",
       "like                       71\n",
       "president obama            71\n",
       "people                     66\n",
       "ll                         63\n",
       "know                       63\n",
       "right                      60\n",
       "office                     60\n",
       "barack obama               58\n",
       "old                        52\n",
       "american                   52\n",
       "day                        52\n",
       "ve                         50\n",
       "going                      50\n",
       "way                        49\n",
       "really                     49\n",
       "                         ... \n",
       "fat                         2\n",
       "obama term                  2\n",
       "fathers                     2\n",
       "factions                    2\n",
       "twin                        2\n",
       "occur                       2\n",
       "official white              2\n",
       "experimental                2\n",
       "ol                          2\n",
       "okay sure                   2\n",
       "stunning                    2\n",
       "oil spill                   2\n",
       "ohio                        2\n",
       "oh god                      2\n",
       "officials said              2\n",
       "officials announced         2\n",
       "officially                  2\n",
       "extracting                  2\n",
       "oct                         2\n",
       "office sources              2\n",
       "eye contact                 2\n",
       "office east                 2\n",
       "submit                      2\n",
       "eyewitnesses                2\n",
       "eyewitnesses confirmed      2\n",
       "type                        2\n",
       "face face                   2\n",
       "offers                      2\n",
       "faces                       2\n",
       "situation room              2\n",
       "dtype: int64"
      ]
     },
     "execution_count": 57,
     "metadata": {},
     "output_type": "execute_result"
    }
   ],
   "source": [
    "tf2.sum().sort_values(ascending=False)"
   ]
  },
  {
   "cell_type": "code",
   "execution_count": 58,
   "metadata": {
    "collapsed": false
   },
   "outputs": [
    {
     "name": "stdout",
     "output_type": "stream",
     "text": [
      "                    0_x   0_y\n",
      "00                  3.0   NaN\n",
      "000                37.0  19.0\n",
      "000 citizens        2.0   NaN\n",
      "000 person          2.0   NaN\n",
      "000 soldiers        2.0   2.0\n",
      "000 square          NaN   2.0\n",
      "000 supporters      3.0   NaN\n",
      "000 votes           2.0   NaN\n",
      "10                 30.0  13.0\n",
      "10 000              3.0   NaN\n",
      "10 15               3.0   NaN\n",
      "10 minutes          NaN   2.0\n",
      "10 percent          2.0   NaN\n",
      "10 years            5.0   NaN\n",
      "100                 8.0   8.0\n",
      "100 days            2.0   2.0\n",
      "11                  9.0   5.0\n",
      "11 year             3.0   NaN\n",
      "12                 16.0   7.0\n",
      "12 points           2.0   NaN\n",
      "12 times            2.0   NaN\n",
      "12 years            2.0   NaN\n",
      "13                  3.0   3.0\n",
      "132                 4.0   NaN\n",
      "132 room            4.0   NaN\n",
      "14                  5.0   2.0\n",
      "15                 11.0   7.0\n",
      "15 minutes          3.0   2.0\n",
      "15 percent          2.0   NaN\n",
      "15 years            3.0   NaN\n",
      "...                 ...   ...\n",
      "wrong              10.0   2.0\n",
      "wrong obama         2.0   NaN\n",
      "wrote               8.0   NaN\n",
      "wrought             NaN   2.0\n",
      "yards               2.0   NaN\n",
      "yards away          2.0   NaN\n",
      "yeah                3.0   7.0\n",
      "year               72.0  40.0\n",
      "year half           2.0   NaN\n",
      "year old           34.0  21.0\n",
      "years              85.0  47.0\n",
      "years ago           6.0   4.0\n",
      "years earlier       2.0   NaN\n",
      "years obama         3.0   NaN\n",
      "years old           2.0   2.0\n",
      "years president     NaN   3.0\n",
      "yemen               NaN   3.0\n",
      "yes                21.0   8.0\n",
      "yesterday           5.0   5.0\n",
      "ymca                2.0   NaN\n",
      "york               15.0   3.0\n",
      "york city           2.0   NaN\n",
      "york times          6.0   NaN\n",
      "young              12.0   7.0\n",
      "young daughters     2.0   NaN\n",
      "younger             2.0   NaN\n",
      "youngest            5.0   NaN\n",
      "youngest daughter   3.0   NaN\n",
      "youth               2.0   NaN\n",
      "zero                5.0   NaN\n",
      "\n",
      "[6158 rows x 2 columns]\n"
     ]
    }
   ],
   "source": [
    "word_counts = pd.merge(pd.DataFrame(data=tf1.sum().sort_values(ascending=False)),pd.DataFrame(data=tf2.sum().sort_values(ascending=False)),how='outer',left_index=True,right_index=True)\n",
    "print(word_counts)"
   ]
  },
  {
   "cell_type": "code",
   "execution_count": 59,
   "metadata": {
    "collapsed": false
   },
   "outputs": [],
   "source": [
    "word_counts.columns = ['term_one', 'term_two']"
   ]
  },
  {
   "cell_type": "code",
   "execution_count": 60,
   "metadata": {
    "collapsed": false
   },
   "outputs": [
    {
     "data": {
      "text/html": [
       "<div>\n",
       "<table border=\"1\" class=\"dataframe\">\n",
       "  <thead>\n",
       "    <tr style=\"text-align: right;\">\n",
       "      <th></th>\n",
       "      <th>term_one</th>\n",
       "      <th>term_two</th>\n",
       "    </tr>\n",
       "  </thead>\n",
       "  <tbody>\n",
       "    <tr>\n",
       "      <th>00</th>\n",
       "      <td>3.0</td>\n",
       "      <td>NaN</td>\n",
       "    </tr>\n",
       "    <tr>\n",
       "      <th>000</th>\n",
       "      <td>37.0</td>\n",
       "      <td>19.0</td>\n",
       "    </tr>\n",
       "    <tr>\n",
       "      <th>000 citizens</th>\n",
       "      <td>2.0</td>\n",
       "      <td>NaN</td>\n",
       "    </tr>\n",
       "    <tr>\n",
       "      <th>000 person</th>\n",
       "      <td>2.0</td>\n",
       "      <td>NaN</td>\n",
       "    </tr>\n",
       "    <tr>\n",
       "      <th>000 soldiers</th>\n",
       "      <td>2.0</td>\n",
       "      <td>2.0</td>\n",
       "    </tr>\n",
       "  </tbody>\n",
       "</table>\n",
       "</div>"
      ],
      "text/plain": [
       "              term_one  term_two\n",
       "00                 3.0       NaN\n",
       "000               37.0      19.0\n",
       "000 citizens       2.0       NaN\n",
       "000 person         2.0       NaN\n",
       "000 soldiers       2.0       2.0"
      ]
     },
     "execution_count": 60,
     "metadata": {},
     "output_type": "execute_result"
    }
   ],
   "source": [
    "word_counts.head()"
   ]
  },
  {
   "cell_type": "code",
   "execution_count": 61,
   "metadata": {
    "collapsed": true
   },
   "outputs": [],
   "source": [
    "# find sums\n",
    "word_counts['sum'] = word_counts['term_one'] + word_counts['term_two']"
   ]
  },
  {
   "cell_type": "code",
   "execution_count": 62,
   "metadata": {
    "collapsed": false
   },
   "outputs": [
    {
     "data": {
      "text/html": [
       "<div>\n",
       "<table border=\"1\" class=\"dataframe\">\n",
       "  <thead>\n",
       "    <tr style=\"text-align: right;\">\n",
       "      <th></th>\n",
       "      <th>term_one</th>\n",
       "      <th>term_two</th>\n",
       "      <th>sum</th>\n",
       "    </tr>\n",
       "  </thead>\n",
       "  <tbody>\n",
       "    <tr>\n",
       "      <th>obama</th>\n",
       "      <td>784.0</td>\n",
       "      <td>464.0</td>\n",
       "      <td>1248.0</td>\n",
       "    </tr>\n",
       "    <tr>\n",
       "      <th>president</th>\n",
       "      <td>443.0</td>\n",
       "      <td>381.0</td>\n",
       "      <td>824.0</td>\n",
       "    </tr>\n",
       "    <tr>\n",
       "      <th>said</th>\n",
       "      <td>400.0</td>\n",
       "      <td>252.0</td>\n",
       "      <td>652.0</td>\n",
       "    </tr>\n",
       "    <tr>\n",
       "      <th>just</th>\n",
       "      <td>155.0</td>\n",
       "      <td>146.0</td>\n",
       "      <td>301.0</td>\n",
       "    </tr>\n",
       "    <tr>\n",
       "      <th>house</th>\n",
       "      <td>129.0</td>\n",
       "      <td>148.0</td>\n",
       "      <td>277.0</td>\n",
       "    </tr>\n",
       "    <tr>\n",
       "      <th>time</th>\n",
       "      <td>141.0</td>\n",
       "      <td>133.0</td>\n",
       "      <td>274.0</td>\n",
       "    </tr>\n",
       "    <tr>\n",
       "      <th>white</th>\n",
       "      <td>125.0</td>\n",
       "      <td>134.0</td>\n",
       "      <td>259.0</td>\n",
       "    </tr>\n",
       "    <tr>\n",
       "      <th>white house</th>\n",
       "      <td>105.0</td>\n",
       "      <td>127.0</td>\n",
       "      <td>232.0</td>\n",
       "    </tr>\n",
       "    <tr>\n",
       "      <th>barack</th>\n",
       "      <td>137.0</td>\n",
       "      <td>77.0</td>\n",
       "      <td>214.0</td>\n",
       "    </tr>\n",
       "    <tr>\n",
       "      <th>people</th>\n",
       "      <td>118.0</td>\n",
       "      <td>66.0</td>\n",
       "      <td>184.0</td>\n",
       "    </tr>\n",
       "    <tr>\n",
       "      <th>nation</th>\n",
       "      <td>104.0</td>\n",
       "      <td>80.0</td>\n",
       "      <td>184.0</td>\n",
       "    </tr>\n",
       "    <tr>\n",
       "      <th>like</th>\n",
       "      <td>113.0</td>\n",
       "      <td>71.0</td>\n",
       "      <td>184.0</td>\n",
       "    </tr>\n",
       "    <tr>\n",
       "      <th>added</th>\n",
       "      <td>96.0</td>\n",
       "      <td>82.0</td>\n",
       "      <td>178.0</td>\n",
       "    </tr>\n",
       "    <tr>\n",
       "      <th>barack obama</th>\n",
       "      <td>116.0</td>\n",
       "      <td>58.0</td>\n",
       "      <td>174.0</td>\n",
       "    </tr>\n",
       "    <tr>\n",
       "      <th>sources</th>\n",
       "      <td>71.0</td>\n",
       "      <td>90.0</td>\n",
       "      <td>161.0</td>\n",
       "    </tr>\n",
       "    <tr>\n",
       "      <th>reportedly</th>\n",
       "      <td>68.0</td>\n",
       "      <td>91.0</td>\n",
       "      <td>159.0</td>\n",
       "    </tr>\n",
       "    <tr>\n",
       "      <th>american</th>\n",
       "      <td>99.0</td>\n",
       "      <td>52.0</td>\n",
       "      <td>151.0</td>\n",
       "    </tr>\n",
       "    <tr>\n",
       "      <th>americans</th>\n",
       "      <td>98.0</td>\n",
       "      <td>49.0</td>\n",
       "      <td>147.0</td>\n",
       "    </tr>\n",
       "    <tr>\n",
       "      <th>know</th>\n",
       "      <td>72.0</td>\n",
       "      <td>63.0</td>\n",
       "      <td>135.0</td>\n",
       "    </tr>\n",
       "    <tr>\n",
       "      <th>years</th>\n",
       "      <td>85.0</td>\n",
       "      <td>47.0</td>\n",
       "      <td>132.0</td>\n",
       "    </tr>\n",
       "    <tr>\n",
       "      <th>press</th>\n",
       "      <td>59.0</td>\n",
       "      <td>73.0</td>\n",
       "      <td>132.0</td>\n",
       "    </tr>\n",
       "    <tr>\n",
       "      <th>president obama</th>\n",
       "      <td>58.0</td>\n",
       "      <td>71.0</td>\n",
       "      <td>129.0</td>\n",
       "    </tr>\n",
       "    <tr>\n",
       "      <th>according</th>\n",
       "      <td>79.0</td>\n",
       "      <td>48.0</td>\n",
       "      <td>127.0</td>\n",
       "    </tr>\n",
       "    <tr>\n",
       "      <th>right</th>\n",
       "      <td>64.0</td>\n",
       "      <td>60.0</td>\n",
       "      <td>124.0</td>\n",
       "    </tr>\n",
       "    <tr>\n",
       "      <th>country</th>\n",
       "      <td>77.0</td>\n",
       "      <td>46.0</td>\n",
       "      <td>123.0</td>\n",
       "    </tr>\n",
       "    <tr>\n",
       "      <th>new</th>\n",
       "      <td>92.0</td>\n",
       "      <td>31.0</td>\n",
       "      <td>123.0</td>\n",
       "    </tr>\n",
       "    <tr>\n",
       "      <th>confirmed</th>\n",
       "      <td>40.0</td>\n",
       "      <td>81.0</td>\n",
       "      <td>121.0</td>\n",
       "    </tr>\n",
       "    <tr>\n",
       "      <th>office</th>\n",
       "      <td>60.0</td>\n",
       "      <td>60.0</td>\n",
       "      <td>120.0</td>\n",
       "    </tr>\n",
       "    <tr>\n",
       "      <th>year</th>\n",
       "      <td>72.0</td>\n",
       "      <td>40.0</td>\n",
       "      <td>112.0</td>\n",
       "    </tr>\n",
       "    <tr>\n",
       "      <th>really</th>\n",
       "      <td>63.0</td>\n",
       "      <td>49.0</td>\n",
       "      <td>112.0</td>\n",
       "    </tr>\n",
       "    <tr>\n",
       "      <th>...</th>\n",
       "      <td>...</td>\n",
       "      <td>...</td>\n",
       "      <td>...</td>\n",
       "    </tr>\n",
       "    <tr>\n",
       "      <th>worldwide</th>\n",
       "      <td>2.0</td>\n",
       "      <td>NaN</td>\n",
       "      <td>NaN</td>\n",
       "    </tr>\n",
       "    <tr>\n",
       "      <th>worried</th>\n",
       "      <td>5.0</td>\n",
       "      <td>NaN</td>\n",
       "      <td>NaN</td>\n",
       "    </tr>\n",
       "    <tr>\n",
       "      <th>worry</th>\n",
       "      <td>NaN</td>\n",
       "      <td>6.0</td>\n",
       "      <td>NaN</td>\n",
       "    </tr>\n",
       "    <tr>\n",
       "      <th>worry obama</th>\n",
       "      <td>NaN</td>\n",
       "      <td>2.0</td>\n",
       "      <td>NaN</td>\n",
       "    </tr>\n",
       "    <tr>\n",
       "      <th>worse</th>\n",
       "      <td>4.0</td>\n",
       "      <td>NaN</td>\n",
       "      <td>NaN</td>\n",
       "    </tr>\n",
       "    <tr>\n",
       "      <th>worship</th>\n",
       "      <td>2.0</td>\n",
       "      <td>NaN</td>\n",
       "      <td>NaN</td>\n",
       "    </tr>\n",
       "    <tr>\n",
       "      <th>worthless</th>\n",
       "      <td>NaN</td>\n",
       "      <td>2.0</td>\n",
       "      <td>NaN</td>\n",
       "    </tr>\n",
       "    <tr>\n",
       "      <th>worthy</th>\n",
       "      <td>2.0</td>\n",
       "      <td>NaN</td>\n",
       "      <td>NaN</td>\n",
       "    </tr>\n",
       "    <tr>\n",
       "      <th>wow</th>\n",
       "      <td>NaN</td>\n",
       "      <td>2.0</td>\n",
       "      <td>NaN</td>\n",
       "    </tr>\n",
       "    <tr>\n",
       "      <th>wrapped</th>\n",
       "      <td>NaN</td>\n",
       "      <td>4.0</td>\n",
       "      <td>NaN</td>\n",
       "    </tr>\n",
       "    <tr>\n",
       "      <th>wrapping</th>\n",
       "      <td>NaN</td>\n",
       "      <td>2.0</td>\n",
       "      <td>NaN</td>\n",
       "    </tr>\n",
       "    <tr>\n",
       "      <th>wrong obama</th>\n",
       "      <td>2.0</td>\n",
       "      <td>NaN</td>\n",
       "      <td>NaN</td>\n",
       "    </tr>\n",
       "    <tr>\n",
       "      <th>wrote</th>\n",
       "      <td>8.0</td>\n",
       "      <td>NaN</td>\n",
       "      <td>NaN</td>\n",
       "    </tr>\n",
       "    <tr>\n",
       "      <th>wrought</th>\n",
       "      <td>NaN</td>\n",
       "      <td>2.0</td>\n",
       "      <td>NaN</td>\n",
       "    </tr>\n",
       "    <tr>\n",
       "      <th>yards</th>\n",
       "      <td>2.0</td>\n",
       "      <td>NaN</td>\n",
       "      <td>NaN</td>\n",
       "    </tr>\n",
       "    <tr>\n",
       "      <th>yards away</th>\n",
       "      <td>2.0</td>\n",
       "      <td>NaN</td>\n",
       "      <td>NaN</td>\n",
       "    </tr>\n",
       "    <tr>\n",
       "      <th>year half</th>\n",
       "      <td>2.0</td>\n",
       "      <td>NaN</td>\n",
       "      <td>NaN</td>\n",
       "    </tr>\n",
       "    <tr>\n",
       "      <th>years earlier</th>\n",
       "      <td>2.0</td>\n",
       "      <td>NaN</td>\n",
       "      <td>NaN</td>\n",
       "    </tr>\n",
       "    <tr>\n",
       "      <th>years obama</th>\n",
       "      <td>3.0</td>\n",
       "      <td>NaN</td>\n",
       "      <td>NaN</td>\n",
       "    </tr>\n",
       "    <tr>\n",
       "      <th>years president</th>\n",
       "      <td>NaN</td>\n",
       "      <td>3.0</td>\n",
       "      <td>NaN</td>\n",
       "    </tr>\n",
       "    <tr>\n",
       "      <th>yemen</th>\n",
       "      <td>NaN</td>\n",
       "      <td>3.0</td>\n",
       "      <td>NaN</td>\n",
       "    </tr>\n",
       "    <tr>\n",
       "      <th>ymca</th>\n",
       "      <td>2.0</td>\n",
       "      <td>NaN</td>\n",
       "      <td>NaN</td>\n",
       "    </tr>\n",
       "    <tr>\n",
       "      <th>york city</th>\n",
       "      <td>2.0</td>\n",
       "      <td>NaN</td>\n",
       "      <td>NaN</td>\n",
       "    </tr>\n",
       "    <tr>\n",
       "      <th>york times</th>\n",
       "      <td>6.0</td>\n",
       "      <td>NaN</td>\n",
       "      <td>NaN</td>\n",
       "    </tr>\n",
       "    <tr>\n",
       "      <th>young daughters</th>\n",
       "      <td>2.0</td>\n",
       "      <td>NaN</td>\n",
       "      <td>NaN</td>\n",
       "    </tr>\n",
       "    <tr>\n",
       "      <th>younger</th>\n",
       "      <td>2.0</td>\n",
       "      <td>NaN</td>\n",
       "      <td>NaN</td>\n",
       "    </tr>\n",
       "    <tr>\n",
       "      <th>youngest</th>\n",
       "      <td>5.0</td>\n",
       "      <td>NaN</td>\n",
       "      <td>NaN</td>\n",
       "    </tr>\n",
       "    <tr>\n",
       "      <th>youngest daughter</th>\n",
       "      <td>3.0</td>\n",
       "      <td>NaN</td>\n",
       "      <td>NaN</td>\n",
       "    </tr>\n",
       "    <tr>\n",
       "      <th>youth</th>\n",
       "      <td>2.0</td>\n",
       "      <td>NaN</td>\n",
       "      <td>NaN</td>\n",
       "    </tr>\n",
       "    <tr>\n",
       "      <th>zero</th>\n",
       "      <td>5.0</td>\n",
       "      <td>NaN</td>\n",
       "      <td>NaN</td>\n",
       "    </tr>\n",
       "  </tbody>\n",
       "</table>\n",
       "<p>6158 rows × 3 columns</p>\n",
       "</div>"
      ],
      "text/plain": [
       "                   term_one  term_two     sum\n",
       "obama                 784.0     464.0  1248.0\n",
       "president             443.0     381.0   824.0\n",
       "said                  400.0     252.0   652.0\n",
       "just                  155.0     146.0   301.0\n",
       "house                 129.0     148.0   277.0\n",
       "time                  141.0     133.0   274.0\n",
       "white                 125.0     134.0   259.0\n",
       "white house           105.0     127.0   232.0\n",
       "barack                137.0      77.0   214.0\n",
       "people                118.0      66.0   184.0\n",
       "nation                104.0      80.0   184.0\n",
       "like                  113.0      71.0   184.0\n",
       "added                  96.0      82.0   178.0\n",
       "barack obama          116.0      58.0   174.0\n",
       "sources                71.0      90.0   161.0\n",
       "reportedly             68.0      91.0   159.0\n",
       "american               99.0      52.0   151.0\n",
       "americans              98.0      49.0   147.0\n",
       "know                   72.0      63.0   135.0\n",
       "years                  85.0      47.0   132.0\n",
       "press                  59.0      73.0   132.0\n",
       "president obama        58.0      71.0   129.0\n",
       "according              79.0      48.0   127.0\n",
       "right                  64.0      60.0   124.0\n",
       "country                77.0      46.0   123.0\n",
       "new                    92.0      31.0   123.0\n",
       "confirmed              40.0      81.0   121.0\n",
       "office                 60.0      60.0   120.0\n",
       "year                   72.0      40.0   112.0\n",
       "really                 63.0      49.0   112.0\n",
       "...                     ...       ...     ...\n",
       "worldwide               2.0       NaN     NaN\n",
       "worried                 5.0       NaN     NaN\n",
       "worry                   NaN       6.0     NaN\n",
       "worry obama             NaN       2.0     NaN\n",
       "worse                   4.0       NaN     NaN\n",
       "worship                 2.0       NaN     NaN\n",
       "worthless               NaN       2.0     NaN\n",
       "worthy                  2.0       NaN     NaN\n",
       "wow                     NaN       2.0     NaN\n",
       "wrapped                 NaN       4.0     NaN\n",
       "wrapping                NaN       2.0     NaN\n",
       "wrong obama             2.0       NaN     NaN\n",
       "wrote                   8.0       NaN     NaN\n",
       "wrought                 NaN       2.0     NaN\n",
       "yards                   2.0       NaN     NaN\n",
       "yards away              2.0       NaN     NaN\n",
       "year half               2.0       NaN     NaN\n",
       "years earlier           2.0       NaN     NaN\n",
       "years obama             3.0       NaN     NaN\n",
       "years president         NaN       3.0     NaN\n",
       "yemen                   NaN       3.0     NaN\n",
       "ymca                    2.0       NaN     NaN\n",
       "york city               2.0       NaN     NaN\n",
       "york times              6.0       NaN     NaN\n",
       "young daughters         2.0       NaN     NaN\n",
       "younger                 2.0       NaN     NaN\n",
       "youngest                5.0       NaN     NaN\n",
       "youngest daughter       3.0       NaN     NaN\n",
       "youth                   2.0       NaN     NaN\n",
       "zero                    5.0       NaN     NaN\n",
       "\n",
       "[6158 rows x 3 columns]"
      ]
     },
     "execution_count": 62,
     "metadata": {},
     "output_type": "execute_result"
    }
   ],
   "source": [
    "# sort by most used values\n",
    "word_counts.sort_values(['sum'], ascending=False)"
   ]
  },
  {
   "cell_type": "code",
   "execution_count": 63,
   "metadata": {
    "collapsed": false
   },
   "outputs": [],
   "source": [
    "# optionally sort by term_one THEN term_two\n",
    "# word_counts.sort_values(['term_one', 'term_two'], ascending=[False, False])"
   ]
  },
  {
   "cell_type": "code",
   "execution_count": 64,
   "metadata": {
    "collapsed": false
   },
   "outputs": [
    {
     "data": {
      "text/html": [
       "<div>\n",
       "<table border=\"1\" class=\"dataframe\">\n",
       "  <thead>\n",
       "    <tr style=\"text-align: right;\">\n",
       "      <th></th>\n",
       "      <th>00</th>\n",
       "      <th>000</th>\n",
       "      <th>000 citizens</th>\n",
       "      <th>000 person</th>\n",
       "      <th>000 soldiers</th>\n",
       "      <th>000 square</th>\n",
       "      <th>000 supporters</th>\n",
       "      <th>000 votes</th>\n",
       "      <th>10</th>\n",
       "      <th>10 000</th>\n",
       "      <th>...</th>\n",
       "      <th>york</th>\n",
       "      <th>york city</th>\n",
       "      <th>york times</th>\n",
       "      <th>young</th>\n",
       "      <th>young daughters</th>\n",
       "      <th>younger</th>\n",
       "      <th>youngest</th>\n",
       "      <th>youngest daughter</th>\n",
       "      <th>youth</th>\n",
       "      <th>zero</th>\n",
       "    </tr>\n",
       "  </thead>\n",
       "  <tbody>\n",
       "    <tr>\n",
       "      <th>term_one</th>\n",
       "      <td>3.0</td>\n",
       "      <td>37.0</td>\n",
       "      <td>2.0</td>\n",
       "      <td>2.0</td>\n",
       "      <td>2.0</td>\n",
       "      <td>NaN</td>\n",
       "      <td>3.0</td>\n",
       "      <td>2.0</td>\n",
       "      <td>30.0</td>\n",
       "      <td>3.0</td>\n",
       "      <td>...</td>\n",
       "      <td>15.0</td>\n",
       "      <td>2.0</td>\n",
       "      <td>6.0</td>\n",
       "      <td>12.0</td>\n",
       "      <td>2.0</td>\n",
       "      <td>2.0</td>\n",
       "      <td>5.0</td>\n",
       "      <td>3.0</td>\n",
       "      <td>2.0</td>\n",
       "      <td>5.0</td>\n",
       "    </tr>\n",
       "    <tr>\n",
       "      <th>term_two</th>\n",
       "      <td>NaN</td>\n",
       "      <td>19.0</td>\n",
       "      <td>NaN</td>\n",
       "      <td>NaN</td>\n",
       "      <td>2.0</td>\n",
       "      <td>2.0</td>\n",
       "      <td>NaN</td>\n",
       "      <td>NaN</td>\n",
       "      <td>13.0</td>\n",
       "      <td>NaN</td>\n",
       "      <td>...</td>\n",
       "      <td>3.0</td>\n",
       "      <td>NaN</td>\n",
       "      <td>NaN</td>\n",
       "      <td>7.0</td>\n",
       "      <td>NaN</td>\n",
       "      <td>NaN</td>\n",
       "      <td>NaN</td>\n",
       "      <td>NaN</td>\n",
       "      <td>NaN</td>\n",
       "      <td>NaN</td>\n",
       "    </tr>\n",
       "    <tr>\n",
       "      <th>sum</th>\n",
       "      <td>NaN</td>\n",
       "      <td>56.0</td>\n",
       "      <td>NaN</td>\n",
       "      <td>NaN</td>\n",
       "      <td>4.0</td>\n",
       "      <td>NaN</td>\n",
       "      <td>NaN</td>\n",
       "      <td>NaN</td>\n",
       "      <td>43.0</td>\n",
       "      <td>NaN</td>\n",
       "      <td>...</td>\n",
       "      <td>18.0</td>\n",
       "      <td>NaN</td>\n",
       "      <td>NaN</td>\n",
       "      <td>19.0</td>\n",
       "      <td>NaN</td>\n",
       "      <td>NaN</td>\n",
       "      <td>NaN</td>\n",
       "      <td>NaN</td>\n",
       "      <td>NaN</td>\n",
       "      <td>NaN</td>\n",
       "    </tr>\n",
       "  </tbody>\n",
       "</table>\n",
       "<p>3 rows × 6158 columns</p>\n",
       "</div>"
      ],
      "text/plain": [
       "           00   000  000 citizens  000 person  000 soldiers  000 square  \\\n",
       "term_one  3.0  37.0           2.0         2.0           2.0         NaN   \n",
       "term_two  NaN  19.0           NaN         NaN           2.0         2.0   \n",
       "sum       NaN  56.0           NaN         NaN           4.0         NaN   \n",
       "\n",
       "          000 supporters  000 votes    10  10 000  ...   york  york city  \\\n",
       "term_one             3.0        2.0  30.0     3.0  ...   15.0        2.0   \n",
       "term_two             NaN        NaN  13.0     NaN  ...    3.0        NaN   \n",
       "sum                  NaN        NaN  43.0     NaN  ...   18.0        NaN   \n",
       "\n",
       "          york times  young  young daughters  younger  youngest  \\\n",
       "term_one         6.0   12.0              2.0      2.0       5.0   \n",
       "term_two         NaN    7.0              NaN      NaN       NaN   \n",
       "sum              NaN   19.0              NaN      NaN       NaN   \n",
       "\n",
       "          youngest daughter  youth  zero  \n",
       "term_one                3.0    2.0   5.0  \n",
       "term_two                NaN    NaN   NaN  \n",
       "sum                     NaN    NaN   NaN  \n",
       "\n",
       "[3 rows x 6158 columns]"
      ]
     },
     "execution_count": 64,
     "metadata": {},
     "output_type": "execute_result"
    }
   ],
   "source": [
    "word_counts.transpose()"
   ]
  },
  {
   "cell_type": "code",
   "execution_count": 65,
   "metadata": {
    "collapsed": false
   },
   "outputs": [
    {
     "data": {
      "text/plain": [
       "<matplotlib.axes._subplots.AxesSubplot at 0x11738b910>"
      ]
     },
     "execution_count": 65,
     "metadata": {},
     "output_type": "execute_result"
    },
    {
     "data": {
      "image/png": "[encoded data removed]",
      "text/plain": [
       "<matplotlib.figure.Figure at 0x11737e650>"
      ]
     },
     "metadata": {},
     "output_type": "display_data"
    }
   ],
   "source": [
    "# plot 25 most used terms\n",
    "word_counts.sort_values(['sum'], ascending=False).drop('sum', axis=1).head(25).plot(kind='bar')"
   ]
  },
  {
   "cell_type": "code",
   "execution_count": 66,
   "metadata": {
    "collapsed": false
   },
   "outputs": [
    {
     "data": {
      "text/plain": [
       "array([ 784.,  443.,  400.,  155.,  129.,  141.,  125.,  105.,  137.,\n",
       "        118.,  104.,  113.,   96.,  116.,   71.,   68.,   99.,   98.,\n",
       "         72.,   85.,   59.,   58.,   79.,   64.,   77.])"
      ]
     },
     "execution_count": 66,
     "metadata": {},
     "output_type": "execute_result"
    }
   ],
   "source": [
    "# grab just values\n",
    "word_counts.sort_values(['sum'], ascending=False).drop('sum', axis=1).head(25).values[:,0]"
   ]
  },
  {
   "cell_type": "code",
   "execution_count": 67,
   "metadata": {
    "collapsed": false
   },
   "outputs": [],
   "source": [
    "# .sort_values(['sum'], ascending=False).drop('sum', axis=1)\n",
    "\n",
    "# word_counts.sort_values(['sum'], ascending=False).drop('sum', axis=1).head(25).plot(kind='bar')\n",
    "\n",
    "# make horizontal plots\n",
    "def horizontal_plot(terms):\n",
    "    ind = np.arange(len(word_counts.head(terms)))\n",
    "    width = 0.4\n",
    "    fig, ax = plt.subplots()\n",
    "    ax.barh(ind, word_counts[0:terms].term_one.values, width, label='First Term')\n",
    "    ax.barh(ind + width, word_counts[0:terms].term_two.values, width, color='deepskyblue', label='Second Term')\n",
    "    ax.set(yticks=ind + width, yticklabels=word_counts.index, ylim=[2*width - 1, len(word_counts.head(terms))])\n",
    "    ax.legend()\n",
    "    plt.title(\"The Onion's Most Used %d Terms Describing Obama's Presidency\"%terms)\n",
    "    plt.show()"
   ]
  },
  {
   "cell_type": "code",
   "execution_count": 68,
   "metadata": {
    "collapsed": false
   },
   "outputs": [
    {
     "data": {
      "text/plain": [
       "array([ 37.,  30.,  16.,   8.,   9.,   3.,   2.,   2.,   3.,   2.,   2.,\n",
       "        nan,   3.,   2.,   3.,   3.,  nan,   2.,   5.,   3.,   2.,   2.,\n",
       "         2.,   4.,   4.])"
      ]
     },
     "execution_count": 68,
     "metadata": {},
     "output_type": "execute_result"
    }
   ],
   "source": [
    "word_counts[0:25].sort_values(['sum'], ascending=False).drop('sum', axis=1).term_one.values"
   ]
  },
  {
   "cell_type": "code",
   "execution_count": 69,
   "metadata": {
    "collapsed": false
   },
   "outputs": [
    {
     "data": {
      "text/plain": [
       "array([ 37.,  30.,  16.,   8.,   9.,   3.,   2.,   2.,   3.,   2.,   2.,\n",
       "        nan,   3.,   2.,   3.,   3.,  nan,   2.,   5.,   3.,   2.,   2.,\n",
       "         2.,   4.,   4.])"
      ]
     },
     "execution_count": 69,
     "metadata": {},
     "output_type": "execute_result"
    }
   ],
   "source": [
    "word_counts[0:25].sort_values(['sum'], ascending=False).term_one.values"
   ]
  },
  {
   "cell_type": "code",
   "execution_count": 70,
   "metadata": {
    "collapsed": false
   },
   "outputs": [
    {
     "data": {
      "image/png": "[encoded data removed]",
      "text/plain": [
       "<matplotlib.figure.Figure at 0x1177e62d0>"
      ]
     },
     "metadata": {},
     "output_type": "display_data"
    }
   ],
   "source": [
    "horizontal_plot(15)"
   ]
  },
  {
   "cell_type": "code",
   "execution_count": null,
   "metadata": {
    "collapsed": false
   },
   "outputs": [],
   "source": []
  },
  {
   "cell_type": "code",
   "execution_count": null,
   "metadata": {
    "collapsed": true
   },
   "outputs": [],
   "source": []
  },
  {
   "cell_type": "code",
   "execution_count": null,
   "metadata": {
    "collapsed": true
   },
   "outputs": [],
   "source": []
  },
  {
   "cell_type": "code",
   "execution_count": null,
   "metadata": {
    "collapsed": true
   },
   "outputs": [],
   "source": []
  },
  {
   "cell_type": "code",
   "execution_count": null,
   "metadata": {
    "collapsed": true
   },
   "outputs": [],
   "source": []
  },
  {
   "cell_type": "code",
   "execution_count": null,
   "metadata": {
    "collapsed": false
   },
   "outputs": [],
   "source": []
  },
  {
   "cell_type": "code",
   "execution_count": null,
   "metadata": {
    "collapsed": false
   },
   "outputs": [],
   "source": []
  },
  {
   "cell_type": "code",
   "execution_count": null,
   "metadata": {
    "collapsed": true
   },
   "outputs": [],
   "source": []
  },
  {
   "cell_type": "code",
   "execution_count": null,
   "metadata": {
    "collapsed": false
   },
   "outputs": [],
   "source": []
  },
  {
   "cell_type": "code",
   "execution_count": null,
   "metadata": {
    "collapsed": true
   },
   "outputs": [],
   "source": []
  },
  {
   "cell_type": "code",
   "execution_count": null,
   "metadata": {
    "collapsed": true
   },
   "outputs": [],
   "source": []
  },
  {
   "cell_type": "code",
   "execution_count": null,
   "metadata": {
    "collapsed": true
   },
   "outputs": [],
   "source": []
  },
  {
   "cell_type": "markdown",
   "metadata": {},
   "source": [
    "## Build a model to determine if a story was first or second term"
   ]
  },
  {
   "cell_type": "code",
   "execution_count": 71,
   "metadata": {
    "collapsed": false
   },
   "outputs": [],
   "source": [
    "# list comprehension to make 0 for first term, 1 for second term\n",
    "obama['second_term'] = [1 if datetime.date(obama.date[i].year, obama.date[i].month, obama.date[i].day) >= datetime.date(2013, 1, 20) else 0 for i,x in enumerate(obama.date)]"
   ]
  },
  {
   "cell_type": "code",
   "execution_count": 72,
   "metadata": {
    "collapsed": false
   },
   "outputs": [
    {
     "data": {
      "text/plain": [
       "0    134\n",
       "1    128\n",
       "Name: second_term, dtype: int64"
      ]
     },
     "execution_count": 72,
     "metadata": {},
     "output_type": "execute_result"
    }
   ],
   "source": [
    "# verify list comprehension success\n",
    "obama.second_term.value_counts()"
   ]
  },
  {
   "cell_type": "code",
   "execution_count": 73,
   "metadata": {
    "collapsed": true
   },
   "outputs": [],
   "source": [
    "# define X and y\n",
    "X = obama.body\n",
    "y = obama.second_term\n",
    "\n",
    "# split the new DataFrame into training and testing sets\n",
    "X_train, X_test, y_train, y_test = train_test_split(X, y, random_state=1)"
   ]
  },
  {
   "cell_type": "code",
   "execution_count": 74,
   "metadata": {
    "collapsed": true
   },
   "outputs": [],
   "source": [
    "# use vectorizer created above to create document-term matrices from X_train and X_test\n",
    "X_train_dtm = vect.fit_transform(X_train)\n",
    "X_test_dtm = vect.transform(X_test)"
   ]
  },
  {
   "cell_type": "markdown",
   "metadata": {},
   "source": [
    "For an introduction to Naive Bayes and text data, check out [Sebastian Rashcka](http://sebastianraschka.com/Articles/2014_naive_bayes_1.html)"
   ]
  },
  {
   "cell_type": "code",
   "execution_count": 75,
   "metadata": {
    "collapsed": false
   },
   "outputs": [
    {
     "name": "stdout",
     "output_type": "stream",
     "text": [
      "0.727272727273\n"
     ]
    }
   ],
   "source": [
    "# use Naive Bayes to predict term\n",
    "nb = MultinomialNB()\n",
    "nb.fit(X_train_dtm, y_train)\n",
    "y_pred_class = nb.predict(X_test_dtm)\n",
    "\n",
    "# calculate accuracy\n",
    "print metrics.accuracy_score(y_test, y_pred_class)"
   ]
  },
  {
   "cell_type": "code",
   "execution_count": null,
   "metadata": {
    "collapsed": false
   },
   "outputs": [
    {
     "data": {
      "text/plain": [
       "0.53030303030303028"
      ]
     },
     "execution_count": 76,
     "metadata": {},
     "output_type": "execute_result"
    }
   ],
   "source": [
    "# calculate null accuracy\n",
    "y_test_binary = np.where(y_test==0, 1, 0)\n",
    "max(y_test_binary.mean(), 1 - y_test_binary.mean())"
   ]
  },
  {
   "cell_type": "markdown",
   "metadata": {},
   "source": [
    "**A 20% lift vs null accuracy isn't too bad!**"
   ]
  },
  {
   "cell_type": "markdown",
   "metadata": {},
   "source": [
    "Support vector machines work well on text data becuase:\n",
    "- Reduces risk of overfitting in high dimension input space\n",
    "- Similarly, trains on few irrelevant features\n",
    "- Document vectors are sparse\n",
    "- Our text categorization problem is linearly separable\n",
    "\n",
    "More info on a paper (Joachims, 1998) cited 8000+ times on this is [here](https://www.cs.cornell.edu/people/tj/publications/joachims_98a.pdf).\n",
    "\n",
    "For a tutorial on SVMs, check [svm-tutorial.com](http://www.svm-tutorial.com/2014/11/svm-understanding-math-part-1/)"
   ]
  },
  {
   "cell_type": "code",
   "execution_count": null,
   "metadata": {
    "collapsed": false
   },
   "outputs": [],
   "source": [
    "# SUPER SLOWLY and lazily going to check every parameter for an SVM on my text data\n",
    "clf = svm.SVC()\n",
    "gamma_range = 10.**np.arange(-5, 2)\n",
    "C_range = 10.**np.arange(-2, 3)\n",
    "kernel_range = ['rbf', 'sigmoid', 'linear', 'poly']\n",
    "param_grid = dict(gamma=gamma_range, C=C_range, kernel=kernel_range)\n",
    "grid = GridSearchCV(clf, param_grid, cv=10, scoring='accuracy')\n",
    "grid.fit(X_train_dtm, y_train)"
   ]
  },
  {
   "cell_type": "code",
   "execution_count": null,
   "metadata": {
    "collapsed": false
   },
   "outputs": [],
   "source": [
    "# what was best?\n",
    "print grid.best_score_\n",
    "print grid.best_params_\n",
    "print grid.best_estimator_"
   ]
  },
  {
   "cell_type": "markdown",
   "metadata": {},
   "source": [
    "Even after all of that SVM training, we improved over Naive Bayes by like 2%. But hey...\n",
    "**A 20% lift vs null accuracy isn't too bad!**"
   ]
  },
  {
   "cell_type": "code",
   "execution_count": null,
   "metadata": {
    "collapsed": true
   },
   "outputs": [],
   "source": []
  },
  {
   "cell_type": "code",
   "execution_count": null,
   "metadata": {
    "collapsed": true
   },
   "outputs": [],
   "source": []
  },
  {
   "cell_type": "code",
   "execution_count": null,
   "metadata": {
    "collapsed": true
   },
   "outputs": [],
   "source": []
  },
  {
   "cell_type": "code",
   "execution_count": null,
   "metadata": {
    "collapsed": true
   },
   "outputs": [],
   "source": []
  },
  {
   "cell_type": "code",
   "execution_count": null,
   "metadata": {
    "collapsed": true
   },
   "outputs": [],
   "source": []
  },
  {
   "cell_type": "code",
   "execution_count": null,
   "metadata": {
    "collapsed": true
   },
   "outputs": [],
   "source": []
  },
  {
   "cell_type": "code",
   "execution_count": null,
   "metadata": {
    "collapsed": false
   },
   "outputs": [],
   "source": [
    "# Use TF-IDF scores to examine most important words\n",
    "vect = TfidfVectorizer(stop_words='english')\n",
    "dtm = vect.fit_transform(obama.body)\n",
    "features = vect.get_feature_names()\n",
    "dtm.shape"
   ]
  },
  {
   "cell_type": "code",
   "execution_count": null,
   "metadata": {
    "collapsed": false
   },
   "outputs": [],
   "source": []
  },
  {
   "cell_type": "code",
   "execution_count": null,
   "metadata": {
    "collapsed": true
   },
   "outputs": [],
   "source": []
  }
 ],
 "metadata": {
  "anaconda-cloud": {},
  "kernelspec": {
   "display_name": "Python [Root]",
   "language": "python",
   "name": "Python [Root]"
  },
  "language_info": {
   "codemirror_mode": {
    "name": "ipython",
    "version": 2
   },
   "file_extension": ".py",
   "mimetype": "text/x-python",
   "name": "python",
   "nbconvert_exporter": "python",
   "pygments_lexer": "ipython2",
   "version": "2.7.12"
  }
 },
 "nbformat": 4,
 "nbformat_minor": 2
}
