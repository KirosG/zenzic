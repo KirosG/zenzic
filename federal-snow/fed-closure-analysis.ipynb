{
 "cells": [
  {
   "cell_type": "markdown",
   "metadata": {},
   "source": [
    "# Federal Closure Analysis"
   ]
  },
  {
   "cell_type": "code",
   "execution_count": 1,
   "metadata": {
    "collapsed": true
   },
   "outputs": [],
   "source": [
    "import pandas as pd\n",
    "import matplotlib.pyplot as plt\n",
    "import numpy as np"
   ]
  },
  {
   "cell_type": "code",
   "execution_count": 69,
   "metadata": {
    "collapsed": true
   },
   "outputs": [],
   "source": [
    "# display plots in the notebook\n",
    "%matplotlib inline\n",
    "\n",
    "# increase default figure and font sizes for easier viewing\n",
    "plt.rcParams['figure.figsize'] = (14, 6)\n",
    "plt.rcParams['font.size'] = 14\n",
    "\n",
    "# always be stylish\n",
    "plt.style.use('ggplot')"
   ]
  },
  {
   "cell_type": "markdown",
   "metadata": {},
   "source": [
    "## OPM Federal Closure Data\n",
    "\n",
    "Read in the data, clean it a bit, make a few plots."
   ]
  },
  {
   "cell_type": "code",
   "execution_count": 3,
   "metadata": {
    "collapsed": true
   },
   "outputs": [],
   "source": [
    "opm = pd.read_csv('./opm_snow_data.csv')"
   ]
  },
  {
   "cell_type": "code",
   "execution_count": 4,
   "metadata": {
    "collapsed": true
   },
   "outputs": [],
   "source": [
    "# rid unnecessary column...\n",
    "opm.drop('Unnamed: 0', axis=1, inplace=True)"
   ]
  },
  {
   "cell_type": "code",
   "execution_count": 5,
   "metadata": {
    "collapsed": false
   },
   "outputs": [
    {
     "data": {
      "text/html": [
       "<div>\n",
       "<table border=\"1\" class=\"dataframe\">\n",
       "  <thead>\n",
       "    <tr style=\"text-align: right;\">\n",
       "      <th></th>\n",
       "      <th>year</th>\n",
       "      <th>date</th>\n",
       "      <th>notice</th>\n",
       "    </tr>\n",
       "  </thead>\n",
       "  <tbody>\n",
       "    <tr>\n",
       "      <th>0</th>\n",
       "      <td>2017</td>\n",
       "      <td>March 15, 2017</td>\n",
       "      <td>Open</td>\n",
       "    </tr>\n",
       "    <tr>\n",
       "      <th>1</th>\n",
       "      <td>2017</td>\n",
       "      <td>March 14, 2017</td>\n",
       "      <td>Open - 3 hours Delayed Arrival - With Option f...</td>\n",
       "    </tr>\n",
       "    <tr>\n",
       "      <th>2</th>\n",
       "      <td>2016</td>\n",
       "      <td>March 16, 2016</td>\n",
       "      <td>Open with Option for Unscheduled Leave or Unsc...</td>\n",
       "    </tr>\n",
       "    <tr>\n",
       "      <th>3</th>\n",
       "      <td>2016</td>\n",
       "      <td>February 16, 2016</td>\n",
       "      <td>Open - 3 hours Delayed Arrival - With Option f...</td>\n",
       "    </tr>\n",
       "    <tr>\n",
       "      <th>4</th>\n",
       "      <td>2016</td>\n",
       "      <td>February 9, 2016</td>\n",
       "      <td>Open with Option for Unscheduled Leave or Unsc...</td>\n",
       "    </tr>\n",
       "  </tbody>\n",
       "</table>\n",
       "</div>"
      ],
      "text/plain": [
       "   year               date                                             notice\n",
       "0  2017     March 15, 2017                                               Open\n",
       "1  2017     March 14, 2017  Open - 3 hours Delayed Arrival - With Option f...\n",
       "2  2016     March 16, 2016  Open with Option for Unscheduled Leave or Unsc...\n",
       "3  2016  February 16, 2016  Open - 3 hours Delayed Arrival - With Option f...\n",
       "4  2016   February 9, 2016  Open with Option for Unscheduled Leave or Unsc..."
      ]
     },
     "execution_count": 5,
     "metadata": {},
     "output_type": "execute_result"
    }
   ],
   "source": [
    "# check 'er out\n",
    "opm.head()"
   ]
  },
  {
   "cell_type": "markdown",
   "metadata": {},
   "source": [
    "### Clean the date values"
   ]
  },
  {
   "cell_type": "code",
   "execution_count": 6,
   "metadata": {
    "collapsed": false
   },
   "outputs": [
    {
     "data": {
      "text/plain": [
       "0          March 15, 2017\n",
       "1          March 14, 2017\n",
       "2          March 16, 2016\n",
       "3       February 16, 2016\n",
       "4        February 9, 2016\n",
       "5        January 29, 2016\n",
       "6        January 28, 2016\n",
       "7        January 27, 2016\n",
       "8        January 26, 2016\n",
       "9        January 25, 2016\n",
       "10       January 22, 2016\n",
       "11       January 22, 2016\n",
       "12          March 6, 2015\n",
       "13          March 5, 2015\n",
       "14          March 3, 2015\n",
       "15          March 2, 2015\n",
       "16      February 26, 2015\n",
       "17      February 18, 2015\n",
       "18      February 17, 2015\n",
       "19       January 27, 2015\n",
       "20       January 26, 2015\n",
       "21       January 21, 2015\n",
       "22       January 14, 2015\n",
       "23       January 12, 2015\n",
       "24        January 6, 2015\n",
       "25         March 17, 2014\n",
       "26          March 4, 2014\n",
       "27          March 3, 2014\n",
       "28      February 26, 2014\n",
       "29      February 14, 2014\n",
       "              ...        \n",
       "117          September 18\n",
       "118              March 19\n",
       "119              March 18\n",
       "120           February 28\n",
       "121           February 27\n",
       "122           February 20\n",
       "123           February 19\n",
       "124           February 18\n",
       "125            February 7\n",
       "126            January 17\n",
       "127           December 12\n",
       "128            December 6\n",
       "129            December 5\n",
       "130            December 4\n",
       "131     February 23, 2001\n",
       "132     February 22, 2001\n",
       "133              April 17\n",
       "134     February 18, 2000\n",
       "135      January 31, 2000\n",
       "136            January 26\n",
       "137      January 25, 2000\n",
       "138      January 20, 2000\n",
       "139       October 1, 1999\n",
       "140    September 16, 1999\n",
       "141        March 10, 1999\n",
       "142         March 9, 1999\n",
       "143      January 15, 1999\n",
       "144       January 8, 1999\n",
       "145           December 24\n",
       "146      January 15, 1998\n",
       "Name: date, dtype: object"
      ]
     },
     "execution_count": 6,
     "metadata": {},
     "output_type": "execute_result"
    }
   ],
   "source": [
    "# I remember scraping a messy date column (hence the \"year\" and \"date\" columns). Indeed, this will need some cleaning.\n",
    "opm.date"
   ]
  },
  {
   "cell_type": "code",
   "execution_count": 7,
   "metadata": {
    "collapsed": true
   },
   "outputs": [],
   "source": [
    "# function to clean dates\n",
    "# if there's a comma, convert to datetime and return\n",
    "# if there's not a comma, grab month/day from something like 'January 27 (PM)' and concatenate with year. Return result\n",
    "def convert_date(year, date):\n",
    "    if ',' in date:\n",
    "        return(pd.to_datetime(date))\n",
    "    else:\n",
    "        item = date.split(' (')[0]\n",
    "        return(pd.to_datetime(str(item) + ', ' + str(year)))"
   ]
  },
  {
   "cell_type": "code",
   "execution_count": 8,
   "metadata": {
    "collapsed": false
   },
   "outputs": [],
   "source": [
    "# use function\n",
    "opm['clean_date'] = opm.apply(lambda row: convert_date(row['year'], row['date']), axis=1)"
   ]
  },
  {
   "cell_type": "code",
   "execution_count": 9,
   "metadata": {
    "collapsed": false
   },
   "outputs": [
    {
     "name": "stdout",
     "output_type": "stream",
     "text": [
      "1998-01-15 00:00:00\n",
      "2026-12-25 20:03:00\n"
     ]
    }
   ],
   "source": [
    "# check...\n",
    "print(opm.clean_date.min())\n",
    "print(opm.clean_date.max())"
   ]
  },
  {
   "cell_type": "code",
   "execution_count": 10,
   "metadata": {
    "collapsed": false
   },
   "outputs": [
    {
     "data": {
      "text/html": [
       "<div>\n",
       "<table border=\"1\" class=\"dataframe\">\n",
       "  <thead>\n",
       "    <tr style=\"text-align: right;\">\n",
       "      <th></th>\n",
       "      <th>year</th>\n",
       "      <th>date</th>\n",
       "      <th>notice</th>\n",
       "      <th>clean_date</th>\n",
       "    </tr>\n",
       "  </thead>\n",
       "  <tbody>\n",
       "    <tr>\n",
       "      <th>0</th>\n",
       "      <td>2017</td>\n",
       "      <td>March 15, 2017</td>\n",
       "      <td>Open</td>\n",
       "      <td>2017-03-15 00:00:00</td>\n",
       "    </tr>\n",
       "    <tr>\n",
       "      <th>1</th>\n",
       "      <td>2017</td>\n",
       "      <td>March 14, 2017</td>\n",
       "      <td>Open - 3 hours Delayed Arrival - With Option f...</td>\n",
       "      <td>2017-03-14 00:00:00</td>\n",
       "    </tr>\n",
       "    <tr>\n",
       "      <th>115</th>\n",
       "      <td>2003</td>\n",
       "      <td>December 25 and 26</td>\n",
       "      <td>Closed</td>\n",
       "      <td>2026-12-25 20:03:00</td>\n",
       "    </tr>\n",
       "  </tbody>\n",
       "</table>\n",
       "</div>"
      ],
      "text/plain": [
       "     year                date  \\\n",
       "0    2017      March 15, 2017   \n",
       "1    2017      March 14, 2017   \n",
       "115  2003  December 25 and 26   \n",
       "\n",
       "                                                notice          clean_date  \n",
       "0                                                 Open 2017-03-15 00:00:00  \n",
       "1    Open - 3 hours Delayed Arrival - With Option f... 2017-03-14 00:00:00  \n",
       "115                                             Closed 2026-12-25 20:03:00  "
      ]
     },
     "execution_count": 10,
     "metadata": {},
     "output_type": "execute_result"
    }
   ],
   "source": [
    "# 2026?!\n",
    "opm[opm.clean_date > '2017']"
   ]
  },
  {
   "cell_type": "code",
   "execution_count": 11,
   "metadata": {
    "collapsed": true
   },
   "outputs": [],
   "source": [
    "# manually append Dec 25 and 26, 2003\n",
    "opm.loc[len(opm)]=[2003, 'December 25', 'Closed', pd.to_datetime('December 25, 2003')]\n",
    "opm.loc[len(opm)]=[2003, 'December 26', 'Closed', pd.to_datetime('December 26, 2003')]"
   ]
  },
  {
   "cell_type": "code",
   "execution_count": 12,
   "metadata": {
    "collapsed": false
   },
   "outputs": [],
   "source": [
    "# drop that ugly other one\n",
    "opm.drop(opm.index[115], inplace=True)"
   ]
  },
  {
   "cell_type": "code",
   "execution_count": 13,
   "metadata": {
    "collapsed": false
   },
   "outputs": [
    {
     "data": {
      "text/html": [
       "<div>\n",
       "<table border=\"1\" class=\"dataframe\">\n",
       "  <thead>\n",
       "    <tr style=\"text-align: right;\">\n",
       "      <th></th>\n",
       "      <th>year</th>\n",
       "      <th>date</th>\n",
       "      <th>notice</th>\n",
       "      <th>clean_date</th>\n",
       "    </tr>\n",
       "  </thead>\n",
       "  <tbody>\n",
       "    <tr>\n",
       "      <th>0</th>\n",
       "      <td>2017</td>\n",
       "      <td>March 15, 2017</td>\n",
       "      <td>Open</td>\n",
       "      <td>2017-03-15</td>\n",
       "    </tr>\n",
       "    <tr>\n",
       "      <th>1</th>\n",
       "      <td>2017</td>\n",
       "      <td>March 14, 2017</td>\n",
       "      <td>Open - 3 hours Delayed Arrival - With Option f...</td>\n",
       "      <td>2017-03-14</td>\n",
       "    </tr>\n",
       "    <tr>\n",
       "      <th>2</th>\n",
       "      <td>2016</td>\n",
       "      <td>March 16, 2016</td>\n",
       "      <td>Open with Option for Unscheduled Leave or Unsc...</td>\n",
       "      <td>2016-03-16</td>\n",
       "    </tr>\n",
       "    <tr>\n",
       "      <th>3</th>\n",
       "      <td>2016</td>\n",
       "      <td>February 16, 2016</td>\n",
       "      <td>Open - 3 hours Delayed Arrival - With Option f...</td>\n",
       "      <td>2016-02-16</td>\n",
       "    </tr>\n",
       "    <tr>\n",
       "      <th>4</th>\n",
       "      <td>2016</td>\n",
       "      <td>February 9, 2016</td>\n",
       "      <td>Open with Option for Unscheduled Leave or Unsc...</td>\n",
       "      <td>2016-02-09</td>\n",
       "    </tr>\n",
       "    <tr>\n",
       "      <th>5</th>\n",
       "      <td>2016</td>\n",
       "      <td>January 29, 2016</td>\n",
       "      <td>Open with Option for Unscheduled Leave or Unsc...</td>\n",
       "      <td>2016-01-29</td>\n",
       "    </tr>\n",
       "    <tr>\n",
       "      <th>6</th>\n",
       "      <td>2016</td>\n",
       "      <td>January 28, 2016</td>\n",
       "      <td>Open - 3 hours Delayed Arrival - With Option f...</td>\n",
       "      <td>2016-01-28</td>\n",
       "    </tr>\n",
       "    <tr>\n",
       "      <th>7</th>\n",
       "      <td>2016</td>\n",
       "      <td>January 27, 2016</td>\n",
       "      <td>Open - 3 hours Delayed Arrival - With Option f...</td>\n",
       "      <td>2016-01-27</td>\n",
       "    </tr>\n",
       "    <tr>\n",
       "      <th>8</th>\n",
       "      <td>2016</td>\n",
       "      <td>January 26, 2016</td>\n",
       "      <td>Federal Offices are Closed - Emergency and Tel...</td>\n",
       "      <td>2016-01-26</td>\n",
       "    </tr>\n",
       "    <tr>\n",
       "      <th>9</th>\n",
       "      <td>2016</td>\n",
       "      <td>January 25, 2016</td>\n",
       "      <td>Federal Offices are Closed - Emergency and Tel...</td>\n",
       "      <td>2016-01-25</td>\n",
       "    </tr>\n",
       "    <tr>\n",
       "      <th>10</th>\n",
       "      <td>2016</td>\n",
       "      <td>January 22, 2016</td>\n",
       "      <td>FEDERAL OFFICES in the Washington, DC, area re...</td>\n",
       "      <td>2016-01-22</td>\n",
       "    </tr>\n",
       "    <tr>\n",
       "      <th>11</th>\n",
       "      <td>2016</td>\n",
       "      <td>January 22, 2016</td>\n",
       "      <td>Open - with Option for Unscheduled Leave or Un...</td>\n",
       "      <td>2016-01-22</td>\n",
       "    </tr>\n",
       "    <tr>\n",
       "      <th>12</th>\n",
       "      <td>2015</td>\n",
       "      <td>March 6, 2015</td>\n",
       "      <td>Open - 2 hours Delayed Arrival - With Option f...</td>\n",
       "      <td>2015-03-06</td>\n",
       "    </tr>\n",
       "    <tr>\n",
       "      <th>13</th>\n",
       "      <td>2015</td>\n",
       "      <td>March 5, 2015</td>\n",
       "      <td>Federal Offices are Closed - Emergency and Tel...</td>\n",
       "      <td>2015-03-05</td>\n",
       "    </tr>\n",
       "    <tr>\n",
       "      <th>14</th>\n",
       "      <td>2015</td>\n",
       "      <td>March 3, 2015</td>\n",
       "      <td>Open with Option for Unscheduled Leave or Unsc...</td>\n",
       "      <td>2015-03-03</td>\n",
       "    </tr>\n",
       "    <tr>\n",
       "      <th>15</th>\n",
       "      <td>2015</td>\n",
       "      <td>March 2, 2015</td>\n",
       "      <td>Open - 2 hours Delayed Arrival - With Option f...</td>\n",
       "      <td>2015-03-02</td>\n",
       "    </tr>\n",
       "    <tr>\n",
       "      <th>16</th>\n",
       "      <td>2015</td>\n",
       "      <td>February 26, 2015</td>\n",
       "      <td>Open - 2 hours Delayed Arrival - With Option f...</td>\n",
       "      <td>2015-02-26</td>\n",
       "    </tr>\n",
       "    <tr>\n",
       "      <th>17</th>\n",
       "      <td>2015</td>\n",
       "      <td>February 18, 2015</td>\n",
       "      <td>Open with Option for Unscheduled Leave or Unsc...</td>\n",
       "      <td>2015-02-18</td>\n",
       "    </tr>\n",
       "    <tr>\n",
       "      <th>18</th>\n",
       "      <td>2015</td>\n",
       "      <td>February 17, 2015</td>\n",
       "      <td>Federal Offices are Closed - Emergency and Tel...</td>\n",
       "      <td>2015-02-17</td>\n",
       "    </tr>\n",
       "    <tr>\n",
       "      <th>19</th>\n",
       "      <td>2015</td>\n",
       "      <td>January 27, 2015</td>\n",
       "      <td>Open - 2 hours Delayed Arrival - With Option f...</td>\n",
       "      <td>2015-01-27</td>\n",
       "    </tr>\n",
       "    <tr>\n",
       "      <th>20</th>\n",
       "      <td>2015</td>\n",
       "      <td>January 26, 2015</td>\n",
       "      <td>Open with Option for Unscheduled Leave or Unsc...</td>\n",
       "      <td>2015-01-26</td>\n",
       "    </tr>\n",
       "    <tr>\n",
       "      <th>21</th>\n",
       "      <td>2015</td>\n",
       "      <td>January 21, 2015</td>\n",
       "      <td>Open with Option for Unscheduled Leave or Unsc...</td>\n",
       "      <td>2015-01-21</td>\n",
       "    </tr>\n",
       "    <tr>\n",
       "      <th>22</th>\n",
       "      <td>2015</td>\n",
       "      <td>January 14, 2015</td>\n",
       "      <td>Open with Option for Unscheduled Leave or Unsc...</td>\n",
       "      <td>2015-01-14</td>\n",
       "    </tr>\n",
       "    <tr>\n",
       "      <th>23</th>\n",
       "      <td>2015</td>\n",
       "      <td>January 12, 2015</td>\n",
       "      <td>Open - 2 hours Delayed Arrival - With Option f...</td>\n",
       "      <td>2015-01-12</td>\n",
       "    </tr>\n",
       "    <tr>\n",
       "      <th>24</th>\n",
       "      <td>2015</td>\n",
       "      <td>January 6, 2015</td>\n",
       "      <td>Open with Option for Unscheduled Leave or Unsc...</td>\n",
       "      <td>2015-01-06</td>\n",
       "    </tr>\n",
       "    <tr>\n",
       "      <th>25</th>\n",
       "      <td>2014</td>\n",
       "      <td>March 17, 2014</td>\n",
       "      <td>Federal Offices are Closed - Emergency and Tel...</td>\n",
       "      <td>2014-03-17</td>\n",
       "    </tr>\n",
       "    <tr>\n",
       "      <th>26</th>\n",
       "      <td>2014</td>\n",
       "      <td>March 4, 2014</td>\n",
       "      <td>Open - 2 hours Delayed Arrival - With Option f...</td>\n",
       "      <td>2014-03-04</td>\n",
       "    </tr>\n",
       "    <tr>\n",
       "      <th>27</th>\n",
       "      <td>2014</td>\n",
       "      <td>March 3, 2014</td>\n",
       "      <td>Federal Offices are Closed - Emergency and Tel...</td>\n",
       "      <td>2014-03-03</td>\n",
       "    </tr>\n",
       "    <tr>\n",
       "      <th>28</th>\n",
       "      <td>2014</td>\n",
       "      <td>February 26, 2014</td>\n",
       "      <td>Open with Option for Unscheduled Leave or Unsc...</td>\n",
       "      <td>2014-02-26</td>\n",
       "    </tr>\n",
       "    <tr>\n",
       "      <th>29</th>\n",
       "      <td>2014</td>\n",
       "      <td>February 14, 2014</td>\n",
       "      <td>Open - 2 hours Delayed Arrival - With Option f...</td>\n",
       "      <td>2014-02-14</td>\n",
       "    </tr>\n",
       "    <tr>\n",
       "      <th>...</th>\n",
       "      <td>...</td>\n",
       "      <td>...</td>\n",
       "      <td>...</td>\n",
       "      <td>...</td>\n",
       "    </tr>\n",
       "    <tr>\n",
       "      <th>119</th>\n",
       "      <td>2003</td>\n",
       "      <td>March 18</td>\n",
       "      <td>Closed</td>\n",
       "      <td>2003-03-18</td>\n",
       "    </tr>\n",
       "    <tr>\n",
       "      <th>120</th>\n",
       "      <td>2003</td>\n",
       "      <td>February 28</td>\n",
       "      <td>Unscheduled Leave</td>\n",
       "      <td>2003-02-28</td>\n",
       "    </tr>\n",
       "    <tr>\n",
       "      <th>121</th>\n",
       "      <td>2003</td>\n",
       "      <td>February 27</td>\n",
       "      <td>Open</td>\n",
       "      <td>2003-02-27</td>\n",
       "    </tr>\n",
       "    <tr>\n",
       "      <th>122</th>\n",
       "      <td>2003</td>\n",
       "      <td>February 20</td>\n",
       "      <td>Open</td>\n",
       "      <td>2003-02-20</td>\n",
       "    </tr>\n",
       "    <tr>\n",
       "      <th>123</th>\n",
       "      <td>2003</td>\n",
       "      <td>February 19</td>\n",
       "      <td>Unscheduled Leave</td>\n",
       "      <td>2003-02-19</td>\n",
       "    </tr>\n",
       "    <tr>\n",
       "      <th>124</th>\n",
       "      <td>2003</td>\n",
       "      <td>February 18</td>\n",
       "      <td>Closed</td>\n",
       "      <td>2003-02-18</td>\n",
       "    </tr>\n",
       "    <tr>\n",
       "      <th>125</th>\n",
       "      <td>2003</td>\n",
       "      <td>February 7</td>\n",
       "      <td>Delayed Arrival/Unscheduled Leave</td>\n",
       "      <td>2003-02-07</td>\n",
       "    </tr>\n",
       "    <tr>\n",
       "      <th>126</th>\n",
       "      <td>2003</td>\n",
       "      <td>January 17</td>\n",
       "      <td>Unscheduled Leave</td>\n",
       "      <td>2003-01-17</td>\n",
       "    </tr>\n",
       "    <tr>\n",
       "      <th>127</th>\n",
       "      <td>2002</td>\n",
       "      <td>December 12</td>\n",
       "      <td>Open</td>\n",
       "      <td>2002-12-12</td>\n",
       "    </tr>\n",
       "    <tr>\n",
       "      <th>128</th>\n",
       "      <td>2002</td>\n",
       "      <td>December 6</td>\n",
       "      <td>Open</td>\n",
       "      <td>2002-12-06</td>\n",
       "    </tr>\n",
       "    <tr>\n",
       "      <th>129</th>\n",
       "      <td>2002</td>\n",
       "      <td>December 5</td>\n",
       "      <td>Unscheduled Leave</td>\n",
       "      <td>2002-12-05</td>\n",
       "    </tr>\n",
       "    <tr>\n",
       "      <th>130</th>\n",
       "      <td>2002</td>\n",
       "      <td>December 4</td>\n",
       "      <td>Open</td>\n",
       "      <td>2002-12-04</td>\n",
       "    </tr>\n",
       "    <tr>\n",
       "      <th>131</th>\n",
       "      <td>2001</td>\n",
       "      <td>February 23, 2001</td>\n",
       "      <td>Unscheduled Leave</td>\n",
       "      <td>2001-02-23</td>\n",
       "    </tr>\n",
       "    <tr>\n",
       "      <th>132</th>\n",
       "      <td>2001</td>\n",
       "      <td>February 22, 2001</td>\n",
       "      <td>Open</td>\n",
       "      <td>2001-02-22</td>\n",
       "    </tr>\n",
       "    <tr>\n",
       "      <th>133</th>\n",
       "      <td>2000</td>\n",
       "      <td>April 17</td>\n",
       "      <td>Wash. DC Unscheduled Leave</td>\n",
       "      <td>2000-04-17</td>\n",
       "    </tr>\n",
       "    <tr>\n",
       "      <th>134</th>\n",
       "      <td>2000</td>\n",
       "      <td>February 18, 2000</td>\n",
       "      <td>Unscheduled Leave</td>\n",
       "      <td>2000-02-18</td>\n",
       "    </tr>\n",
       "    <tr>\n",
       "      <th>135</th>\n",
       "      <td>2000</td>\n",
       "      <td>January 31, 2000</td>\n",
       "      <td>Delayed Arrival/Unscheduled Leave</td>\n",
       "      <td>2000-01-31</td>\n",
       "    </tr>\n",
       "    <tr>\n",
       "      <th>136</th>\n",
       "      <td>2000</td>\n",
       "      <td>January 26</td>\n",
       "      <td>Closed</td>\n",
       "      <td>2000-01-26</td>\n",
       "    </tr>\n",
       "    <tr>\n",
       "      <th>137</th>\n",
       "      <td>2000</td>\n",
       "      <td>January 25, 2000</td>\n",
       "      <td>Closed</td>\n",
       "      <td>2000-01-25</td>\n",
       "    </tr>\n",
       "    <tr>\n",
       "      <th>138</th>\n",
       "      <td>2000</td>\n",
       "      <td>January 20, 2000</td>\n",
       "      <td>Unscheduled Leave</td>\n",
       "      <td>2000-01-20</td>\n",
       "    </tr>\n",
       "    <tr>\n",
       "      <th>139</th>\n",
       "      <td>1999</td>\n",
       "      <td>October 1, 1999</td>\n",
       "      <td>Building Closure</td>\n",
       "      <td>1999-10-01</td>\n",
       "    </tr>\n",
       "    <tr>\n",
       "      <th>140</th>\n",
       "      <td>1999</td>\n",
       "      <td>September 16, 1999</td>\n",
       "      <td>Unscheduled Leave</td>\n",
       "      <td>1999-09-16</td>\n",
       "    </tr>\n",
       "    <tr>\n",
       "      <th>141</th>\n",
       "      <td>1999</td>\n",
       "      <td>March 10, 1999</td>\n",
       "      <td>Unscheduled Leave</td>\n",
       "      <td>1999-03-10</td>\n",
       "    </tr>\n",
       "    <tr>\n",
       "      <th>142</th>\n",
       "      <td>1999</td>\n",
       "      <td>March 9, 1999</td>\n",
       "      <td>Early Dismissal</td>\n",
       "      <td>1999-03-09</td>\n",
       "    </tr>\n",
       "    <tr>\n",
       "      <th>143</th>\n",
       "      <td>1999</td>\n",
       "      <td>January 15, 1999</td>\n",
       "      <td>Unscheduled Leave</td>\n",
       "      <td>1999-01-15</td>\n",
       "    </tr>\n",
       "    <tr>\n",
       "      <th>144</th>\n",
       "      <td>1999</td>\n",
       "      <td>January 8, 1999</td>\n",
       "      <td>Open</td>\n",
       "      <td>1999-01-08</td>\n",
       "    </tr>\n",
       "    <tr>\n",
       "      <th>145</th>\n",
       "      <td>1998</td>\n",
       "      <td>December 24</td>\n",
       "      <td>Delayed Arrival/Unscheduled Leave</td>\n",
       "      <td>1998-12-24</td>\n",
       "    </tr>\n",
       "    <tr>\n",
       "      <th>146</th>\n",
       "      <td>1998</td>\n",
       "      <td>January 15, 1998</td>\n",
       "      <td>Unscheduled Leave</td>\n",
       "      <td>1998-01-15</td>\n",
       "    </tr>\n",
       "    <tr>\n",
       "      <th>147</th>\n",
       "      <td>2003</td>\n",
       "      <td>December 25</td>\n",
       "      <td>Closed</td>\n",
       "      <td>2003-12-25</td>\n",
       "    </tr>\n",
       "    <tr>\n",
       "      <th>148</th>\n",
       "      <td>2003</td>\n",
       "      <td>December 26</td>\n",
       "      <td>Closed</td>\n",
       "      <td>2003-12-26</td>\n",
       "    </tr>\n",
       "  </tbody>\n",
       "</table>\n",
       "<p>148 rows × 4 columns</p>\n",
       "</div>"
      ],
      "text/plain": [
       "     year                date  \\\n",
       "0    2017      March 15, 2017   \n",
       "1    2017      March 14, 2017   \n",
       "2    2016      March 16, 2016   \n",
       "3    2016   February 16, 2016   \n",
       "4    2016    February 9, 2016   \n",
       "5    2016    January 29, 2016   \n",
       "6    2016    January 28, 2016   \n",
       "7    2016    January 27, 2016   \n",
       "8    2016    January 26, 2016   \n",
       "9    2016    January 25, 2016   \n",
       "10   2016    January 22, 2016   \n",
       "11   2016    January 22, 2016   \n",
       "12   2015       March 6, 2015   \n",
       "13   2015       March 5, 2015   \n",
       "14   2015       March 3, 2015   \n",
       "15   2015       March 2, 2015   \n",
       "16   2015   February 26, 2015   \n",
       "17   2015   February 18, 2015   \n",
       "18   2015   February 17, 2015   \n",
       "19   2015    January 27, 2015   \n",
       "20   2015    January 26, 2015   \n",
       "21   2015    January 21, 2015   \n",
       "22   2015    January 14, 2015   \n",
       "23   2015    January 12, 2015   \n",
       "24   2015     January 6, 2015   \n",
       "25   2014      March 17, 2014   \n",
       "26   2014       March 4, 2014   \n",
       "27   2014       March 3, 2014   \n",
       "28   2014   February 26, 2014   \n",
       "29   2014   February 14, 2014   \n",
       "..    ...                 ...   \n",
       "119  2003            March 18   \n",
       "120  2003         February 28   \n",
       "121  2003         February 27   \n",
       "122  2003         February 20   \n",
       "123  2003         February 19   \n",
       "124  2003         February 18   \n",
       "125  2003          February 7   \n",
       "126  2003          January 17   \n",
       "127  2002         December 12   \n",
       "128  2002          December 6   \n",
       "129  2002          December 5   \n",
       "130  2002          December 4   \n",
       "131  2001   February 23, 2001   \n",
       "132  2001   February 22, 2001   \n",
       "133  2000            April 17   \n",
       "134  2000   February 18, 2000   \n",
       "135  2000    January 31, 2000   \n",
       "136  2000          January 26   \n",
       "137  2000    January 25, 2000   \n",
       "138  2000    January 20, 2000   \n",
       "139  1999     October 1, 1999   \n",
       "140  1999  September 16, 1999   \n",
       "141  1999      March 10, 1999   \n",
       "142  1999       March 9, 1999   \n",
       "143  1999    January 15, 1999   \n",
       "144  1999     January 8, 1999   \n",
       "145  1998         December 24   \n",
       "146  1998    January 15, 1998   \n",
       "147  2003         December 25   \n",
       "148  2003         December 26   \n",
       "\n",
       "                                                notice clean_date  \n",
       "0                                                 Open 2017-03-15  \n",
       "1    Open - 3 hours Delayed Arrival - With Option f... 2017-03-14  \n",
       "2    Open with Option for Unscheduled Leave or Unsc... 2016-03-16  \n",
       "3    Open - 3 hours Delayed Arrival - With Option f... 2016-02-16  \n",
       "4    Open with Option for Unscheduled Leave or Unsc... 2016-02-09  \n",
       "5    Open with Option for Unscheduled Leave or Unsc... 2016-01-29  \n",
       "6    Open - 3 hours Delayed Arrival - With Option f... 2016-01-28  \n",
       "7    Open - 3 hours Delayed Arrival - With Option f... 2016-01-27  \n",
       "8    Federal Offices are Closed - Emergency and Tel... 2016-01-26  \n",
       "9    Federal Offices are Closed - Emergency and Tel... 2016-01-25  \n",
       "10   FEDERAL OFFICES in the Washington, DC, area re... 2016-01-22  \n",
       "11   Open - with Option for Unscheduled Leave or Un... 2016-01-22  \n",
       "12   Open - 2 hours Delayed Arrival - With Option f... 2015-03-06  \n",
       "13   Federal Offices are Closed - Emergency and Tel... 2015-03-05  \n",
       "14   Open with Option for Unscheduled Leave or Unsc... 2015-03-03  \n",
       "15   Open - 2 hours Delayed Arrival - With Option f... 2015-03-02  \n",
       "16   Open - 2 hours Delayed Arrival - With Option f... 2015-02-26  \n",
       "17   Open with Option for Unscheduled Leave or Unsc... 2015-02-18  \n",
       "18   Federal Offices are Closed - Emergency and Tel... 2015-02-17  \n",
       "19   Open - 2 hours Delayed Arrival - With Option f... 2015-01-27  \n",
       "20   Open with Option for Unscheduled Leave or Unsc... 2015-01-26  \n",
       "21   Open with Option for Unscheduled Leave or Unsc... 2015-01-21  \n",
       "22   Open with Option for Unscheduled Leave or Unsc... 2015-01-14  \n",
       "23   Open - 2 hours Delayed Arrival - With Option f... 2015-01-12  \n",
       "24   Open with Option for Unscheduled Leave or Unsc... 2015-01-06  \n",
       "25   Federal Offices are Closed - Emergency and Tel... 2014-03-17  \n",
       "26   Open - 2 hours Delayed Arrival - With Option f... 2014-03-04  \n",
       "27   Federal Offices are Closed - Emergency and Tel... 2014-03-03  \n",
       "28   Open with Option for Unscheduled Leave or Unsc... 2014-02-26  \n",
       "29   Open - 2 hours Delayed Arrival - With Option f... 2014-02-14  \n",
       "..                                                 ...        ...  \n",
       "119                                             Closed 2003-03-18  \n",
       "120                                  Unscheduled Leave 2003-02-28  \n",
       "121                                               Open 2003-02-27  \n",
       "122                                               Open 2003-02-20  \n",
       "123                                  Unscheduled Leave 2003-02-19  \n",
       "124                                             Closed 2003-02-18  \n",
       "125                  Delayed Arrival/Unscheduled Leave 2003-02-07  \n",
       "126                                  Unscheduled Leave 2003-01-17  \n",
       "127                                               Open 2002-12-12  \n",
       "128                                               Open 2002-12-06  \n",
       "129                                  Unscheduled Leave 2002-12-05  \n",
       "130                                               Open 2002-12-04  \n",
       "131                                  Unscheduled Leave 2001-02-23  \n",
       "132                                               Open 2001-02-22  \n",
       "133                         Wash. DC Unscheduled Leave 2000-04-17  \n",
       "134                                  Unscheduled Leave 2000-02-18  \n",
       "135                  Delayed Arrival/Unscheduled Leave 2000-01-31  \n",
       "136                                             Closed 2000-01-26  \n",
       "137                                             Closed 2000-01-25  \n",
       "138                                  Unscheduled Leave 2000-01-20  \n",
       "139                                   Building Closure 1999-10-01  \n",
       "140                                  Unscheduled Leave 1999-09-16  \n",
       "141                                  Unscheduled Leave 1999-03-10  \n",
       "142                                    Early Dismissal 1999-03-09  \n",
       "143                                  Unscheduled Leave 1999-01-15  \n",
       "144                                               Open 1999-01-08  \n",
       "145                  Delayed Arrival/Unscheduled Leave 1998-12-24  \n",
       "146                                  Unscheduled Leave 1998-01-15  \n",
       "147                                             Closed 2003-12-25  \n",
       "148                                             Closed 2003-12-26  \n",
       "\n",
       "[148 rows x 4 columns]"
      ]
     },
     "execution_count": 13,
     "metadata": {},
     "output_type": "execute_result"
    }
   ],
   "source": [
    "# reindex\n",
    "opm.reindex(copy=False)"
   ]
  },
  {
   "cell_type": "code",
   "execution_count": 14,
   "metadata": {
    "collapsed": false
   },
   "outputs": [
    {
     "data": {
      "text/plain": [
       "Int64Index([  0,   1,   2,   3,   4,   5,   6,   7,   8,   9,\n",
       "            ...\n",
       "            139, 140, 141, 142, 143, 144, 145, 146, 147, 148],\n",
       "           dtype='int64', length=148)"
      ]
     },
     "execution_count": 14,
     "metadata": {},
     "output_type": "execute_result"
    }
   ],
   "source": [
    "# check\n",
    "opm.index"
   ]
  },
  {
   "cell_type": "code",
   "execution_count": 15,
   "metadata": {
    "collapsed": false
   },
   "outputs": [
    {
     "data": {
      "text/html": [
       "<div>\n",
       "<table border=\"1\" class=\"dataframe\">\n",
       "  <thead>\n",
       "    <tr style=\"text-align: right;\">\n",
       "      <th></th>\n",
       "      <th>year</th>\n",
       "      <th>date</th>\n",
       "      <th>notice</th>\n",
       "      <th>clean_date</th>\n",
       "    </tr>\n",
       "  </thead>\n",
       "  <tbody>\n",
       "    <tr>\n",
       "      <th>0</th>\n",
       "      <td>2017</td>\n",
       "      <td>March 15, 2017</td>\n",
       "      <td>Open</td>\n",
       "      <td>2017-03-15</td>\n",
       "    </tr>\n",
       "    <tr>\n",
       "      <th>1</th>\n",
       "      <td>2017</td>\n",
       "      <td>March 14, 2017</td>\n",
       "      <td>Open - 3 hours Delayed Arrival - With Option f...</td>\n",
       "      <td>2017-03-14</td>\n",
       "    </tr>\n",
       "    <tr>\n",
       "      <th>2</th>\n",
       "      <td>2016</td>\n",
       "      <td>March 16, 2016</td>\n",
       "      <td>Open with Option for Unscheduled Leave or Unsc...</td>\n",
       "      <td>2016-03-16</td>\n",
       "    </tr>\n",
       "    <tr>\n",
       "      <th>3</th>\n",
       "      <td>2016</td>\n",
       "      <td>February 16, 2016</td>\n",
       "      <td>Open - 3 hours Delayed Arrival - With Option f...</td>\n",
       "      <td>2016-02-16</td>\n",
       "    </tr>\n",
       "    <tr>\n",
       "      <th>4</th>\n",
       "      <td>2016</td>\n",
       "      <td>February 9, 2016</td>\n",
       "      <td>Open with Option for Unscheduled Leave or Unsc...</td>\n",
       "      <td>2016-02-09</td>\n",
       "    </tr>\n",
       "  </tbody>\n",
       "</table>\n",
       "</div>"
      ],
      "text/plain": [
       "   year               date                                             notice  \\\n",
       "0  2017     March 15, 2017                                               Open   \n",
       "1  2017     March 14, 2017  Open - 3 hours Delayed Arrival - With Option f...   \n",
       "2  2016     March 16, 2016  Open with Option for Unscheduled Leave or Unsc...   \n",
       "3  2016  February 16, 2016  Open - 3 hours Delayed Arrival - With Option f...   \n",
       "4  2016   February 9, 2016  Open with Option for Unscheduled Leave or Unsc...   \n",
       "\n",
       "  clean_date  \n",
       "0 2017-03-15  \n",
       "1 2017-03-14  \n",
       "2 2016-03-16  \n",
       "3 2016-02-16  \n",
       "4 2016-02-09  "
      ]
     },
     "execution_count": 15,
     "metadata": {},
     "output_type": "execute_result"
    }
   ],
   "source": [
    "opm.head()"
   ]
  },
  {
   "cell_type": "markdown",
   "metadata": {},
   "source": [
    "### Clean the notice texts"
   ]
  },
  {
   "cell_type": "code",
   "execution_count": 16,
   "metadata": {
    "collapsed": false
   },
   "outputs": [
    {
     "data": {
      "text/plain": [
       "27"
      ]
     },
     "execution_count": 16,
     "metadata": {},
     "output_type": "execute_result"
    }
   ],
   "source": [
    "# how many different notices have they used over the years?\n",
    "opm.notice.nunique()"
   ]
  },
  {
   "cell_type": "code",
   "execution_count": 17,
   "metadata": {
    "collapsed": false
   },
   "outputs": [
    {
     "data": {
      "text/plain": [
       "array(['Open',\n",
       "       'Open - 3 hours Delayed Arrival - With Option for Unscheduled Leave or Unscheduled Telework',\n",
       "       'Open with Option for Unscheduled Leave or Unscheduled Telework',\n",
       "       \"Federal Offices are Closed - Emergency and Telework-ready Employees Must Follow Their Agency's Policies\",\n",
       "       'FEDERAL OFFICES in the Washington, DC, area remain CLOSED.',\n",
       "       'Open - with Option for Unscheduled Leave or Unscheduled Telework. 4 hours Staggered Early Departure - Employees Must Depart No Later Than 12:00 PM at Which Time Federal Offices are Closed',\n",
       "       'Open - 2 hours Delayed Arrival - With Option for Unscheduled Leave or Unscheduled Telework',\n",
       "       'Due to a lapse in appropriations, Federal government operations vary by agency.',\n",
       "       'Open - Delayed Arrival - Employees should remain off the roads until 10:00 am. Federal offices will Open at 12:00 noon. Employees have the option for Unscheduled Leave or Unscheduled Telework.',\n",
       "       'Open with option for Unscheduled Leave or Unscheduled Telework',\n",
       "       'Open - Delayed Arrival with option for Unscheduled Leave or Unscheduled Telework',\n",
       "       'Early Dismissal', 'Open - Early Departure',\n",
       "       'Open for Nuclear Summit 2010', 'Delayed Arrival/Unscheduled Leave',\n",
       "       'Closed', 'Unscheduled Leave/Early Dismissal', 'Unscheduled Leave',\n",
       "       'Tuesday, June 23', 'Power Outage Dismissal', 'Papal Visit Week',\n",
       "       'Closed for Mourning', 'Inauguration Eve 2005',\n",
       "       'Unscheduled Leave Due to Congestion', 'Delayed Arrival',\n",
       "       'Wash. DC Unscheduled Leave', 'Building Closure'], dtype=object)"
      ]
     },
     "execution_count": 17,
     "metadata": {},
     "output_type": "execute_result"
    }
   ],
   "source": [
    "# and what are they?\n",
    "opm.notice.unique()"
   ]
  },
  {
   "cell_type": "code",
   "execution_count": 18,
   "metadata": {
    "collapsed": false
   },
   "outputs": [
    {
     "name": "stdout",
     "output_type": "stream",
     "text": [
      "13\n"
     ]
    },
    {
     "data": {
      "text/html": [
       "<div>\n",
       "<table border=\"1\" class=\"dataframe\">\n",
       "  <thead>\n",
       "    <tr style=\"text-align: right;\">\n",
       "      <th></th>\n",
       "      <th>year</th>\n",
       "      <th>date</th>\n",
       "      <th>notice</th>\n",
       "      <th>clean_date</th>\n",
       "    </tr>\n",
       "  </thead>\n",
       "  <tbody>\n",
       "    <tr>\n",
       "      <th>76</th>\n",
       "      <td>2010</td>\n",
       "      <td>February 11</td>\n",
       "      <td>Closed</td>\n",
       "      <td>2010-02-11</td>\n",
       "    </tr>\n",
       "    <tr>\n",
       "      <th>77</th>\n",
       "      <td>2010</td>\n",
       "      <td>February 10</td>\n",
       "      <td>Closed</td>\n",
       "      <td>2010-02-10</td>\n",
       "    </tr>\n",
       "    <tr>\n",
       "      <th>78</th>\n",
       "      <td>2010</td>\n",
       "      <td>February 9</td>\n",
       "      <td>Closed</td>\n",
       "      <td>2010-02-09</td>\n",
       "    </tr>\n",
       "    <tr>\n",
       "      <th>79</th>\n",
       "      <td>2010</td>\n",
       "      <td>February 8</td>\n",
       "      <td>Closed</td>\n",
       "      <td>2010-02-08</td>\n",
       "    </tr>\n",
       "    <tr>\n",
       "      <th>85</th>\n",
       "      <td>2009</td>\n",
       "      <td>December 21, 2009</td>\n",
       "      <td>Closed</td>\n",
       "      <td>2009-12-21</td>\n",
       "    </tr>\n",
       "    <tr>\n",
       "      <th>116</th>\n",
       "      <td>2003</td>\n",
       "      <td>September 19</td>\n",
       "      <td>Closed</td>\n",
       "      <td>2003-09-19</td>\n",
       "    </tr>\n",
       "    <tr>\n",
       "      <th>117</th>\n",
       "      <td>2003</td>\n",
       "      <td>September 18</td>\n",
       "      <td>Closed</td>\n",
       "      <td>2003-09-18</td>\n",
       "    </tr>\n",
       "    <tr>\n",
       "      <th>119</th>\n",
       "      <td>2003</td>\n",
       "      <td>March 18</td>\n",
       "      <td>Closed</td>\n",
       "      <td>2003-03-18</td>\n",
       "    </tr>\n",
       "    <tr>\n",
       "      <th>124</th>\n",
       "      <td>2003</td>\n",
       "      <td>February 18</td>\n",
       "      <td>Closed</td>\n",
       "      <td>2003-02-18</td>\n",
       "    </tr>\n",
       "    <tr>\n",
       "      <th>136</th>\n",
       "      <td>2000</td>\n",
       "      <td>January 26</td>\n",
       "      <td>Closed</td>\n",
       "      <td>2000-01-26</td>\n",
       "    </tr>\n",
       "    <tr>\n",
       "      <th>137</th>\n",
       "      <td>2000</td>\n",
       "      <td>January 25, 2000</td>\n",
       "      <td>Closed</td>\n",
       "      <td>2000-01-25</td>\n",
       "    </tr>\n",
       "    <tr>\n",
       "      <th>147</th>\n",
       "      <td>2003</td>\n",
       "      <td>December 25</td>\n",
       "      <td>Closed</td>\n",
       "      <td>2003-12-25</td>\n",
       "    </tr>\n",
       "    <tr>\n",
       "      <th>148</th>\n",
       "      <td>2003</td>\n",
       "      <td>December 26</td>\n",
       "      <td>Closed</td>\n",
       "      <td>2003-12-26</td>\n",
       "    </tr>\n",
       "  </tbody>\n",
       "</table>\n",
       "</div>"
      ],
      "text/plain": [
       "     year               date  notice clean_date\n",
       "76   2010        February 11  Closed 2010-02-11\n",
       "77   2010        February 10  Closed 2010-02-10\n",
       "78   2010         February 9  Closed 2010-02-09\n",
       "79   2010         February 8  Closed 2010-02-08\n",
       "85   2009  December 21, 2009  Closed 2009-12-21\n",
       "116  2003       September 19  Closed 2003-09-19\n",
       "117  2003       September 18  Closed 2003-09-18\n",
       "119  2003           March 18  Closed 2003-03-18\n",
       "124  2003        February 18  Closed 2003-02-18\n",
       "136  2000         January 26  Closed 2000-01-26\n",
       "137  2000   January 25, 2000  Closed 2000-01-25\n",
       "147  2003        December 25  Closed 2003-12-25\n",
       "148  2003        December 26  Closed 2003-12-26"
      ]
     },
     "execution_count": 18,
     "metadata": {},
     "output_type": "execute_result"
    }
   ],
   "source": [
    "# how many closures?\n",
    "print(opm[opm.notice == 'Closed'].shape[0])\n",
    "opm[opm.notice == 'Closed']"
   ]
  },
  {
   "cell_type": "code",
   "execution_count": 19,
   "metadata": {
    "collapsed": false
   },
   "outputs": [
    {
     "name": "stdout",
     "output_type": "stream",
     "text": [
      "13\n"
     ]
    },
    {
     "data": {
      "text/html": [
       "<div>\n",
       "<table border=\"1\" class=\"dataframe\">\n",
       "  <thead>\n",
       "    <tr style=\"text-align: right;\">\n",
       "      <th></th>\n",
       "      <th>year</th>\n",
       "      <th>date</th>\n",
       "      <th>notice</th>\n",
       "      <th>clean_date</th>\n",
       "    </tr>\n",
       "  </thead>\n",
       "  <tbody>\n",
       "    <tr>\n",
       "      <th>1</th>\n",
       "      <td>2017</td>\n",
       "      <td>March 14, 2017</td>\n",
       "      <td>Open - 3 hours Delayed Arrival - With Option f...</td>\n",
       "      <td>2017-03-14</td>\n",
       "    </tr>\n",
       "    <tr>\n",
       "      <th>3</th>\n",
       "      <td>2016</td>\n",
       "      <td>February 16, 2016</td>\n",
       "      <td>Open - 3 hours Delayed Arrival - With Option f...</td>\n",
       "      <td>2016-02-16</td>\n",
       "    </tr>\n",
       "    <tr>\n",
       "      <th>6</th>\n",
       "      <td>2016</td>\n",
       "      <td>January 28, 2016</td>\n",
       "      <td>Open - 3 hours Delayed Arrival - With Option f...</td>\n",
       "      <td>2016-01-28</td>\n",
       "    </tr>\n",
       "    <tr>\n",
       "      <th>7</th>\n",
       "      <td>2016</td>\n",
       "      <td>January 27, 2016</td>\n",
       "      <td>Open - 3 hours Delayed Arrival - With Option f...</td>\n",
       "      <td>2016-01-27</td>\n",
       "    </tr>\n",
       "    <tr>\n",
       "      <th>12</th>\n",
       "      <td>2015</td>\n",
       "      <td>March 6, 2015</td>\n",
       "      <td>Open - 2 hours Delayed Arrival - With Option f...</td>\n",
       "      <td>2015-03-06</td>\n",
       "    </tr>\n",
       "    <tr>\n",
       "      <th>15</th>\n",
       "      <td>2015</td>\n",
       "      <td>March 2, 2015</td>\n",
       "      <td>Open - 2 hours Delayed Arrival - With Option f...</td>\n",
       "      <td>2015-03-02</td>\n",
       "    </tr>\n",
       "    <tr>\n",
       "      <th>16</th>\n",
       "      <td>2015</td>\n",
       "      <td>February 26, 2015</td>\n",
       "      <td>Open - 2 hours Delayed Arrival - With Option f...</td>\n",
       "      <td>2015-02-26</td>\n",
       "    </tr>\n",
       "    <tr>\n",
       "      <th>19</th>\n",
       "      <td>2015</td>\n",
       "      <td>January 27, 2015</td>\n",
       "      <td>Open - 2 hours Delayed Arrival - With Option f...</td>\n",
       "      <td>2015-01-27</td>\n",
       "    </tr>\n",
       "    <tr>\n",
       "      <th>23</th>\n",
       "      <td>2015</td>\n",
       "      <td>January 12, 2015</td>\n",
       "      <td>Open - 2 hours Delayed Arrival - With Option f...</td>\n",
       "      <td>2015-01-12</td>\n",
       "    </tr>\n",
       "    <tr>\n",
       "      <th>26</th>\n",
       "      <td>2014</td>\n",
       "      <td>March 4, 2014</td>\n",
       "      <td>Open - 2 hours Delayed Arrival - With Option f...</td>\n",
       "      <td>2014-03-04</td>\n",
       "    </tr>\n",
       "    <tr>\n",
       "      <th>29</th>\n",
       "      <td>2014</td>\n",
       "      <td>February 14, 2014</td>\n",
       "      <td>Open - 2 hours Delayed Arrival - With Option f...</td>\n",
       "      <td>2014-02-14</td>\n",
       "    </tr>\n",
       "    <tr>\n",
       "      <th>32</th>\n",
       "      <td>2014</td>\n",
       "      <td>January 22, 2014</td>\n",
       "      <td>Open - 2 hours Delayed Arrival - With Option f...</td>\n",
       "      <td>2014-01-22</td>\n",
       "    </tr>\n",
       "    <tr>\n",
       "      <th>36</th>\n",
       "      <td>2013</td>\n",
       "      <td>December 9, 2013</td>\n",
       "      <td>Open - 2 hours Delayed Arrival - With Option f...</td>\n",
       "      <td>2013-12-09</td>\n",
       "    </tr>\n",
       "  </tbody>\n",
       "</table>\n",
       "</div>"
      ],
      "text/plain": [
       "    year               date  \\\n",
       "1   2017     March 14, 2017   \n",
       "3   2016  February 16, 2016   \n",
       "6   2016   January 28, 2016   \n",
       "7   2016   January 27, 2016   \n",
       "12  2015      March 6, 2015   \n",
       "15  2015      March 2, 2015   \n",
       "16  2015  February 26, 2015   \n",
       "19  2015   January 27, 2015   \n",
       "23  2015   January 12, 2015   \n",
       "26  2014      March 4, 2014   \n",
       "29  2014  February 14, 2014   \n",
       "32  2014   January 22, 2014   \n",
       "36  2013   December 9, 2013   \n",
       "\n",
       "                                               notice clean_date  \n",
       "1   Open - 3 hours Delayed Arrival - With Option f... 2017-03-14  \n",
       "3   Open - 3 hours Delayed Arrival - With Option f... 2016-02-16  \n",
       "6   Open - 3 hours Delayed Arrival - With Option f... 2016-01-28  \n",
       "7   Open - 3 hours Delayed Arrival - With Option f... 2016-01-27  \n",
       "12  Open - 2 hours Delayed Arrival - With Option f... 2015-03-06  \n",
       "15  Open - 2 hours Delayed Arrival - With Option f... 2015-03-02  \n",
       "16  Open - 2 hours Delayed Arrival - With Option f... 2015-02-26  \n",
       "19  Open - 2 hours Delayed Arrival - With Option f... 2015-01-27  \n",
       "23  Open - 2 hours Delayed Arrival - With Option f... 2015-01-12  \n",
       "26  Open - 2 hours Delayed Arrival - With Option f... 2014-03-04  \n",
       "29  Open - 2 hours Delayed Arrival - With Option f... 2014-02-14  \n",
       "32  Open - 2 hours Delayed Arrival - With Option f... 2014-01-22  \n",
       "36  Open - 2 hours Delayed Arrival - With Option f... 2013-12-09  "
      ]
     },
     "execution_count": 19,
     "metadata": {},
     "output_type": "execute_result"
    }
   ],
   "source": [
    "# how many delays?\n",
    "print(opm[opm.notice.str.contains('hours delayed', case=False, regex=False)].shape[0])\n",
    "opm[opm.notice.str.contains('hours delayed', case=False, regex=False)]"
   ]
  },
  {
   "cell_type": "code",
   "execution_count": 20,
   "metadata": {
    "collapsed": true
   },
   "outputs": [],
   "source": [
    "# get closure - like a convo with your ex\n",
    "def get_closures(text):\n",
    "    if 'Closed' in text:\n",
    "        return 1\n",
    "    else:\n",
    "        return 0"
   ]
  },
  {
   "cell_type": "code",
   "execution_count": 21,
   "metadata": {
    "collapsed": true
   },
   "outputs": [],
   "source": [
    "# get delays - like an Amtrak\n",
    "def get_delays(text):\n",
    "    if 'hours Delayed' in text:\n",
    "        return 1\n",
    "    else:\n",
    "        return 0"
   ]
  },
  {
   "cell_type": "code",
   "execution_count": 22,
   "metadata": {
    "collapsed": false
   },
   "outputs": [],
   "source": [
    "# get either - like...I dunno\n",
    "strings = (\"hours Delayed\", \"Closed\")\n",
    "def get_closures_delays(text):\n",
    "    if any(s in text for s in strings):\n",
    "        return 1\n",
    "    else:\n",
    "        return 0"
   ]
  },
  {
   "cell_type": "code",
   "execution_count": 23,
   "metadata": {
    "collapsed": true
   },
   "outputs": [],
   "source": [
    "# add columns for closures, delays, or either to dataset \n",
    "opm['closed']= opm.notice.apply(lambda text: get_closures(text))\n",
    "opm['delayed'] = opm.notice.apply(lambda text: get_delays(text))\n",
    "opm['delayed_or_closed'] = opm.notice.apply(lambda text: get_closures_delays(text))"
   ]
  },
  {
   "cell_type": "code",
   "execution_count": 24,
   "metadata": {
    "collapsed": false
   },
   "outputs": [
    {
     "data": {
      "text/html": [
       "<div>\n",
       "<table border=\"1\" class=\"dataframe\">\n",
       "  <thead>\n",
       "    <tr style=\"text-align: right;\">\n",
       "      <th></th>\n",
       "      <th>year</th>\n",
       "      <th>date</th>\n",
       "      <th>notice</th>\n",
       "      <th>clean_date</th>\n",
       "      <th>closed</th>\n",
       "      <th>delayed</th>\n",
       "      <th>delayed_or_closed</th>\n",
       "    </tr>\n",
       "  </thead>\n",
       "  <tbody>\n",
       "    <tr>\n",
       "      <th>0</th>\n",
       "      <td>2017</td>\n",
       "      <td>March 15, 2017</td>\n",
       "      <td>Open</td>\n",
       "      <td>2017-03-15</td>\n",
       "      <td>0</td>\n",
       "      <td>0</td>\n",
       "      <td>0</td>\n",
       "    </tr>\n",
       "    <tr>\n",
       "      <th>1</th>\n",
       "      <td>2017</td>\n",
       "      <td>March 14, 2017</td>\n",
       "      <td>Open - 3 hours Delayed Arrival - With Option f...</td>\n",
       "      <td>2017-03-14</td>\n",
       "      <td>0</td>\n",
       "      <td>1</td>\n",
       "      <td>1</td>\n",
       "    </tr>\n",
       "    <tr>\n",
       "      <th>2</th>\n",
       "      <td>2016</td>\n",
       "      <td>March 16, 2016</td>\n",
       "      <td>Open with Option for Unscheduled Leave or Unsc...</td>\n",
       "      <td>2016-03-16</td>\n",
       "      <td>0</td>\n",
       "      <td>0</td>\n",
       "      <td>0</td>\n",
       "    </tr>\n",
       "    <tr>\n",
       "      <th>3</th>\n",
       "      <td>2016</td>\n",
       "      <td>February 16, 2016</td>\n",
       "      <td>Open - 3 hours Delayed Arrival - With Option f...</td>\n",
       "      <td>2016-02-16</td>\n",
       "      <td>0</td>\n",
       "      <td>1</td>\n",
       "      <td>1</td>\n",
       "    </tr>\n",
       "    <tr>\n",
       "      <th>4</th>\n",
       "      <td>2016</td>\n",
       "      <td>February 9, 2016</td>\n",
       "      <td>Open with Option for Unscheduled Leave or Unsc...</td>\n",
       "      <td>2016-02-09</td>\n",
       "      <td>0</td>\n",
       "      <td>0</td>\n",
       "      <td>0</td>\n",
       "    </tr>\n",
       "  </tbody>\n",
       "</table>\n",
       "</div>"
      ],
      "text/plain": [
       "   year               date                                             notice  \\\n",
       "0  2017     March 15, 2017                                               Open   \n",
       "1  2017     March 14, 2017  Open - 3 hours Delayed Arrival - With Option f...   \n",
       "2  2016     March 16, 2016  Open with Option for Unscheduled Leave or Unsc...   \n",
       "3  2016  February 16, 2016  Open - 3 hours Delayed Arrival - With Option f...   \n",
       "4  2016   February 9, 2016  Open with Option for Unscheduled Leave or Unsc...   \n",
       "\n",
       "  clean_date  closed  delayed  delayed_or_closed  \n",
       "0 2017-03-15       0        0                  0  \n",
       "1 2017-03-14       0        1                  1  \n",
       "2 2016-03-16       0        0                  0  \n",
       "3 2016-02-16       0        1                  1  \n",
       "4 2016-02-09       0        0                  0  "
      ]
     },
     "execution_count": 24,
     "metadata": {},
     "output_type": "execute_result"
    }
   ],
   "source": [
    "opm.head()"
   ]
  },
  {
   "cell_type": "code",
   "execution_count": 25,
   "metadata": {
    "collapsed": true
   },
   "outputs": [],
   "source": [
    "opm_ts = opm.set_index('clean_date')"
   ]
  },
  {
   "cell_type": "code",
   "execution_count": 65,
   "metadata": {
    "collapsed": false
   },
   "outputs": [
    {
     "data": {
      "image/png": "[encoded data removed]",
      "text/plain": [
       "<matplotlib.figure.Figure at 0x114cf6450>"
      ]
     },
     "metadata": {},
     "output_type": "display_data"
    }
   ],
   "source": [
    "# plot closure/delays over time\n",
    "fig, ax = plt.subplots()\n",
    "plt.suptitle(\"Federal Delays Due to Snow are Becoming More Popular\", size=16)\n",
    "plt.title(\"Federal Government Closures and Delays\", size=12)\n",
    "plt.xlabel('Time')\n",
    "ax.vlines(x=(opm_ts[opm_ts['closed'] == 1].index), ymin=0, ymax=1, color='red', linewidth=2, label='Closed')\n",
    "ax.vlines(x=(opm_ts[opm_ts['delayed'] == 1].index), ymin=0, ymax=1, color='orange', linewidth=2, label='Delayed')\n",
    "plt.xlim(['1999-06', '2017-10'])\n",
    "plt.yticks([])\n",
    "plt.ylabel('')\n",
    "plt.legend(loc='lower left')\n",
    "fig.set_size_inches(20, 6)\n",
    "plt.savefig('./graphs/closures-delays.png', dpi=300, bbox_inches='tight')\n",
    "plt.show()"
   ]
  },
  {
   "cell_type": "code",
   "execution_count": null,
   "metadata": {
    "collapsed": true
   },
   "outputs": [],
   "source": []
  },
  {
   "cell_type": "markdown",
   "metadata": {},
   "source": [
    "## Google Search Volume Data\n",
    "\n",
    "Read in the data, make a few plots."
   ]
  },
  {
   "cell_type": "code",
   "execution_count": 27,
   "metadata": {
    "collapsed": false
   },
   "outputs": [
    {
     "data": {
      "text/html": [
       "<div>\n",
       "<table border=\"1\" class=\"dataframe\">\n",
       "  <thead>\n",
       "    <tr style=\"text-align: right;\">\n",
       "      <th></th>\n",
       "      <th>Week</th>\n",
       "      <th>snow: (District of Columbia)</th>\n",
       "    </tr>\n",
       "  </thead>\n",
       "  <tbody>\n",
       "    <tr>\n",
       "      <th>0</th>\n",
       "      <td>3/25/12</td>\n",
       "      <td>3</td>\n",
       "    </tr>\n",
       "    <tr>\n",
       "      <th>1</th>\n",
       "      <td>4/1/12</td>\n",
       "      <td>3</td>\n",
       "    </tr>\n",
       "    <tr>\n",
       "      <th>2</th>\n",
       "      <td>4/8/12</td>\n",
       "      <td>3</td>\n",
       "    </tr>\n",
       "    <tr>\n",
       "      <th>3</th>\n",
       "      <td>4/15/12</td>\n",
       "      <td>3</td>\n",
       "    </tr>\n",
       "    <tr>\n",
       "      <th>4</th>\n",
       "      <td>4/22/12</td>\n",
       "      <td>4</td>\n",
       "    </tr>\n",
       "  </tbody>\n",
       "</table>\n",
       "</div>"
      ],
      "text/plain": [
       "      Week  snow: (District of Columbia)\n",
       "0  3/25/12                             3\n",
       "1   4/1/12                             3\n",
       "2   4/8/12                             3\n",
       "3  4/15/12                             3\n",
       "4  4/22/12                             4"
      ]
     },
     "execution_count": 27,
     "metadata": {},
     "output_type": "execute_result"
    }
   ],
   "source": [
    "# read in data\n",
    "search = pd.read_csv('./google-trends-dc-snow.csv')\n",
    "search.head()"
   ]
  },
  {
   "cell_type": "code",
   "execution_count": 28,
   "metadata": {
    "collapsed": false
   },
   "outputs": [
    {
     "data": {
      "text/html": [
       "<div>\n",
       "<table border=\"1\" class=\"dataframe\">\n",
       "  <thead>\n",
       "    <tr style=\"text-align: right;\">\n",
       "      <th></th>\n",
       "      <th>week</th>\n",
       "      <th>volume</th>\n",
       "    </tr>\n",
       "  </thead>\n",
       "  <tbody>\n",
       "    <tr>\n",
       "      <th>0</th>\n",
       "      <td>3/25/12</td>\n",
       "      <td>3</td>\n",
       "    </tr>\n",
       "    <tr>\n",
       "      <th>1</th>\n",
       "      <td>4/1/12</td>\n",
       "      <td>3</td>\n",
       "    </tr>\n",
       "    <tr>\n",
       "      <th>2</th>\n",
       "      <td>4/8/12</td>\n",
       "      <td>3</td>\n",
       "    </tr>\n",
       "    <tr>\n",
       "      <th>3</th>\n",
       "      <td>4/15/12</td>\n",
       "      <td>3</td>\n",
       "    </tr>\n",
       "    <tr>\n",
       "      <th>4</th>\n",
       "      <td>4/22/12</td>\n",
       "      <td>4</td>\n",
       "    </tr>\n",
       "  </tbody>\n",
       "</table>\n",
       "</div>"
      ],
      "text/plain": [
       "      week  volume\n",
       "0  3/25/12       3\n",
       "1   4/1/12       3\n",
       "2   4/8/12       3\n",
       "3  4/15/12       3\n",
       "4  4/22/12       4"
      ]
     },
     "execution_count": 28,
     "metadata": {},
     "output_type": "execute_result"
    }
   ],
   "source": [
    "# rename columns\n",
    "search.rename(columns={'Week':'week', 'snow: (District of Columbia)':'volume'}, inplace=True)\n",
    "search.head()"
   ]
  },
  {
   "cell_type": "code",
   "execution_count": 29,
   "metadata": {
    "collapsed": true
   },
   "outputs": [],
   "source": [
    "# format week column to datetime\n",
    "search['week'] =  pd.to_datetime(search['week'])\n",
    "# create timeseries\n",
    "search_ts = search.set_index('week')"
   ]
  },
  {
   "cell_type": "code",
   "execution_count": 30,
   "metadata": {
    "collapsed": false
   },
   "outputs": [
    {
     "data": {
      "image/png": "[encoded data removed]",
      "text/plain": [
       "<matplotlib.figure.Figure at 0x11293c350>"
      ]
     },
     "metadata": {},
     "output_type": "display_data"
    }
   ],
   "source": [
    "# plot it\n",
    "search_ts.plot(color='dodgerblue', legend=None)\n",
    "plt.suptitle(\"Looking for Snow\", y=.99, size=16)\n",
    "plt.title(\"Google searches for 'Snow' in DC\", y=1.01, size=12)\n",
    "plt.xlim([search_ts.index.min(), '2017-04'])\n",
    "plt.xlabel('Time')\n",
    "plt.ylabel('Search Volume')\n",
    "plt.savefig('./graphs/snow-searches.png', dpi=300, bbox_inches='tight')\n",
    "plt.show()"
   ]
  },
  {
   "cell_type": "code",
   "execution_count": 31,
   "metadata": {
    "collapsed": false
   },
   "outputs": [
    {
     "data": {
      "text/plain": [
       "Timestamp('2012-03-25 00:00:00')"
      ]
     },
     "execution_count": 31,
     "metadata": {},
     "output_type": "execute_result"
    }
   ],
   "source": [
    "# earliest search data?\n",
    "search_ts.index.min()"
   ]
  },
  {
   "cell_type": "code",
   "execution_count": 32,
   "metadata": {
    "collapsed": false
   },
   "outputs": [],
   "source": [
    "# get federal data to match\n",
    "opm_ts_12 = opm_ts['2012-03-25':]"
   ]
  },
  {
   "cell_type": "code",
   "execution_count": 70,
   "metadata": {
    "collapsed": false
   },
   "outputs": [
    {
     "data": {
      "image/png": "[encoded data removed]",
      "text/plain": [
       "<matplotlib.figure.Figure at 0x114d33a50>"
      ]
     },
     "metadata": {},
     "output_type": "display_data"
    }
   ],
   "source": [
    "# plot snow searches vs snow closures\n",
    "fig, ax = plt.subplots()\n",
    "ax.vlines(x=(opm_ts_12[opm_ts_12['closed'] == 1].index), ymin=0, ymax=100, color='red', linestyles='dashed', linewidth=0.5, label='Closure')\n",
    "ax.plot(search_ts, color='dodgerblue')\n",
    "plt.xlim([search_ts.index.min(), '2017-04'])\n",
    "\n",
    "plt.suptitle(\"Looking for Snow\", y=.99, size=16)\n",
    "plt.title(\"Google searches for 'Snow' in DC vs Federal Government Closures\", y=1.01, size=12)\n",
    "plt.xlabel('Time')\n",
    "plt.ylabel('Google Search Volume')\n",
    "plt.legend(loc='best')\n",
    "#plt.savefig('./graphs/searches-vs-closures.png', dpi=300, bbox_inches='tight')\n",
    "plt.show()"
   ]
  },
  {
   "cell_type": "code",
   "execution_count": 34,
   "metadata": {
    "collapsed": false
   },
   "outputs": [
    {
     "data": {
      "text/html": [
       "<div>\n",
       "<table border=\"1\" class=\"dataframe\">\n",
       "  <thead>\n",
       "    <tr style=\"text-align: right;\">\n",
       "      <th></th>\n",
       "      <th>week</th>\n",
       "      <th>volume</th>\n",
       "    </tr>\n",
       "  </thead>\n",
       "  <tbody>\n",
       "    <tr>\n",
       "      <th>0</th>\n",
       "      <td>2012-03-25</td>\n",
       "      <td>3</td>\n",
       "    </tr>\n",
       "    <tr>\n",
       "      <th>1</th>\n",
       "      <td>2012-04-01</td>\n",
       "      <td>3</td>\n",
       "    </tr>\n",
       "    <tr>\n",
       "      <th>2</th>\n",
       "      <td>2012-04-08</td>\n",
       "      <td>3</td>\n",
       "    </tr>\n",
       "    <tr>\n",
       "      <th>3</th>\n",
       "      <td>2012-04-15</td>\n",
       "      <td>3</td>\n",
       "    </tr>\n",
       "    <tr>\n",
       "      <th>4</th>\n",
       "      <td>2012-04-22</td>\n",
       "      <td>4</td>\n",
       "    </tr>\n",
       "  </tbody>\n",
       "</table>\n",
       "</div>"
      ],
      "text/plain": [
       "        week  volume\n",
       "0 2012-03-25       3\n",
       "1 2012-04-01       3\n",
       "2 2012-04-08       3\n",
       "3 2012-04-15       3\n",
       "4 2012-04-22       4"
      ]
     },
     "execution_count": 34,
     "metadata": {},
     "output_type": "execute_result"
    }
   ],
   "source": [
    "search.head()"
   ]
  },
  {
   "cell_type": "code",
   "execution_count": null,
   "metadata": {
    "collapsed": true
   },
   "outputs": [],
   "source": []
  },
  {
   "cell_type": "code",
   "execution_count": null,
   "metadata": {
    "collapsed": true
   },
   "outputs": [],
   "source": []
  },
  {
   "cell_type": "code",
   "execution_count": null,
   "metadata": {
    "collapsed": true
   },
   "outputs": [],
   "source": []
  },
  {
   "cell_type": "code",
   "execution_count": null,
   "metadata": {
    "collapsed": true
   },
   "outputs": [],
   "source": []
  }
 ],
 "metadata": {
  "anaconda-cloud": {},
  "kernelspec": {
   "display_name": "Python [Root]",
   "language": "python",
   "name": "Python [Root]"
  },
  "language_info": {
   "codemirror_mode": {
    "name": "ipython",
    "version": 2
   },
   "file_extension": ".py",
   "mimetype": "text/x-python",
   "name": "python",
   "nbconvert_exporter": "python",
   "pygments_lexer": "ipython2",
   "version": "2.7.12"
  }
 },
 "nbformat": 4,
 "nbformat_minor": 2
}
